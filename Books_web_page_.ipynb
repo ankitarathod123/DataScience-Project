{
  "nbformat": 4,
  "nbformat_minor": 0,
  "metadata": {
    "colab": {
      "provenance": []
    },
    "kernelspec": {
      "name": "python3",
      "display_name": "Python 3"
    },
    "language_info": {
      "name": "python"
    }
  },
  "cells": [
    {
      "cell_type": "code",
      "execution_count": null,
      "metadata": {
        "id": "ieZ7Q3K2q7Pz"
      },
      "outputs": [],
      "source": [
        "import requests"
      ]
    },
    {
      "cell_type": "code",
      "source": [
        "from bs4 import BeautifulSoup as bs"
      ],
      "metadata": {
        "id": "KmqyMnCxxuHB"
      },
      "execution_count": null,
      "outputs": []
    },
    {
      "cell_type": "code",
      "source": [
        "url='http://books.toscrape.com/'\n",
        "response=requests.get(url)\n",
        "response"
      ],
      "metadata": {
        "colab": {
          "base_uri": "https://localhost:8080/"
        },
        "id": "0HfyEJxdsphu",
        "outputId": "861b3f59-11cb-4946-cfc0-71818a2c1b3c"
      },
      "execution_count": null,
      "outputs": [
        {
          "output_type": "execute_result",
          "data": {
            "text/plain": [
              "<Response [200]>"
            ]
          },
          "metadata": {},
          "execution_count": 4
        }
      ]
    },
    {
      "cell_type": "code",
      "source": [
        "response.status_code"
      ],
      "metadata": {
        "colab": {
          "base_uri": "https://localhost:8080/"
        },
        "id": "pDlQzB9Zs774",
        "outputId": "c2d90463-4049-4977-e5f6-68a8b67f7848"
      },
      "execution_count": null,
      "outputs": [
        {
          "output_type": "execute_result",
          "data": {
            "text/plain": [
              "200"
            ]
          },
          "metadata": {},
          "execution_count": 5
        }
      ]
    },
    {
      "cell_type": "code",
      "source": [
        "print(response.text[:1000])"
      ],
      "metadata": {
        "colab": {
          "base_uri": "https://localhost:8080/"
        },
        "id": "QutjhginvOrC",
        "outputId": "e87bd7f0-cd7e-4f8a-c4a7-740b96c2e59c"
      },
      "execution_count": null,
      "outputs": [
        {
          "output_type": "stream",
          "name": "stdout",
          "text": [
            "<!DOCTYPE html>\n",
            "<!--[if lt IE 7]>      <html lang=\"en-us\" class=\"no-js lt-ie9 lt-ie8 lt-ie7\"> <![endif]-->\n",
            "<!--[if IE 7]>         <html lang=\"en-us\" class=\"no-js lt-ie9 lt-ie8\"> <![endif]-->\n",
            "<!--[if IE 8]>         <html lang=\"en-us\" class=\"no-js lt-ie9\"> <![endif]-->\n",
            "<!--[if gt IE 8]><!--> <html lang=\"en-us\" class=\"no-js\"> <!--<![endif]-->\n",
            "    <head>\n",
            "        <title>\n",
            "    All products | Books to Scrape - Sandbox\n",
            "</title>\n",
            "\n",
            "        <meta http-equiv=\"content-type\" content=\"text/html; charset=UTF-8\" />\n",
            "        <meta name=\"created\" content=\"24th Jun 2016 09:29\" />\n",
            "        <meta name=\"description\" content=\"\" />\n",
            "        <meta name=\"viewport\" content=\"width=device-width\" />\n",
            "        <meta name=\"robots\" content=\"NOARCHIVE,NOCACHE\" />\n",
            "\n",
            "        <!-- Le HTML5 shim, for IE6-8 support of HTML elements -->\n",
            "        <!--[if lt IE 9]>\n",
            "        <script src=\"//html5shim.googlecode.com/svn/trunk/html5.js\"></script>\n",
            "        <![endif]-->\n",
            "\n",
            "        \n",
            "            <link rel=\"shortcut icon\" href=\"static/oscar/favicon.\n"
          ]
        }
      ]
    },
    {
      "cell_type": "code",
      "source": [
        "type(response.text)"
      ],
      "metadata": {
        "colab": {
          "base_uri": "https://localhost:8080/"
        },
        "id": "4aJhsaSpwSMD",
        "outputId": "49980cd0-ea5a-4c43-d6fc-04218850ae44"
      },
      "execution_count": null,
      "outputs": [
        {
          "output_type": "execute_result",
          "data": {
            "text/plain": [
              "str"
            ]
          },
          "metadata": {},
          "execution_count": 7
        }
      ]
    },
    {
      "cell_type": "code",
      "source": [
        "soup = bs(response.text)\n",
        "type(soup)\n"
      ],
      "metadata": {
        "colab": {
          "base_uri": "https://localhost:8080/"
        },
        "id": "qMHt3ctVwcp0",
        "outputId": "b276a4c6-7a6c-4a1e-cc26-99b4533b1f75"
      },
      "execution_count": null,
      "outputs": [
        {
          "output_type": "execute_result",
          "data": {
            "text/plain": [
              "bs4.BeautifulSoup"
            ]
          },
          "metadata": {},
          "execution_count": 8
        }
      ]
    },
    {
      "cell_type": "code",
      "source": [
        "soup.find('title').text"
      ],
      "metadata": {
        "colab": {
          "base_uri": "https://localhost:8080/",
          "height": 35
        },
        "id": "JbLL0Qn2w2CN",
        "outputId": "60d837f9-cb91-4f4d-b946-ce40f0bc5f90"
      },
      "execution_count": null,
      "outputs": [
        {
          "output_type": "execute_result",
          "data": {
            "text/plain": [
              "'\\n    All products | Books to Scrape - Sandbox\\n'"
            ],
            "application/vnd.google.colaboratory.intrinsic+json": {
              "type": "string"
            }
          },
          "metadata": {},
          "execution_count": 9
        }
      ]
    },
    {
      "cell_type": "code",
      "source": [
        "soup.find('title').text.strip()"
      ],
      "metadata": {
        "colab": {
          "base_uri": "https://localhost:8080/",
          "height": 35
        },
        "id": "PheFYwkoxr7F",
        "outputId": "eeab13f4-726c-48f8-a267-2817491e7cbf"
      },
      "execution_count": null,
      "outputs": [
        {
          "output_type": "execute_result",
          "data": {
            "text/plain": [
              "'All products | Books to Scrape - Sandbox'"
            ],
            "application/vnd.google.colaboratory.intrinsic+json": {
              "type": "string"
            }
          },
          "metadata": {},
          "execution_count": 10
        }
      ]
    },
    {
      "cell_type": "code",
      "source": [
        "books_tag = soup.find_all('article', class_='product_pod')"
      ],
      "metadata": {
        "id": "8NRbxcjHyQlf"
      },
      "execution_count": null,
      "outputs": []
    },
    {
      "cell_type": "code",
      "source": [
        "len(books_tag)"
      ],
      "metadata": {
        "colab": {
          "base_uri": "https://localhost:8080/"
        },
        "id": "ZNoK0Qex0K4R",
        "outputId": "98ad63d6-0399-44ed-8a87-a23e50263f4b"
      },
      "execution_count": null,
      "outputs": [
        {
          "output_type": "execute_result",
          "data": {
            "text/plain": [
              "20"
            ]
          },
          "metadata": {},
          "execution_count": 12
        }
      ]
    },
    {
      "cell_type": "code",
      "source": [
        "book_tag=books_tag[0]\n",
        "book_tag"
      ],
      "metadata": {
        "colab": {
          "base_uri": "https://localhost:8080/"
        },
        "id": "IQwzeAU80Ro7",
        "outputId": "900f2a7a-ed7e-439e-fc46-59845ec4532a"
      },
      "execution_count": null,
      "outputs": [
        {
          "output_type": "execute_result",
          "data": {
            "text/plain": [
              "<article class=\"product_pod\">\n",
              "<div class=\"image_container\">\n",
              "<a href=\"catalogue/a-light-in-the-attic_1000/index.html\"><img alt=\"A Light in the Attic\" class=\"thumbnail\" src=\"media/cache/2c/da/2cdad67c44b002e7ead0cc35693c0e8b.jpg\"/></a>\n",
              "</div>\n",
              "<p class=\"star-rating Three\">\n",
              "<i class=\"icon-star\"></i>\n",
              "<i class=\"icon-star\"></i>\n",
              "<i class=\"icon-star\"></i>\n",
              "<i class=\"icon-star\"></i>\n",
              "<i class=\"icon-star\"></i>\n",
              "</p>\n",
              "<h3><a href=\"catalogue/a-light-in-the-attic_1000/index.html\" title=\"A Light in the Attic\">A Light in the ...</a></h3>\n",
              "<div class=\"product_price\">\n",
              "<p class=\"price_color\">Â£51.77</p>\n",
              "<p class=\"instock availability\">\n",
              "<i class=\"icon-ok\"></i>\n",
              "    \n",
              "        In stock\n",
              "    \n",
              "</p>\n",
              "<form>\n",
              "<button class=\"btn btn-primary btn-block\" data-loading-text=\"Adding...\" type=\"submit\">Add to basket</button>\n",
              "</form>\n",
              "</div>\n",
              "</article>"
            ]
          },
          "metadata": {},
          "execution_count": 13
        }
      ]
    },
    {
      "cell_type": "code",
      "source": [
        "title_tag = book_tag.find('a', title=True)\n",
        "title_tag"
      ],
      "metadata": {
        "colab": {
          "base_uri": "https://localhost:8080/"
        },
        "id": "vvhoy4PB0dTI",
        "outputId": "f0368c60-2b29-4e85-8a0f-5d7839bd2fbe"
      },
      "execution_count": null,
      "outputs": [
        {
          "output_type": "execute_result",
          "data": {
            "text/plain": [
              "<a href=\"catalogue/a-light-in-the-attic_1000/index.html\" title=\"A Light in the Attic\">A Light in the ...</a>"
            ]
          },
          "metadata": {},
          "execution_count": 14
        }
      ]
    },
    {
      "cell_type": "code",
      "source": [
        "title_tag.text"
      ],
      "metadata": {
        "colab": {
          "base_uri": "https://localhost:8080/",
          "height": 35
        },
        "id": "sYAw2Now0tQS",
        "outputId": "89c70103-7cf5-4cf5-f4bc-de824780c544"
      },
      "execution_count": null,
      "outputs": [
        {
          "output_type": "execute_result",
          "data": {
            "text/plain": [
              "'A Light in the ...'"
            ],
            "application/vnd.google.colaboratory.intrinsic+json": {
              "type": "string"
            }
          },
          "metadata": {},
          "execution_count": 15
        }
      ]
    },
    {
      "cell_type": "code",
      "source": [
        "title_tag['title']"
      ],
      "metadata": {
        "colab": {
          "base_uri": "https://localhost:8080/",
          "height": 35
        },
        "id": "oGfzw4Z20zJ0",
        "outputId": "4f71315d-4ce8-43d0-80a4-db9e4910be0e"
      },
      "execution_count": null,
      "outputs": [
        {
          "output_type": "execute_result",
          "data": {
            "text/plain": [
              "'A Light in the Attic'"
            ],
            "application/vnd.google.colaboratory.intrinsic+json": {
              "type": "string"
            }
          },
          "metadata": {},
          "execution_count": 16
        }
      ]
    },
    {
      "cell_type": "code",
      "source": [
        "title = book_tag.find('a', title=True)['title']\n",
        "title"
      ],
      "metadata": {
        "colab": {
          "base_uri": "https://localhost:8080/",
          "height": 35
        },
        "id": "DPKT0ynt1B7F",
        "outputId": "e527c3a4-193e-417b-be1a-396860711814"
      },
      "execution_count": null,
      "outputs": [
        {
          "output_type": "execute_result",
          "data": {
            "text/plain": [
              "'A Light in the Attic'"
            ],
            "application/vnd.google.colaboratory.intrinsic+json": {
              "type": "string"
            }
          },
          "metadata": {},
          "execution_count": 17
        }
      ]
    },
    {
      "cell_type": "code",
      "source": [
        "rating = book_tag.find('p')['class'][1]\n",
        "rating"
      ],
      "metadata": {
        "colab": {
          "base_uri": "https://localhost:8080/",
          "height": 35
        },
        "id": "tKpgzHBT1ZoW",
        "outputId": "7d533938-c520-4031-d293-d20ebbd623e7"
      },
      "execution_count": null,
      "outputs": [
        {
          "output_type": "execute_result",
          "data": {
            "text/plain": [
              "'Three'"
            ],
            "application/vnd.google.colaboratory.intrinsic+json": {
              "type": "string"
            }
          },
          "metadata": {},
          "execution_count": 18
        }
      ]
    },
    {
      "cell_type": "code",
      "source": [
        "price = book_tag.find('p', class_='price_color').text[1:]\n",
        "price"
      ],
      "metadata": {
        "colab": {
          "base_uri": "https://localhost:8080/",
          "height": 35
        },
        "id": "zSwtwwXR1iWR",
        "outputId": "50012e14-5e33-468b-9bca-9990cb017ada"
      },
      "execution_count": null,
      "outputs": [
        {
          "output_type": "execute_result",
          "data": {
            "text/plain": [
              "'£51.77'"
            ],
            "application/vnd.google.colaboratory.intrinsic+json": {
              "type": "string"
            }
          },
          "metadata": {},
          "execution_count": 19
        }
      ]
    },
    {
      "cell_type": "code",
      "source": [
        "link = 'http://books.toscrape.com/' + book_tag.find('a')['href']\n",
        "link\n"
      ],
      "metadata": {
        "colab": {
          "base_uri": "https://localhost:8080/",
          "height": 35
        },
        "id": "mNr4nRiV1v53",
        "outputId": "aee3885f-83e7-4888-ae4f-b345dbc5166d"
      },
      "execution_count": null,
      "outputs": [
        {
          "output_type": "execute_result",
          "data": {
            "text/plain": [
              "'http://books.toscrape.com/catalogue/a-light-in-the-attic_1000/index.html'"
            ],
            "application/vnd.google.colaboratory.intrinsic+json": {
              "type": "string"
            }
          },
          "metadata": {},
          "execution_count": 20
        }
      ]
    },
    {
      "cell_type": "code",
      "source": [
        "def get_details(book_tag):\n",
        "  title = book_tag.find('a', title=True)['title']\n",
        "  rating = book_tag.find('p')['class'][1]\n",
        "  price = book_tag.find('p', class_='price_color').text[1:]\n",
        "  link = 'http://books.toscrape.com/' + book_tag.find('a')['href']\n",
        "  return title, rating, price, link"
      ],
      "metadata": {
        "id": "bMeZm2iI2Iqc"
      },
      "execution_count": null,
      "outputs": []
    },
    {
      "cell_type": "code",
      "source": [
        "def get_soup(url):\n",
        "    \"\"\"Takes URL and returns a soup object\"\"\"\n",
        "    resp = requests.get(url)\n",
        "    if resp.status_code == 200:\n",
        "          return bs(resp.text)\n",
        "    else: return None\n",
        "def get_books(url):\n",
        "    \"\"\"Extact details from all the book tags\"\"\"\n",
        "    soup=get_soup(url)\n",
        "    book_tags = soup.find_all('article', class_='product_pod')\n",
        "\n",
        "    books = []\n",
        "    for book_tag in book_tags:\n",
        "        books.append(get_details(book_tag))\n",
        "\n",
        "    return books"
      ],
      "metadata": {
        "id": "hHl3Dqhm2cks"
      },
      "execution_count": null,
      "outputs": []
    },
    {
      "cell_type": "code",
      "source": [
        "url = 'http://books.toscrape.com/'\n",
        "books = get_books(url)\n",
        "len(books)\n"
      ],
      "metadata": {
        "colab": {
          "base_uri": "https://localhost:8080/"
        },
        "id": "zuMQ0Kvo3qWu",
        "outputId": "e231eff0-e071-45e2-d5cf-5179dfae0fae"
      },
      "execution_count": null,
      "outputs": [
        {
          "output_type": "execute_result",
          "data": {
            "text/plain": [
              "20"
            ]
          },
          "metadata": {},
          "execution_count": 23
        }
      ]
    },
    {
      "cell_type": "code",
      "source": [
        "books[:3]"
      ],
      "metadata": {
        "colab": {
          "base_uri": "https://localhost:8080/"
        },
        "id": "nTDr8Mok584B",
        "outputId": "1d4eccf8-067a-4a7e-99d2-2b791087294b"
      },
      "execution_count": null,
      "outputs": [
        {
          "output_type": "execute_result",
          "data": {
            "text/plain": [
              "[('A Light in the Attic',\n",
              "  'Three',\n",
              "  '£51.77',\n",
              "  'http://books.toscrape.com/catalogue/a-light-in-the-attic_1000/index.html'),\n",
              " ('Tipping the Velvet',\n",
              "  'One',\n",
              "  '£53.74',\n",
              "  'http://books.toscrape.com/catalogue/tipping-the-velvet_999/index.html'),\n",
              " ('Soumission',\n",
              "  'One',\n",
              "  '£50.10',\n",
              "  'http://books.toscrape.com/catalogue/soumission_998/index.html')]"
            ]
          },
          "metadata": {},
          "execution_count": 24
        }
      ]
    },
    {
      "cell_type": "code",
      "source": [
        "import pandas as pd"
      ],
      "metadata": {
        "id": "1-ZjR2ui6ILM"
      },
      "execution_count": null,
      "outputs": []
    },
    {
      "cell_type": "code",
      "source": [
        "def get_all_books(page=3):\n",
        "  books=[]\n",
        "  for i in range(1, page+1):\n",
        "   url = f'http://books.toscrape.com/catalogue/page-{i}.html'\n",
        "   soup=get_soup(url)\n",
        "   if soup:\n",
        "      book_tags = soup.find_all('article', class_='product_pod')\n",
        "\n",
        "      for book_tag in book_tags:\n",
        "          books.append(get_details(book_tag))\n",
        "\n",
        "  books = pd.DataFrame(books, columns=['title', 'rating', 'price', 'link'])\n",
        "  return books"
      ],
      "metadata": {
        "id": "mBrSo3tF6drT"
      },
      "execution_count": null,
      "outputs": []
    },
    {
      "cell_type": "code",
      "source": [
        "df = get_all_books(3)\n",
        "df"
      ],
      "metadata": {
        "colab": {
          "base_uri": "https://localhost:8080/",
          "height": 1000
        },
        "id": "nHdlFVGY7mbq",
        "outputId": "0523849c-4c04-47a4-c24c-6ecf39b650ba"
      },
      "execution_count": null,
      "outputs": [
        {
          "output_type": "execute_result",
          "data": {
            "text/plain": [
              "                                                title rating   price  \\\n",
              "0                                A Light in the Attic  Three  £51.77   \n",
              "1                                  Tipping the Velvet    One  £53.74   \n",
              "2                                          Soumission    One  £50.10   \n",
              "3                                       Sharp Objects   Four  £47.82   \n",
              "4               Sapiens: A Brief History of Humankind   Five  £54.23   \n",
              "5                                     The Requiem Red    One  £22.65   \n",
              "6   The Dirty Little Secrets of Getting Your Dream...   Four  £33.34   \n",
              "7   The Coming Woman: A Novel Based on the Life of...  Three  £17.93   \n",
              "8   The Boys in the Boat: Nine Americans and Their...   Four  £22.60   \n",
              "9                                     The Black Maria    One  £52.15   \n",
              "10     Starving Hearts (Triangular Trade Trilogy, #1)    Two  £13.99   \n",
              "11                              Shakespeare's Sonnets   Four  £20.66   \n",
              "12                                        Set Me Free   Five  £17.46   \n",
              "13  Scott Pilgrim's Precious Little Life (Scott Pi...   Five  £52.29   \n",
              "14                          Rip it Up and Start Again   Five  £35.02   \n",
              "15  Our Band Could Be Your Life: Scenes from the A...  Three  £57.25   \n",
              "16                                               Olio    One  £23.88   \n",
              "17  Mesaerion: The Best Science Fiction Stories 18...    One  £37.59   \n",
              "18                       Libertarianism for Beginners    Two  £51.33   \n",
              "19                            It's Only the Himalayas    Two  £45.17   \n",
              "20                                        In Her Wake    One  £12.84   \n",
              "21                                    How Music Works    Two  £37.32   \n",
              "22  Foolproof Preserving: A Guide to Small Batch J...  Three  £30.52   \n",
              "23                         Chase Me (Paris Nights #2)   Five  £25.27   \n",
              "24                                         Black Dust   Five  £34.53   \n",
              "25                      Birdsong: A Story in Pictures  Three  £54.64   \n",
              "26  America's Cradle of Quarterbacks: Western Penn...  Three  £22.50   \n",
              "27                     Aladdin and His Wonderful Lamp  Three  £53.13   \n",
              "28  Worlds Elsewhere: Journeys Around Shakespeareâ...   Five  £40.30   \n",
              "29                                     Wall and Piece   Four  £44.18   \n",
              "30  The Four Agreements: A Practical Guide to Pers...   Five  £17.66   \n",
              "31  The Five Love Languages: How to Express Heartf...  Three  £31.05   \n",
              "32                                  The Elephant Tree   Five  £23.82   \n",
              "33                             The Bear and the Piano    One  £36.89   \n",
              "34                                     Sophie's World   Five  £15.94   \n",
              "35                                        Penny Maybe  Three  £33.29   \n",
              "36     Maude (1883-1993):She Grew Up with the country    Two  £18.02   \n",
              "37                               In a Dark, Dark Wood    One  £19.63   \n",
              "38                                Behind Closed Doors   Four  £52.22   \n",
              "39                     You can't bury them all: Poems    Two  £33.63   \n",
              "40                     Slow States of Collapse: Poems  Three  £57.31   \n",
              "41                              Reasons to Stay Alive    Two  £26.41   \n",
              "42                        Private Paris (Private #10)   Five  £47.61   \n",
              "43  #HigherSelfie: Wake Up Your Life. Free Your So...   Five  £23.11   \n",
              "44                    Without Borders (Wanderlove #1)    Two  £45.07   \n",
              "45                                   When We Collided    One  £31.77   \n",
              "46                       We Love You, Charlie Freeman   Five  £50.27   \n",
              "47            Untitled Collection: Sabbath Poems 2014   Four  £14.27   \n",
              "48  Unseen City: The Majesty of Pigeons, the Discr...   Four  £44.18   \n",
              "49                                     Unicorn Tracks  Three  £18.78   \n",
              "50  Unbound: How Eight Technologies Made Us Human,...    One  £25.52   \n",
              "51  Tsubasa: WoRLD CHRoNiCLE 2 (Tsubasa WoRLD CHRo...    One  £16.28   \n",
              "52  Throwing Rocks at the Google Bus: How Growth B...  Three  £31.12   \n",
              "53                                    This One Summer   Four  £19.49   \n",
              "54                                             Thirst   Five  £17.27   \n",
              "55        The Torch Is Passed: A Harding Family Story    One  £19.09   \n",
              "56                    The Secret of Dreadwillow Carse    One  £56.13   \n",
              "57  The Pioneer Woman Cooks: Dinnertime: Comfort C...    One  £56.41   \n",
              "58                                The Past Never Ends   Four  £56.50   \n",
              "59  The Natural History of Us (The Fine Art of Pre...  Three  £45.22   \n",
              "\n",
              "                                                 link  \n",
              "0   http://books.toscrape.com/a-light-in-the-attic...  \n",
              "1   http://books.toscrape.com/tipping-the-velvet_9...  \n",
              "2   http://books.toscrape.com/soumission_998/index...  \n",
              "3   http://books.toscrape.com/sharp-objects_997/in...  \n",
              "4   http://books.toscrape.com/sapiens-a-brief-hist...  \n",
              "5   http://books.toscrape.com/the-requiem-red_995/...  \n",
              "6   http://books.toscrape.com/the-dirty-little-sec...  \n",
              "7   http://books.toscrape.com/the-coming-woman-a-n...  \n",
              "8   http://books.toscrape.com/the-boys-in-the-boat...  \n",
              "9   http://books.toscrape.com/the-black-maria_991/...  \n",
              "10  http://books.toscrape.com/starving-hearts-tria...  \n",
              "11  http://books.toscrape.com/shakespeares-sonnets...  \n",
              "12  http://books.toscrape.com/set-me-free_988/inde...  \n",
              "13  http://books.toscrape.com/scott-pilgrims-preci...  \n",
              "14  http://books.toscrape.com/rip-it-up-and-start-...  \n",
              "15  http://books.toscrape.com/our-band-could-be-yo...  \n",
              "16      http://books.toscrape.com/olio_984/index.html  \n",
              "17  http://books.toscrape.com/mesaerion-the-best-s...  \n",
              "18  http://books.toscrape.com/libertarianism-for-b...  \n",
              "19  http://books.toscrape.com/its-only-the-himalay...  \n",
              "20  http://books.toscrape.com/in-her-wake_980/inde...  \n",
              "21  http://books.toscrape.com/how-music-works_979/...  \n",
              "22  http://books.toscrape.com/foolproof-preserving...  \n",
              "23  http://books.toscrape.com/chase-me-paris-night...  \n",
              "24  http://books.toscrape.com/black-dust_976/index...  \n",
              "25  http://books.toscrape.com/birdsong-a-story-in-...  \n",
              "26  http://books.toscrape.com/americas-cradle-of-q...  \n",
              "27  http://books.toscrape.com/aladdin-and-his-wond...  \n",
              "28  http://books.toscrape.com/worlds-elsewhere-jou...  \n",
              "29  http://books.toscrape.com/wall-and-piece_971/i...  \n",
              "30  http://books.toscrape.com/the-four-agreements-...  \n",
              "31  http://books.toscrape.com/the-five-love-langua...  \n",
              "32  http://books.toscrape.com/the-elephant-tree_96...  \n",
              "33  http://books.toscrape.com/the-bear-and-the-pia...  \n",
              "34  http://books.toscrape.com/sophies-world_966/in...  \n",
              "35  http://books.toscrape.com/penny-maybe_965/inde...  \n",
              "36  http://books.toscrape.com/maude-1883-1993she-g...  \n",
              "37  http://books.toscrape.com/in-a-dark-dark-wood_...  \n",
              "38  http://books.toscrape.com/behind-closed-doors_...  \n",
              "39  http://books.toscrape.com/you-cant-bury-them-a...  \n",
              "40  http://books.toscrape.com/slow-states-of-colla...  \n",
              "41  http://books.toscrape.com/reasons-to-stay-aliv...  \n",
              "42  http://books.toscrape.com/private-paris-privat...  \n",
              "43  http://books.toscrape.com/higherselfie-wake-up...  \n",
              "44  http://books.toscrape.com/without-borders-wand...  \n",
              "45  http://books.toscrape.com/when-we-collided_955...  \n",
              "46  http://books.toscrape.com/we-love-you-charlie-...  \n",
              "47  http://books.toscrape.com/untitled-collection-...  \n",
              "48  http://books.toscrape.com/unseen-city-the-maje...  \n",
              "49  http://books.toscrape.com/unicorn-tracks_951/i...  \n",
              "50  http://books.toscrape.com/unbound-how-eight-te...  \n",
              "51  http://books.toscrape.com/tsubasa-world-chroni...  \n",
              "52  http://books.toscrape.com/throwing-rocks-at-th...  \n",
              "53  http://books.toscrape.com/this-one-summer_947/...  \n",
              "54    http://books.toscrape.com/thirst_946/index.html  \n",
              "55  http://books.toscrape.com/the-torch-is-passed-...  \n",
              "56  http://books.toscrape.com/the-secret-of-dreadw...  \n",
              "57  http://books.toscrape.com/the-pioneer-woman-co...  \n",
              "58  http://books.toscrape.com/the-past-never-ends_...  \n",
              "59  http://books.toscrape.com/the-natural-history-...  "
            ],
            "text/html": [
              "\n",
              "  <div id=\"df-bf7253dd-78b2-4526-b4ce-0d916fd8c163\" class=\"colab-df-container\">\n",
              "    <div>\n",
              "<style scoped>\n",
              "    .dataframe tbody tr th:only-of-type {\n",
              "        vertical-align: middle;\n",
              "    }\n",
              "\n",
              "    .dataframe tbody tr th {\n",
              "        vertical-align: top;\n",
              "    }\n",
              "\n",
              "    .dataframe thead th {\n",
              "        text-align: right;\n",
              "    }\n",
              "</style>\n",
              "<table border=\"1\" class=\"dataframe\">\n",
              "  <thead>\n",
              "    <tr style=\"text-align: right;\">\n",
              "      <th></th>\n",
              "      <th>title</th>\n",
              "      <th>rating</th>\n",
              "      <th>price</th>\n",
              "      <th>link</th>\n",
              "    </tr>\n",
              "  </thead>\n",
              "  <tbody>\n",
              "    <tr>\n",
              "      <th>0</th>\n",
              "      <td>A Light in the Attic</td>\n",
              "      <td>Three</td>\n",
              "      <td>£51.77</td>\n",
              "      <td>http://books.toscrape.com/a-light-in-the-attic...</td>\n",
              "    </tr>\n",
              "    <tr>\n",
              "      <th>1</th>\n",
              "      <td>Tipping the Velvet</td>\n",
              "      <td>One</td>\n",
              "      <td>£53.74</td>\n",
              "      <td>http://books.toscrape.com/tipping-the-velvet_9...</td>\n",
              "    </tr>\n",
              "    <tr>\n",
              "      <th>2</th>\n",
              "      <td>Soumission</td>\n",
              "      <td>One</td>\n",
              "      <td>£50.10</td>\n",
              "      <td>http://books.toscrape.com/soumission_998/index...</td>\n",
              "    </tr>\n",
              "    <tr>\n",
              "      <th>3</th>\n",
              "      <td>Sharp Objects</td>\n",
              "      <td>Four</td>\n",
              "      <td>£47.82</td>\n",
              "      <td>http://books.toscrape.com/sharp-objects_997/in...</td>\n",
              "    </tr>\n",
              "    <tr>\n",
              "      <th>4</th>\n",
              "      <td>Sapiens: A Brief History of Humankind</td>\n",
              "      <td>Five</td>\n",
              "      <td>£54.23</td>\n",
              "      <td>http://books.toscrape.com/sapiens-a-brief-hist...</td>\n",
              "    </tr>\n",
              "    <tr>\n",
              "      <th>5</th>\n",
              "      <td>The Requiem Red</td>\n",
              "      <td>One</td>\n",
              "      <td>£22.65</td>\n",
              "      <td>http://books.toscrape.com/the-requiem-red_995/...</td>\n",
              "    </tr>\n",
              "    <tr>\n",
              "      <th>6</th>\n",
              "      <td>The Dirty Little Secrets of Getting Your Dream...</td>\n",
              "      <td>Four</td>\n",
              "      <td>£33.34</td>\n",
              "      <td>http://books.toscrape.com/the-dirty-little-sec...</td>\n",
              "    </tr>\n",
              "    <tr>\n",
              "      <th>7</th>\n",
              "      <td>The Coming Woman: A Novel Based on the Life of...</td>\n",
              "      <td>Three</td>\n",
              "      <td>£17.93</td>\n",
              "      <td>http://books.toscrape.com/the-coming-woman-a-n...</td>\n",
              "    </tr>\n",
              "    <tr>\n",
              "      <th>8</th>\n",
              "      <td>The Boys in the Boat: Nine Americans and Their...</td>\n",
              "      <td>Four</td>\n",
              "      <td>£22.60</td>\n",
              "      <td>http://books.toscrape.com/the-boys-in-the-boat...</td>\n",
              "    </tr>\n",
              "    <tr>\n",
              "      <th>9</th>\n",
              "      <td>The Black Maria</td>\n",
              "      <td>One</td>\n",
              "      <td>£52.15</td>\n",
              "      <td>http://books.toscrape.com/the-black-maria_991/...</td>\n",
              "    </tr>\n",
              "    <tr>\n",
              "      <th>10</th>\n",
              "      <td>Starving Hearts (Triangular Trade Trilogy, #1)</td>\n",
              "      <td>Two</td>\n",
              "      <td>£13.99</td>\n",
              "      <td>http://books.toscrape.com/starving-hearts-tria...</td>\n",
              "    </tr>\n",
              "    <tr>\n",
              "      <th>11</th>\n",
              "      <td>Shakespeare's Sonnets</td>\n",
              "      <td>Four</td>\n",
              "      <td>£20.66</td>\n",
              "      <td>http://books.toscrape.com/shakespeares-sonnets...</td>\n",
              "    </tr>\n",
              "    <tr>\n",
              "      <th>12</th>\n",
              "      <td>Set Me Free</td>\n",
              "      <td>Five</td>\n",
              "      <td>£17.46</td>\n",
              "      <td>http://books.toscrape.com/set-me-free_988/inde...</td>\n",
              "    </tr>\n",
              "    <tr>\n",
              "      <th>13</th>\n",
              "      <td>Scott Pilgrim's Precious Little Life (Scott Pi...</td>\n",
              "      <td>Five</td>\n",
              "      <td>£52.29</td>\n",
              "      <td>http://books.toscrape.com/scott-pilgrims-preci...</td>\n",
              "    </tr>\n",
              "    <tr>\n",
              "      <th>14</th>\n",
              "      <td>Rip it Up and Start Again</td>\n",
              "      <td>Five</td>\n",
              "      <td>£35.02</td>\n",
              "      <td>http://books.toscrape.com/rip-it-up-and-start-...</td>\n",
              "    </tr>\n",
              "    <tr>\n",
              "      <th>15</th>\n",
              "      <td>Our Band Could Be Your Life: Scenes from the A...</td>\n",
              "      <td>Three</td>\n",
              "      <td>£57.25</td>\n",
              "      <td>http://books.toscrape.com/our-band-could-be-yo...</td>\n",
              "    </tr>\n",
              "    <tr>\n",
              "      <th>16</th>\n",
              "      <td>Olio</td>\n",
              "      <td>One</td>\n",
              "      <td>£23.88</td>\n",
              "      <td>http://books.toscrape.com/olio_984/index.html</td>\n",
              "    </tr>\n",
              "    <tr>\n",
              "      <th>17</th>\n",
              "      <td>Mesaerion: The Best Science Fiction Stories 18...</td>\n",
              "      <td>One</td>\n",
              "      <td>£37.59</td>\n",
              "      <td>http://books.toscrape.com/mesaerion-the-best-s...</td>\n",
              "    </tr>\n",
              "    <tr>\n",
              "      <th>18</th>\n",
              "      <td>Libertarianism for Beginners</td>\n",
              "      <td>Two</td>\n",
              "      <td>£51.33</td>\n",
              "      <td>http://books.toscrape.com/libertarianism-for-b...</td>\n",
              "    </tr>\n",
              "    <tr>\n",
              "      <th>19</th>\n",
              "      <td>It's Only the Himalayas</td>\n",
              "      <td>Two</td>\n",
              "      <td>£45.17</td>\n",
              "      <td>http://books.toscrape.com/its-only-the-himalay...</td>\n",
              "    </tr>\n",
              "    <tr>\n",
              "      <th>20</th>\n",
              "      <td>In Her Wake</td>\n",
              "      <td>One</td>\n",
              "      <td>£12.84</td>\n",
              "      <td>http://books.toscrape.com/in-her-wake_980/inde...</td>\n",
              "    </tr>\n",
              "    <tr>\n",
              "      <th>21</th>\n",
              "      <td>How Music Works</td>\n",
              "      <td>Two</td>\n",
              "      <td>£37.32</td>\n",
              "      <td>http://books.toscrape.com/how-music-works_979/...</td>\n",
              "    </tr>\n",
              "    <tr>\n",
              "      <th>22</th>\n",
              "      <td>Foolproof Preserving: A Guide to Small Batch J...</td>\n",
              "      <td>Three</td>\n",
              "      <td>£30.52</td>\n",
              "      <td>http://books.toscrape.com/foolproof-preserving...</td>\n",
              "    </tr>\n",
              "    <tr>\n",
              "      <th>23</th>\n",
              "      <td>Chase Me (Paris Nights #2)</td>\n",
              "      <td>Five</td>\n",
              "      <td>£25.27</td>\n",
              "      <td>http://books.toscrape.com/chase-me-paris-night...</td>\n",
              "    </tr>\n",
              "    <tr>\n",
              "      <th>24</th>\n",
              "      <td>Black Dust</td>\n",
              "      <td>Five</td>\n",
              "      <td>£34.53</td>\n",
              "      <td>http://books.toscrape.com/black-dust_976/index...</td>\n",
              "    </tr>\n",
              "    <tr>\n",
              "      <th>25</th>\n",
              "      <td>Birdsong: A Story in Pictures</td>\n",
              "      <td>Three</td>\n",
              "      <td>£54.64</td>\n",
              "      <td>http://books.toscrape.com/birdsong-a-story-in-...</td>\n",
              "    </tr>\n",
              "    <tr>\n",
              "      <th>26</th>\n",
              "      <td>America's Cradle of Quarterbacks: Western Penn...</td>\n",
              "      <td>Three</td>\n",
              "      <td>£22.50</td>\n",
              "      <td>http://books.toscrape.com/americas-cradle-of-q...</td>\n",
              "    </tr>\n",
              "    <tr>\n",
              "      <th>27</th>\n",
              "      <td>Aladdin and His Wonderful Lamp</td>\n",
              "      <td>Three</td>\n",
              "      <td>£53.13</td>\n",
              "      <td>http://books.toscrape.com/aladdin-and-his-wond...</td>\n",
              "    </tr>\n",
              "    <tr>\n",
              "      <th>28</th>\n",
              "      <td>Worlds Elsewhere: Journeys Around Shakespeareâ...</td>\n",
              "      <td>Five</td>\n",
              "      <td>£40.30</td>\n",
              "      <td>http://books.toscrape.com/worlds-elsewhere-jou...</td>\n",
              "    </tr>\n",
              "    <tr>\n",
              "      <th>29</th>\n",
              "      <td>Wall and Piece</td>\n",
              "      <td>Four</td>\n",
              "      <td>£44.18</td>\n",
              "      <td>http://books.toscrape.com/wall-and-piece_971/i...</td>\n",
              "    </tr>\n",
              "    <tr>\n",
              "      <th>30</th>\n",
              "      <td>The Four Agreements: A Practical Guide to Pers...</td>\n",
              "      <td>Five</td>\n",
              "      <td>£17.66</td>\n",
              "      <td>http://books.toscrape.com/the-four-agreements-...</td>\n",
              "    </tr>\n",
              "    <tr>\n",
              "      <th>31</th>\n",
              "      <td>The Five Love Languages: How to Express Heartf...</td>\n",
              "      <td>Three</td>\n",
              "      <td>£31.05</td>\n",
              "      <td>http://books.toscrape.com/the-five-love-langua...</td>\n",
              "    </tr>\n",
              "    <tr>\n",
              "      <th>32</th>\n",
              "      <td>The Elephant Tree</td>\n",
              "      <td>Five</td>\n",
              "      <td>£23.82</td>\n",
              "      <td>http://books.toscrape.com/the-elephant-tree_96...</td>\n",
              "    </tr>\n",
              "    <tr>\n",
              "      <th>33</th>\n",
              "      <td>The Bear and the Piano</td>\n",
              "      <td>One</td>\n",
              "      <td>£36.89</td>\n",
              "      <td>http://books.toscrape.com/the-bear-and-the-pia...</td>\n",
              "    </tr>\n",
              "    <tr>\n",
              "      <th>34</th>\n",
              "      <td>Sophie's World</td>\n",
              "      <td>Five</td>\n",
              "      <td>£15.94</td>\n",
              "      <td>http://books.toscrape.com/sophies-world_966/in...</td>\n",
              "    </tr>\n",
              "    <tr>\n",
              "      <th>35</th>\n",
              "      <td>Penny Maybe</td>\n",
              "      <td>Three</td>\n",
              "      <td>£33.29</td>\n",
              "      <td>http://books.toscrape.com/penny-maybe_965/inde...</td>\n",
              "    </tr>\n",
              "    <tr>\n",
              "      <th>36</th>\n",
              "      <td>Maude (1883-1993):She Grew Up with the country</td>\n",
              "      <td>Two</td>\n",
              "      <td>£18.02</td>\n",
              "      <td>http://books.toscrape.com/maude-1883-1993she-g...</td>\n",
              "    </tr>\n",
              "    <tr>\n",
              "      <th>37</th>\n",
              "      <td>In a Dark, Dark Wood</td>\n",
              "      <td>One</td>\n",
              "      <td>£19.63</td>\n",
              "      <td>http://books.toscrape.com/in-a-dark-dark-wood_...</td>\n",
              "    </tr>\n",
              "    <tr>\n",
              "      <th>38</th>\n",
              "      <td>Behind Closed Doors</td>\n",
              "      <td>Four</td>\n",
              "      <td>£52.22</td>\n",
              "      <td>http://books.toscrape.com/behind-closed-doors_...</td>\n",
              "    </tr>\n",
              "    <tr>\n",
              "      <th>39</th>\n",
              "      <td>You can't bury them all: Poems</td>\n",
              "      <td>Two</td>\n",
              "      <td>£33.63</td>\n",
              "      <td>http://books.toscrape.com/you-cant-bury-them-a...</td>\n",
              "    </tr>\n",
              "    <tr>\n",
              "      <th>40</th>\n",
              "      <td>Slow States of Collapse: Poems</td>\n",
              "      <td>Three</td>\n",
              "      <td>£57.31</td>\n",
              "      <td>http://books.toscrape.com/slow-states-of-colla...</td>\n",
              "    </tr>\n",
              "    <tr>\n",
              "      <th>41</th>\n",
              "      <td>Reasons to Stay Alive</td>\n",
              "      <td>Two</td>\n",
              "      <td>£26.41</td>\n",
              "      <td>http://books.toscrape.com/reasons-to-stay-aliv...</td>\n",
              "    </tr>\n",
              "    <tr>\n",
              "      <th>42</th>\n",
              "      <td>Private Paris (Private #10)</td>\n",
              "      <td>Five</td>\n",
              "      <td>£47.61</td>\n",
              "      <td>http://books.toscrape.com/private-paris-privat...</td>\n",
              "    </tr>\n",
              "    <tr>\n",
              "      <th>43</th>\n",
              "      <td>#HigherSelfie: Wake Up Your Life. Free Your So...</td>\n",
              "      <td>Five</td>\n",
              "      <td>£23.11</td>\n",
              "      <td>http://books.toscrape.com/higherselfie-wake-up...</td>\n",
              "    </tr>\n",
              "    <tr>\n",
              "      <th>44</th>\n",
              "      <td>Without Borders (Wanderlove #1)</td>\n",
              "      <td>Two</td>\n",
              "      <td>£45.07</td>\n",
              "      <td>http://books.toscrape.com/without-borders-wand...</td>\n",
              "    </tr>\n",
              "    <tr>\n",
              "      <th>45</th>\n",
              "      <td>When We Collided</td>\n",
              "      <td>One</td>\n",
              "      <td>£31.77</td>\n",
              "      <td>http://books.toscrape.com/when-we-collided_955...</td>\n",
              "    </tr>\n",
              "    <tr>\n",
              "      <th>46</th>\n",
              "      <td>We Love You, Charlie Freeman</td>\n",
              "      <td>Five</td>\n",
              "      <td>£50.27</td>\n",
              "      <td>http://books.toscrape.com/we-love-you-charlie-...</td>\n",
              "    </tr>\n",
              "    <tr>\n",
              "      <th>47</th>\n",
              "      <td>Untitled Collection: Sabbath Poems 2014</td>\n",
              "      <td>Four</td>\n",
              "      <td>£14.27</td>\n",
              "      <td>http://books.toscrape.com/untitled-collection-...</td>\n",
              "    </tr>\n",
              "    <tr>\n",
              "      <th>48</th>\n",
              "      <td>Unseen City: The Majesty of Pigeons, the Discr...</td>\n",
              "      <td>Four</td>\n",
              "      <td>£44.18</td>\n",
              "      <td>http://books.toscrape.com/unseen-city-the-maje...</td>\n",
              "    </tr>\n",
              "    <tr>\n",
              "      <th>49</th>\n",
              "      <td>Unicorn Tracks</td>\n",
              "      <td>Three</td>\n",
              "      <td>£18.78</td>\n",
              "      <td>http://books.toscrape.com/unicorn-tracks_951/i...</td>\n",
              "    </tr>\n",
              "    <tr>\n",
              "      <th>50</th>\n",
              "      <td>Unbound: How Eight Technologies Made Us Human,...</td>\n",
              "      <td>One</td>\n",
              "      <td>£25.52</td>\n",
              "      <td>http://books.toscrape.com/unbound-how-eight-te...</td>\n",
              "    </tr>\n",
              "    <tr>\n",
              "      <th>51</th>\n",
              "      <td>Tsubasa: WoRLD CHRoNiCLE 2 (Tsubasa WoRLD CHRo...</td>\n",
              "      <td>One</td>\n",
              "      <td>£16.28</td>\n",
              "      <td>http://books.toscrape.com/tsubasa-world-chroni...</td>\n",
              "    </tr>\n",
              "    <tr>\n",
              "      <th>52</th>\n",
              "      <td>Throwing Rocks at the Google Bus: How Growth B...</td>\n",
              "      <td>Three</td>\n",
              "      <td>£31.12</td>\n",
              "      <td>http://books.toscrape.com/throwing-rocks-at-th...</td>\n",
              "    </tr>\n",
              "    <tr>\n",
              "      <th>53</th>\n",
              "      <td>This One Summer</td>\n",
              "      <td>Four</td>\n",
              "      <td>£19.49</td>\n",
              "      <td>http://books.toscrape.com/this-one-summer_947/...</td>\n",
              "    </tr>\n",
              "    <tr>\n",
              "      <th>54</th>\n",
              "      <td>Thirst</td>\n",
              "      <td>Five</td>\n",
              "      <td>£17.27</td>\n",
              "      <td>http://books.toscrape.com/thirst_946/index.html</td>\n",
              "    </tr>\n",
              "    <tr>\n",
              "      <th>55</th>\n",
              "      <td>The Torch Is Passed: A Harding Family Story</td>\n",
              "      <td>One</td>\n",
              "      <td>£19.09</td>\n",
              "      <td>http://books.toscrape.com/the-torch-is-passed-...</td>\n",
              "    </tr>\n",
              "    <tr>\n",
              "      <th>56</th>\n",
              "      <td>The Secret of Dreadwillow Carse</td>\n",
              "      <td>One</td>\n",
              "      <td>£56.13</td>\n",
              "      <td>http://books.toscrape.com/the-secret-of-dreadw...</td>\n",
              "    </tr>\n",
              "    <tr>\n",
              "      <th>57</th>\n",
              "      <td>The Pioneer Woman Cooks: Dinnertime: Comfort C...</td>\n",
              "      <td>One</td>\n",
              "      <td>£56.41</td>\n",
              "      <td>http://books.toscrape.com/the-pioneer-woman-co...</td>\n",
              "    </tr>\n",
              "    <tr>\n",
              "      <th>58</th>\n",
              "      <td>The Past Never Ends</td>\n",
              "      <td>Four</td>\n",
              "      <td>£56.50</td>\n",
              "      <td>http://books.toscrape.com/the-past-never-ends_...</td>\n",
              "    </tr>\n",
              "    <tr>\n",
              "      <th>59</th>\n",
              "      <td>The Natural History of Us (The Fine Art of Pre...</td>\n",
              "      <td>Three</td>\n",
              "      <td>£45.22</td>\n",
              "      <td>http://books.toscrape.com/the-natural-history-...</td>\n",
              "    </tr>\n",
              "  </tbody>\n",
              "</table>\n",
              "</div>\n",
              "    <div class=\"colab-df-buttons\">\n",
              "\n",
              "  <div class=\"colab-df-container\">\n",
              "    <button class=\"colab-df-convert\" onclick=\"convertToInteractive('df-bf7253dd-78b2-4526-b4ce-0d916fd8c163')\"\n",
              "            title=\"Convert this dataframe to an interactive table.\"\n",
              "            style=\"display:none;\">\n",
              "\n",
              "  <svg xmlns=\"http://www.w3.org/2000/svg\" height=\"24px\" viewBox=\"0 -960 960 960\">\n",
              "    <path d=\"M120-120v-720h720v720H120Zm60-500h600v-160H180v160Zm220 220h160v-160H400v160Zm0 220h160v-160H400v160ZM180-400h160v-160H180v160Zm440 0h160v-160H620v160ZM180-180h160v-160H180v160Zm440 0h160v-160H620v160Z\"/>\n",
              "  </svg>\n",
              "    </button>\n",
              "\n",
              "  <style>\n",
              "    .colab-df-container {\n",
              "      display:flex;\n",
              "      gap: 12px;\n",
              "    }\n",
              "\n",
              "    .colab-df-convert {\n",
              "      background-color: #E8F0FE;\n",
              "      border: none;\n",
              "      border-radius: 50%;\n",
              "      cursor: pointer;\n",
              "      display: none;\n",
              "      fill: #1967D2;\n",
              "      height: 32px;\n",
              "      padding: 0 0 0 0;\n",
              "      width: 32px;\n",
              "    }\n",
              "\n",
              "    .colab-df-convert:hover {\n",
              "      background-color: #E2EBFA;\n",
              "      box-shadow: 0px 1px 2px rgba(60, 64, 67, 0.3), 0px 1px 3px 1px rgba(60, 64, 67, 0.15);\n",
              "      fill: #174EA6;\n",
              "    }\n",
              "\n",
              "    .colab-df-buttons div {\n",
              "      margin-bottom: 4px;\n",
              "    }\n",
              "\n",
              "    [theme=dark] .colab-df-convert {\n",
              "      background-color: #3B4455;\n",
              "      fill: #D2E3FC;\n",
              "    }\n",
              "\n",
              "    [theme=dark] .colab-df-convert:hover {\n",
              "      background-color: #434B5C;\n",
              "      box-shadow: 0px 1px 3px 1px rgba(0, 0, 0, 0.15);\n",
              "      filter: drop-shadow(0px 1px 2px rgba(0, 0, 0, 0.3));\n",
              "      fill: #FFFFFF;\n",
              "    }\n",
              "  </style>\n",
              "\n",
              "    <script>\n",
              "      const buttonEl =\n",
              "        document.querySelector('#df-bf7253dd-78b2-4526-b4ce-0d916fd8c163 button.colab-df-convert');\n",
              "      buttonEl.style.display =\n",
              "        google.colab.kernel.accessAllowed ? 'block' : 'none';\n",
              "\n",
              "      async function convertToInteractive(key) {\n",
              "        const element = document.querySelector('#df-bf7253dd-78b2-4526-b4ce-0d916fd8c163');\n",
              "        const dataTable =\n",
              "          await google.colab.kernel.invokeFunction('convertToInteractive',\n",
              "                                                    [key], {});\n",
              "        if (!dataTable) return;\n",
              "\n",
              "        const docLinkHtml = 'Like what you see? Visit the ' +\n",
              "          '<a target=\"_blank\" href=https://colab.research.google.com/notebooks/data_table.ipynb>data table notebook</a>'\n",
              "          + ' to learn more about interactive tables.';\n",
              "        element.innerHTML = '';\n",
              "        dataTable['output_type'] = 'display_data';\n",
              "        await google.colab.output.renderOutput(dataTable, element);\n",
              "        const docLink = document.createElement('div');\n",
              "        docLink.innerHTML = docLinkHtml;\n",
              "        element.appendChild(docLink);\n",
              "      }\n",
              "    </script>\n",
              "  </div>\n",
              "\n",
              "\n",
              "<div id=\"df-7e652704-4603-4203-a766-490fb388c4b0\">\n",
              "  <button class=\"colab-df-quickchart\" onclick=\"quickchart('df-7e652704-4603-4203-a766-490fb388c4b0')\"\n",
              "            title=\"Suggest charts\"\n",
              "            style=\"display:none;\">\n",
              "\n",
              "<svg xmlns=\"http://www.w3.org/2000/svg\" height=\"24px\"viewBox=\"0 0 24 24\"\n",
              "     width=\"24px\">\n",
              "    <g>\n",
              "        <path d=\"M19 3H5c-1.1 0-2 .9-2 2v14c0 1.1.9 2 2 2h14c1.1 0 2-.9 2-2V5c0-1.1-.9-2-2-2zM9 17H7v-7h2v7zm4 0h-2V7h2v10zm4 0h-2v-4h2v4z\"/>\n",
              "    </g>\n",
              "</svg>\n",
              "  </button>\n",
              "\n",
              "<style>\n",
              "  .colab-df-quickchart {\n",
              "      --bg-color: #E8F0FE;\n",
              "      --fill-color: #1967D2;\n",
              "      --hover-bg-color: #E2EBFA;\n",
              "      --hover-fill-color: #174EA6;\n",
              "      --disabled-fill-color: #AAA;\n",
              "      --disabled-bg-color: #DDD;\n",
              "  }\n",
              "\n",
              "  [theme=dark] .colab-df-quickchart {\n",
              "      --bg-color: #3B4455;\n",
              "      --fill-color: #D2E3FC;\n",
              "      --hover-bg-color: #434B5C;\n",
              "      --hover-fill-color: #FFFFFF;\n",
              "      --disabled-bg-color: #3B4455;\n",
              "      --disabled-fill-color: #666;\n",
              "  }\n",
              "\n",
              "  .colab-df-quickchart {\n",
              "    background-color: var(--bg-color);\n",
              "    border: none;\n",
              "    border-radius: 50%;\n",
              "    cursor: pointer;\n",
              "    display: none;\n",
              "    fill: var(--fill-color);\n",
              "    height: 32px;\n",
              "    padding: 0;\n",
              "    width: 32px;\n",
              "  }\n",
              "\n",
              "  .colab-df-quickchart:hover {\n",
              "    background-color: var(--hover-bg-color);\n",
              "    box-shadow: 0 1px 2px rgba(60, 64, 67, 0.3), 0 1px 3px 1px rgba(60, 64, 67, 0.15);\n",
              "    fill: var(--button-hover-fill-color);\n",
              "  }\n",
              "\n",
              "  .colab-df-quickchart-complete:disabled,\n",
              "  .colab-df-quickchart-complete:disabled:hover {\n",
              "    background-color: var(--disabled-bg-color);\n",
              "    fill: var(--disabled-fill-color);\n",
              "    box-shadow: none;\n",
              "  }\n",
              "\n",
              "  .colab-df-spinner {\n",
              "    border: 2px solid var(--fill-color);\n",
              "    border-color: transparent;\n",
              "    border-bottom-color: var(--fill-color);\n",
              "    animation:\n",
              "      spin 1s steps(1) infinite;\n",
              "  }\n",
              "\n",
              "  @keyframes spin {\n",
              "    0% {\n",
              "      border-color: transparent;\n",
              "      border-bottom-color: var(--fill-color);\n",
              "      border-left-color: var(--fill-color);\n",
              "    }\n",
              "    20% {\n",
              "      border-color: transparent;\n",
              "      border-left-color: var(--fill-color);\n",
              "      border-top-color: var(--fill-color);\n",
              "    }\n",
              "    30% {\n",
              "      border-color: transparent;\n",
              "      border-left-color: var(--fill-color);\n",
              "      border-top-color: var(--fill-color);\n",
              "      border-right-color: var(--fill-color);\n",
              "    }\n",
              "    40% {\n",
              "      border-color: transparent;\n",
              "      border-right-color: var(--fill-color);\n",
              "      border-top-color: var(--fill-color);\n",
              "    }\n",
              "    60% {\n",
              "      border-color: transparent;\n",
              "      border-right-color: var(--fill-color);\n",
              "    }\n",
              "    80% {\n",
              "      border-color: transparent;\n",
              "      border-right-color: var(--fill-color);\n",
              "      border-bottom-color: var(--fill-color);\n",
              "    }\n",
              "    90% {\n",
              "      border-color: transparent;\n",
              "      border-bottom-color: var(--fill-color);\n",
              "    }\n",
              "  }\n",
              "</style>\n",
              "\n",
              "  <script>\n",
              "    async function quickchart(key) {\n",
              "      const quickchartButtonEl =\n",
              "        document.querySelector('#' + key + ' button');\n",
              "      quickchartButtonEl.disabled = true;  // To prevent multiple clicks.\n",
              "      quickchartButtonEl.classList.add('colab-df-spinner');\n",
              "      try {\n",
              "        const charts = await google.colab.kernel.invokeFunction(\n",
              "            'suggestCharts', [key], {});\n",
              "      } catch (error) {\n",
              "        console.error('Error during call to suggestCharts:', error);\n",
              "      }\n",
              "      quickchartButtonEl.classList.remove('colab-df-spinner');\n",
              "      quickchartButtonEl.classList.add('colab-df-quickchart-complete');\n",
              "    }\n",
              "    (() => {\n",
              "      let quickchartButtonEl =\n",
              "        document.querySelector('#df-7e652704-4603-4203-a766-490fb388c4b0 button');\n",
              "      quickchartButtonEl.style.display =\n",
              "        google.colab.kernel.accessAllowed ? 'block' : 'none';\n",
              "    })();\n",
              "  </script>\n",
              "</div>\n",
              "\n",
              "  <div id=\"id_e5d243e9-abd3-4fad-9242-c875d0872df6\">\n",
              "    <style>\n",
              "      .colab-df-generate {\n",
              "        background-color: #E8F0FE;\n",
              "        border: none;\n",
              "        border-radius: 50%;\n",
              "        cursor: pointer;\n",
              "        display: none;\n",
              "        fill: #1967D2;\n",
              "        height: 32px;\n",
              "        padding: 0 0 0 0;\n",
              "        width: 32px;\n",
              "      }\n",
              "\n",
              "      .colab-df-generate:hover {\n",
              "        background-color: #E2EBFA;\n",
              "        box-shadow: 0px 1px 2px rgba(60, 64, 67, 0.3), 0px 1px 3px 1px rgba(60, 64, 67, 0.15);\n",
              "        fill: #174EA6;\n",
              "      }\n",
              "\n",
              "      [theme=dark] .colab-df-generate {\n",
              "        background-color: #3B4455;\n",
              "        fill: #D2E3FC;\n",
              "      }\n",
              "\n",
              "      [theme=dark] .colab-df-generate:hover {\n",
              "        background-color: #434B5C;\n",
              "        box-shadow: 0px 1px 3px 1px rgba(0, 0, 0, 0.15);\n",
              "        filter: drop-shadow(0px 1px 2px rgba(0, 0, 0, 0.3));\n",
              "        fill: #FFFFFF;\n",
              "      }\n",
              "    </style>\n",
              "    <button class=\"colab-df-generate\" onclick=\"generateWithVariable('df')\"\n",
              "            title=\"Generate code using this dataframe.\"\n",
              "            style=\"display:none;\">\n",
              "\n",
              "  <svg xmlns=\"http://www.w3.org/2000/svg\" height=\"24px\"viewBox=\"0 0 24 24\"\n",
              "       width=\"24px\">\n",
              "    <path d=\"M7,19H8.4L18.45,9,17,7.55,7,17.6ZM5,21V16.75L18.45,3.32a2,2,0,0,1,2.83,0l1.4,1.43a1.91,1.91,0,0,1,.58,1.4,1.91,1.91,0,0,1-.58,1.4L9.25,21ZM18.45,9,17,7.55Zm-12,3A5.31,5.31,0,0,0,4.9,8.1,5.31,5.31,0,0,0,1,6.5,5.31,5.31,0,0,0,4.9,4.9,5.31,5.31,0,0,0,6.5,1,5.31,5.31,0,0,0,8.1,4.9,5.31,5.31,0,0,0,12,6.5,5.46,5.46,0,0,0,6.5,12Z\"/>\n",
              "  </svg>\n",
              "    </button>\n",
              "    <script>\n",
              "      (() => {\n",
              "      const buttonEl =\n",
              "        document.querySelector('#id_e5d243e9-abd3-4fad-9242-c875d0872df6 button.colab-df-generate');\n",
              "      buttonEl.style.display =\n",
              "        google.colab.kernel.accessAllowed ? 'block' : 'none';\n",
              "\n",
              "      buttonEl.onclick = () => {\n",
              "        google.colab.notebook.generateWithVariable('df');\n",
              "      }\n",
              "      })();\n",
              "    </script>\n",
              "  </div>\n",
              "\n",
              "    </div>\n",
              "  </div>\n"
            ]
          },
          "metadata": {},
          "execution_count": 27
        }
      ]
    }
  ]
}