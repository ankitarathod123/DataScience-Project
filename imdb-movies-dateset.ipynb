{
 "cells": [
  {
   "cell_type": "code",
   "execution_count": 1,
   "id": "2641b3f9",
   "metadata": {
    "_cell_guid": "b1076dfc-b9ad-4769-8c92-a6c4dae69d19",
    "_uuid": "8f2839f25d086af736a60e9eeb907d3b93b6e0e5",
    "execution": {
     "iopub.execute_input": "2024-02-03T19:31:13.381170Z",
     "iopub.status.busy": "2024-02-03T19:31:13.380621Z",
     "iopub.status.idle": "2024-02-03T19:31:14.387385Z",
     "shell.execute_reply": "2024-02-03T19:31:14.385748Z"
    },
    "papermill": {
     "duration": 1.03022,
     "end_time": "2024-02-03T19:31:14.390854",
     "exception": false,
     "start_time": "2024-02-03T19:31:13.360634",
     "status": "completed"
    },
    "tags": []
   },
   "outputs": [
    {
     "name": "stdout",
     "output_type": "stream",
     "text": [
      "/kaggle/input/imdb-dataset-of-top-1000-movies-and-tv-shows/imdb_top_1000.csv\n"
     ]
    }
   ],
   "source": [
    "# This Python 3 environment comes with many helpful analytics libraries installed\n",
    "# It is defined by the kaggle/python Docker image: https://github.com/kaggle/docker-python\n",
    "# For example, here's several helpful packages to load\n",
    "\n",
    "import numpy as np # linear algebra\n",
    "import pandas as pd # data processing, CSV file I/O (e.g. pd.read_csv)\n",
    "\n",
    "# Input data files are available in the read-only \"../input/\" directory\n",
    "# For example, running this (by clicking run or pressing Shift+Enter) will list all files under the input directory\n",
    "\n",
    "import os\n",
    "for dirname, _, filenames in os.walk('/kaggle/input'):\n",
    "    for filename in filenames:\n",
    "        print(os.path.join(dirname, filename))\n",
    "\n",
    "# You can write up to 20GB to the current directory (/kaggle/working/) that gets preserved as output when you create a version using \"Save & Run All\" \n",
    "# You can also write temporary files to /kaggle/temp/, but they won't be saved outside of the current session"
   ]
  },
  {
   "cell_type": "code",
   "execution_count": 2,
   "id": "ec5bac94",
   "metadata": {
    "execution": {
     "iopub.execute_input": "2024-02-03T19:31:14.430416Z",
     "iopub.status.busy": "2024-02-03T19:31:14.428871Z",
     "iopub.status.idle": "2024-02-03T19:31:16.113291Z",
     "shell.execute_reply": "2024-02-03T19:31:16.112040Z"
    },
    "papermill": {
     "duration": 1.708111,
     "end_time": "2024-02-03T19:31:16.117038",
     "exception": false,
     "start_time": "2024-02-03T19:31:14.408927",
     "status": "completed"
    },
    "tags": []
   },
   "outputs": [
    {
     "data": {
      "text/html": [
       "<div>\n",
       "<style scoped>\n",
       "    .dataframe tbody tr th:only-of-type {\n",
       "        vertical-align: middle;\n",
       "    }\n",
       "\n",
       "    .dataframe tbody tr th {\n",
       "        vertical-align: top;\n",
       "    }\n",
       "\n",
       "    .dataframe thead th {\n",
       "        text-align: right;\n",
       "    }\n",
       "</style>\n",
       "<table border=\"1\" class=\"dataframe\">\n",
       "  <thead>\n",
       "    <tr style=\"text-align: right;\">\n",
       "      <th></th>\n",
       "      <th>Poster_Link</th>\n",
       "      <th>Series_Title</th>\n",
       "      <th>Released_Year</th>\n",
       "      <th>Certificate</th>\n",
       "      <th>Runtime</th>\n",
       "      <th>Genre</th>\n",
       "      <th>IMDB_Rating</th>\n",
       "      <th>Overview</th>\n",
       "      <th>Meta_score</th>\n",
       "      <th>Director</th>\n",
       "      <th>Star1</th>\n",
       "      <th>Star2</th>\n",
       "      <th>Star3</th>\n",
       "      <th>Star4</th>\n",
       "      <th>No_of_Votes</th>\n",
       "      <th>Gross</th>\n",
       "    </tr>\n",
       "  </thead>\n",
       "  <tbody>\n",
       "    <tr>\n",
       "      <th>0</th>\n",
       "      <td>https://m.media-amazon.com/images/M/MV5BMDFkYT...</td>\n",
       "      <td>The Shawshank Redemption</td>\n",
       "      <td>1994</td>\n",
       "      <td>A</td>\n",
       "      <td>142 min</td>\n",
       "      <td>Drama</td>\n",
       "      <td>9.3</td>\n",
       "      <td>Two imprisoned men bond over a number of years...</td>\n",
       "      <td>80.0</td>\n",
       "      <td>Frank Darabont</td>\n",
       "      <td>Tim Robbins</td>\n",
       "      <td>Morgan Freeman</td>\n",
       "      <td>Bob Gunton</td>\n",
       "      <td>William Sadler</td>\n",
       "      <td>2343110</td>\n",
       "      <td>28,341,469</td>\n",
       "    </tr>\n",
       "    <tr>\n",
       "      <th>1</th>\n",
       "      <td>https://m.media-amazon.com/images/M/MV5BM2MyNj...</td>\n",
       "      <td>The Godfather</td>\n",
       "      <td>1972</td>\n",
       "      <td>A</td>\n",
       "      <td>175 min</td>\n",
       "      <td>Crime, Drama</td>\n",
       "      <td>9.2</td>\n",
       "      <td>An organized crime dynasty's aging patriarch t...</td>\n",
       "      <td>100.0</td>\n",
       "      <td>Francis Ford Coppola</td>\n",
       "      <td>Marlon Brando</td>\n",
       "      <td>Al Pacino</td>\n",
       "      <td>James Caan</td>\n",
       "      <td>Diane Keaton</td>\n",
       "      <td>1620367</td>\n",
       "      <td>134,966,411</td>\n",
       "    </tr>\n",
       "    <tr>\n",
       "      <th>2</th>\n",
       "      <td>https://m.media-amazon.com/images/M/MV5BMTMxNT...</td>\n",
       "      <td>The Dark Knight</td>\n",
       "      <td>2008</td>\n",
       "      <td>UA</td>\n",
       "      <td>152 min</td>\n",
       "      <td>Action, Crime, Drama</td>\n",
       "      <td>9.0</td>\n",
       "      <td>When the menace known as the Joker wreaks havo...</td>\n",
       "      <td>84.0</td>\n",
       "      <td>Christopher Nolan</td>\n",
       "      <td>Christian Bale</td>\n",
       "      <td>Heath Ledger</td>\n",
       "      <td>Aaron Eckhart</td>\n",
       "      <td>Michael Caine</td>\n",
       "      <td>2303232</td>\n",
       "      <td>534,858,444</td>\n",
       "    </tr>\n",
       "    <tr>\n",
       "      <th>3</th>\n",
       "      <td>https://m.media-amazon.com/images/M/MV5BMWMwMG...</td>\n",
       "      <td>The Godfather: Part II</td>\n",
       "      <td>1974</td>\n",
       "      <td>A</td>\n",
       "      <td>202 min</td>\n",
       "      <td>Crime, Drama</td>\n",
       "      <td>9.0</td>\n",
       "      <td>The early life and career of Vito Corleone in ...</td>\n",
       "      <td>90.0</td>\n",
       "      <td>Francis Ford Coppola</td>\n",
       "      <td>Al Pacino</td>\n",
       "      <td>Robert De Niro</td>\n",
       "      <td>Robert Duvall</td>\n",
       "      <td>Diane Keaton</td>\n",
       "      <td>1129952</td>\n",
       "      <td>57,300,000</td>\n",
       "    </tr>\n",
       "    <tr>\n",
       "      <th>4</th>\n",
       "      <td>https://m.media-amazon.com/images/M/MV5BMWU4N2...</td>\n",
       "      <td>12 Angry Men</td>\n",
       "      <td>1957</td>\n",
       "      <td>U</td>\n",
       "      <td>96 min</td>\n",
       "      <td>Crime, Drama</td>\n",
       "      <td>9.0</td>\n",
       "      <td>A jury holdout attempts to prevent a miscarria...</td>\n",
       "      <td>96.0</td>\n",
       "      <td>Sidney Lumet</td>\n",
       "      <td>Henry Fonda</td>\n",
       "      <td>Lee J. Cobb</td>\n",
       "      <td>Martin Balsam</td>\n",
       "      <td>John Fiedler</td>\n",
       "      <td>689845</td>\n",
       "      <td>4,360,000</td>\n",
       "    </tr>\n",
       "    <tr>\n",
       "      <th>...</th>\n",
       "      <td>...</td>\n",
       "      <td>...</td>\n",
       "      <td>...</td>\n",
       "      <td>...</td>\n",
       "      <td>...</td>\n",
       "      <td>...</td>\n",
       "      <td>...</td>\n",
       "      <td>...</td>\n",
       "      <td>...</td>\n",
       "      <td>...</td>\n",
       "      <td>...</td>\n",
       "      <td>...</td>\n",
       "      <td>...</td>\n",
       "      <td>...</td>\n",
       "      <td>...</td>\n",
       "      <td>...</td>\n",
       "    </tr>\n",
       "    <tr>\n",
       "      <th>995</th>\n",
       "      <td>https://m.media-amazon.com/images/M/MV5BNGEwMT...</td>\n",
       "      <td>Breakfast at Tiffany's</td>\n",
       "      <td>1961</td>\n",
       "      <td>A</td>\n",
       "      <td>115 min</td>\n",
       "      <td>Comedy, Drama, Romance</td>\n",
       "      <td>7.6</td>\n",
       "      <td>A young New York socialite becomes interested ...</td>\n",
       "      <td>76.0</td>\n",
       "      <td>Blake Edwards</td>\n",
       "      <td>Audrey Hepburn</td>\n",
       "      <td>George Peppard</td>\n",
       "      <td>Patricia Neal</td>\n",
       "      <td>Buddy Ebsen</td>\n",
       "      <td>166544</td>\n",
       "      <td>NaN</td>\n",
       "    </tr>\n",
       "    <tr>\n",
       "      <th>996</th>\n",
       "      <td>https://m.media-amazon.com/images/M/MV5BODk3Yj...</td>\n",
       "      <td>Giant</td>\n",
       "      <td>1956</td>\n",
       "      <td>G</td>\n",
       "      <td>201 min</td>\n",
       "      <td>Drama, Western</td>\n",
       "      <td>7.6</td>\n",
       "      <td>Sprawling epic covering the life of a Texas ca...</td>\n",
       "      <td>84.0</td>\n",
       "      <td>George Stevens</td>\n",
       "      <td>Elizabeth Taylor</td>\n",
       "      <td>Rock Hudson</td>\n",
       "      <td>James Dean</td>\n",
       "      <td>Carroll Baker</td>\n",
       "      <td>34075</td>\n",
       "      <td>NaN</td>\n",
       "    </tr>\n",
       "    <tr>\n",
       "      <th>997</th>\n",
       "      <td>https://m.media-amazon.com/images/M/MV5BM2U3Yz...</td>\n",
       "      <td>From Here to Eternity</td>\n",
       "      <td>1953</td>\n",
       "      <td>Passed</td>\n",
       "      <td>118 min</td>\n",
       "      <td>Drama, Romance, War</td>\n",
       "      <td>7.6</td>\n",
       "      <td>In Hawaii in 1941, a private is cruelly punish...</td>\n",
       "      <td>85.0</td>\n",
       "      <td>Fred Zinnemann</td>\n",
       "      <td>Burt Lancaster</td>\n",
       "      <td>Montgomery Clift</td>\n",
       "      <td>Deborah Kerr</td>\n",
       "      <td>Donna Reed</td>\n",
       "      <td>43374</td>\n",
       "      <td>30,500,000</td>\n",
       "    </tr>\n",
       "    <tr>\n",
       "      <th>998</th>\n",
       "      <td>https://m.media-amazon.com/images/M/MV5BZTBmMj...</td>\n",
       "      <td>Lifeboat</td>\n",
       "      <td>1944</td>\n",
       "      <td>NaN</td>\n",
       "      <td>97 min</td>\n",
       "      <td>Drama, War</td>\n",
       "      <td>7.6</td>\n",
       "      <td>Several survivors of a torpedoed merchant ship...</td>\n",
       "      <td>78.0</td>\n",
       "      <td>Alfred Hitchcock</td>\n",
       "      <td>Tallulah Bankhead</td>\n",
       "      <td>John Hodiak</td>\n",
       "      <td>Walter Slezak</td>\n",
       "      <td>William Bendix</td>\n",
       "      <td>26471</td>\n",
       "      <td>NaN</td>\n",
       "    </tr>\n",
       "    <tr>\n",
       "      <th>999</th>\n",
       "      <td>https://m.media-amazon.com/images/M/MV5BMTY5OD...</td>\n",
       "      <td>The 39 Steps</td>\n",
       "      <td>1935</td>\n",
       "      <td>NaN</td>\n",
       "      <td>86 min</td>\n",
       "      <td>Crime, Mystery, Thriller</td>\n",
       "      <td>7.6</td>\n",
       "      <td>A man in London tries to help a counter-espion...</td>\n",
       "      <td>93.0</td>\n",
       "      <td>Alfred Hitchcock</td>\n",
       "      <td>Robert Donat</td>\n",
       "      <td>Madeleine Carroll</td>\n",
       "      <td>Lucie Mannheim</td>\n",
       "      <td>Godfrey Tearle</td>\n",
       "      <td>51853</td>\n",
       "      <td>NaN</td>\n",
       "    </tr>\n",
       "  </tbody>\n",
       "</table>\n",
       "<p>1000 rows × 16 columns</p>\n",
       "</div>"
      ],
      "text/plain": [
       "                                           Poster_Link  \\\n",
       "0    https://m.media-amazon.com/images/M/MV5BMDFkYT...   \n",
       "1    https://m.media-amazon.com/images/M/MV5BM2MyNj...   \n",
       "2    https://m.media-amazon.com/images/M/MV5BMTMxNT...   \n",
       "3    https://m.media-amazon.com/images/M/MV5BMWMwMG...   \n",
       "4    https://m.media-amazon.com/images/M/MV5BMWU4N2...   \n",
       "..                                                 ...   \n",
       "995  https://m.media-amazon.com/images/M/MV5BNGEwMT...   \n",
       "996  https://m.media-amazon.com/images/M/MV5BODk3Yj...   \n",
       "997  https://m.media-amazon.com/images/M/MV5BM2U3Yz...   \n",
       "998  https://m.media-amazon.com/images/M/MV5BZTBmMj...   \n",
       "999  https://m.media-amazon.com/images/M/MV5BMTY5OD...   \n",
       "\n",
       "                 Series_Title Released_Year Certificate  Runtime  \\\n",
       "0    The Shawshank Redemption          1994           A  142 min   \n",
       "1               The Godfather          1972           A  175 min   \n",
       "2             The Dark Knight          2008          UA  152 min   \n",
       "3      The Godfather: Part II          1974           A  202 min   \n",
       "4                12 Angry Men          1957           U   96 min   \n",
       "..                        ...           ...         ...      ...   \n",
       "995    Breakfast at Tiffany's          1961           A  115 min   \n",
       "996                     Giant          1956           G  201 min   \n",
       "997     From Here to Eternity          1953      Passed  118 min   \n",
       "998                  Lifeboat          1944         NaN   97 min   \n",
       "999              The 39 Steps          1935         NaN   86 min   \n",
       "\n",
       "                        Genre  IMDB_Rating  \\\n",
       "0                       Drama          9.3   \n",
       "1                Crime, Drama          9.2   \n",
       "2        Action, Crime, Drama          9.0   \n",
       "3                Crime, Drama          9.0   \n",
       "4                Crime, Drama          9.0   \n",
       "..                        ...          ...   \n",
       "995    Comedy, Drama, Romance          7.6   \n",
       "996            Drama, Western          7.6   \n",
       "997       Drama, Romance, War          7.6   \n",
       "998                Drama, War          7.6   \n",
       "999  Crime, Mystery, Thriller          7.6   \n",
       "\n",
       "                                              Overview  Meta_score  \\\n",
       "0    Two imprisoned men bond over a number of years...        80.0   \n",
       "1    An organized crime dynasty's aging patriarch t...       100.0   \n",
       "2    When the menace known as the Joker wreaks havo...        84.0   \n",
       "3    The early life and career of Vito Corleone in ...        90.0   \n",
       "4    A jury holdout attempts to prevent a miscarria...        96.0   \n",
       "..                                                 ...         ...   \n",
       "995  A young New York socialite becomes interested ...        76.0   \n",
       "996  Sprawling epic covering the life of a Texas ca...        84.0   \n",
       "997  In Hawaii in 1941, a private is cruelly punish...        85.0   \n",
       "998  Several survivors of a torpedoed merchant ship...        78.0   \n",
       "999  A man in London tries to help a counter-espion...        93.0   \n",
       "\n",
       "                 Director              Star1              Star2  \\\n",
       "0          Frank Darabont        Tim Robbins     Morgan Freeman   \n",
       "1    Francis Ford Coppola      Marlon Brando          Al Pacino   \n",
       "2       Christopher Nolan     Christian Bale       Heath Ledger   \n",
       "3    Francis Ford Coppola          Al Pacino     Robert De Niro   \n",
       "4            Sidney Lumet        Henry Fonda        Lee J. Cobb   \n",
       "..                    ...                ...                ...   \n",
       "995         Blake Edwards     Audrey Hepburn     George Peppard   \n",
       "996        George Stevens   Elizabeth Taylor        Rock Hudson   \n",
       "997        Fred Zinnemann     Burt Lancaster   Montgomery Clift   \n",
       "998      Alfred Hitchcock  Tallulah Bankhead        John Hodiak   \n",
       "999      Alfred Hitchcock       Robert Donat  Madeleine Carroll   \n",
       "\n",
       "              Star3           Star4  No_of_Votes        Gross  \n",
       "0        Bob Gunton  William Sadler      2343110   28,341,469  \n",
       "1        James Caan    Diane Keaton      1620367  134,966,411  \n",
       "2     Aaron Eckhart   Michael Caine      2303232  534,858,444  \n",
       "3     Robert Duvall    Diane Keaton      1129952   57,300,000  \n",
       "4     Martin Balsam    John Fiedler       689845    4,360,000  \n",
       "..              ...             ...          ...          ...  \n",
       "995   Patricia Neal     Buddy Ebsen       166544          NaN  \n",
       "996      James Dean   Carroll Baker        34075          NaN  \n",
       "997    Deborah Kerr      Donna Reed        43374   30,500,000  \n",
       "998   Walter Slezak  William Bendix        26471          NaN  \n",
       "999  Lucie Mannheim  Godfrey Tearle        51853          NaN  \n",
       "\n",
       "[1000 rows x 16 columns]"
      ]
     },
     "execution_count": 2,
     "metadata": {},
     "output_type": "execute_result"
    }
   ],
   "source": [
    "import pandas as pd \n",
    "import seaborn as sns\n",
    "import matplotlib.pyplot as plt\n",
    "df=pd.read_csv('/kaggle/input/imdb-dataset-of-top-1000-movies-and-tv-shows/imdb_top_1000.csv')\n",
    "df"
   ]
  },
  {
   "cell_type": "markdown",
   "id": "7ce8888b",
   "metadata": {
    "papermill": {
     "duration": 0.021296,
     "end_time": "2024-02-03T19:31:16.162662",
     "exception": false,
     "start_time": "2024-02-03T19:31:16.141366",
     "status": "completed"
    },
    "tags": []
   },
   "source": [
    "1)Display 10 row from dataset."
   ]
  },
  {
   "cell_type": "code",
   "execution_count": 3,
   "id": "e1c3083c",
   "metadata": {
    "execution": {
     "iopub.execute_input": "2024-02-03T19:31:16.202664Z",
     "iopub.status.busy": "2024-02-03T19:31:16.201613Z",
     "iopub.status.idle": "2024-02-03T19:31:16.229702Z",
     "shell.execute_reply": "2024-02-03T19:31:16.228402Z"
    },
    "papermill": {
     "duration": 0.051306,
     "end_time": "2024-02-03T19:31:16.232659",
     "exception": false,
     "start_time": "2024-02-03T19:31:16.181353",
     "status": "completed"
    },
    "tags": []
   },
   "outputs": [
    {
     "data": {
      "text/html": [
       "<div>\n",
       "<style scoped>\n",
       "    .dataframe tbody tr th:only-of-type {\n",
       "        vertical-align: middle;\n",
       "    }\n",
       "\n",
       "    .dataframe tbody tr th {\n",
       "        vertical-align: top;\n",
       "    }\n",
       "\n",
       "    .dataframe thead th {\n",
       "        text-align: right;\n",
       "    }\n",
       "</style>\n",
       "<table border=\"1\" class=\"dataframe\">\n",
       "  <thead>\n",
       "    <tr style=\"text-align: right;\">\n",
       "      <th></th>\n",
       "      <th>Poster_Link</th>\n",
       "      <th>Series_Title</th>\n",
       "      <th>Released_Year</th>\n",
       "      <th>Certificate</th>\n",
       "      <th>Runtime</th>\n",
       "      <th>Genre</th>\n",
       "      <th>IMDB_Rating</th>\n",
       "      <th>Overview</th>\n",
       "      <th>Meta_score</th>\n",
       "      <th>Director</th>\n",
       "      <th>Star1</th>\n",
       "      <th>Star2</th>\n",
       "      <th>Star3</th>\n",
       "      <th>Star4</th>\n",
       "      <th>No_of_Votes</th>\n",
       "      <th>Gross</th>\n",
       "    </tr>\n",
       "  </thead>\n",
       "  <tbody>\n",
       "    <tr>\n",
       "      <th>0</th>\n",
       "      <td>https://m.media-amazon.com/images/M/MV5BMDFkYT...</td>\n",
       "      <td>The Shawshank Redemption</td>\n",
       "      <td>1994</td>\n",
       "      <td>A</td>\n",
       "      <td>142 min</td>\n",
       "      <td>Drama</td>\n",
       "      <td>9.3</td>\n",
       "      <td>Two imprisoned men bond over a number of years...</td>\n",
       "      <td>80.0</td>\n",
       "      <td>Frank Darabont</td>\n",
       "      <td>Tim Robbins</td>\n",
       "      <td>Morgan Freeman</td>\n",
       "      <td>Bob Gunton</td>\n",
       "      <td>William Sadler</td>\n",
       "      <td>2343110</td>\n",
       "      <td>28,341,469</td>\n",
       "    </tr>\n",
       "    <tr>\n",
       "      <th>1</th>\n",
       "      <td>https://m.media-amazon.com/images/M/MV5BM2MyNj...</td>\n",
       "      <td>The Godfather</td>\n",
       "      <td>1972</td>\n",
       "      <td>A</td>\n",
       "      <td>175 min</td>\n",
       "      <td>Crime, Drama</td>\n",
       "      <td>9.2</td>\n",
       "      <td>An organized crime dynasty's aging patriarch t...</td>\n",
       "      <td>100.0</td>\n",
       "      <td>Francis Ford Coppola</td>\n",
       "      <td>Marlon Brando</td>\n",
       "      <td>Al Pacino</td>\n",
       "      <td>James Caan</td>\n",
       "      <td>Diane Keaton</td>\n",
       "      <td>1620367</td>\n",
       "      <td>134,966,411</td>\n",
       "    </tr>\n",
       "    <tr>\n",
       "      <th>2</th>\n",
       "      <td>https://m.media-amazon.com/images/M/MV5BMTMxNT...</td>\n",
       "      <td>The Dark Knight</td>\n",
       "      <td>2008</td>\n",
       "      <td>UA</td>\n",
       "      <td>152 min</td>\n",
       "      <td>Action, Crime, Drama</td>\n",
       "      <td>9.0</td>\n",
       "      <td>When the menace known as the Joker wreaks havo...</td>\n",
       "      <td>84.0</td>\n",
       "      <td>Christopher Nolan</td>\n",
       "      <td>Christian Bale</td>\n",
       "      <td>Heath Ledger</td>\n",
       "      <td>Aaron Eckhart</td>\n",
       "      <td>Michael Caine</td>\n",
       "      <td>2303232</td>\n",
       "      <td>534,858,444</td>\n",
       "    </tr>\n",
       "    <tr>\n",
       "      <th>3</th>\n",
       "      <td>https://m.media-amazon.com/images/M/MV5BMWMwMG...</td>\n",
       "      <td>The Godfather: Part II</td>\n",
       "      <td>1974</td>\n",
       "      <td>A</td>\n",
       "      <td>202 min</td>\n",
       "      <td>Crime, Drama</td>\n",
       "      <td>9.0</td>\n",
       "      <td>The early life and career of Vito Corleone in ...</td>\n",
       "      <td>90.0</td>\n",
       "      <td>Francis Ford Coppola</td>\n",
       "      <td>Al Pacino</td>\n",
       "      <td>Robert De Niro</td>\n",
       "      <td>Robert Duvall</td>\n",
       "      <td>Diane Keaton</td>\n",
       "      <td>1129952</td>\n",
       "      <td>57,300,000</td>\n",
       "    </tr>\n",
       "    <tr>\n",
       "      <th>4</th>\n",
       "      <td>https://m.media-amazon.com/images/M/MV5BMWU4N2...</td>\n",
       "      <td>12 Angry Men</td>\n",
       "      <td>1957</td>\n",
       "      <td>U</td>\n",
       "      <td>96 min</td>\n",
       "      <td>Crime, Drama</td>\n",
       "      <td>9.0</td>\n",
       "      <td>A jury holdout attempts to prevent a miscarria...</td>\n",
       "      <td>96.0</td>\n",
       "      <td>Sidney Lumet</td>\n",
       "      <td>Henry Fonda</td>\n",
       "      <td>Lee J. Cobb</td>\n",
       "      <td>Martin Balsam</td>\n",
       "      <td>John Fiedler</td>\n",
       "      <td>689845</td>\n",
       "      <td>4,360,000</td>\n",
       "    </tr>\n",
       "    <tr>\n",
       "      <th>5</th>\n",
       "      <td>https://m.media-amazon.com/images/M/MV5BNzA5ZD...</td>\n",
       "      <td>The Lord of the Rings: The Return of the King</td>\n",
       "      <td>2003</td>\n",
       "      <td>U</td>\n",
       "      <td>201 min</td>\n",
       "      <td>Action, Adventure, Drama</td>\n",
       "      <td>8.9</td>\n",
       "      <td>Gandalf and Aragorn lead the World of Men agai...</td>\n",
       "      <td>94.0</td>\n",
       "      <td>Peter Jackson</td>\n",
       "      <td>Elijah Wood</td>\n",
       "      <td>Viggo Mortensen</td>\n",
       "      <td>Ian McKellen</td>\n",
       "      <td>Orlando Bloom</td>\n",
       "      <td>1642758</td>\n",
       "      <td>377,845,905</td>\n",
       "    </tr>\n",
       "    <tr>\n",
       "      <th>6</th>\n",
       "      <td>https://m.media-amazon.com/images/M/MV5BNGNhMD...</td>\n",
       "      <td>Pulp Fiction</td>\n",
       "      <td>1994</td>\n",
       "      <td>A</td>\n",
       "      <td>154 min</td>\n",
       "      <td>Crime, Drama</td>\n",
       "      <td>8.9</td>\n",
       "      <td>The lives of two mob hitmen, a boxer, a gangst...</td>\n",
       "      <td>94.0</td>\n",
       "      <td>Quentin Tarantino</td>\n",
       "      <td>John Travolta</td>\n",
       "      <td>Uma Thurman</td>\n",
       "      <td>Samuel L. Jackson</td>\n",
       "      <td>Bruce Willis</td>\n",
       "      <td>1826188</td>\n",
       "      <td>107,928,762</td>\n",
       "    </tr>\n",
       "    <tr>\n",
       "      <th>7</th>\n",
       "      <td>https://m.media-amazon.com/images/M/MV5BNDE4OT...</td>\n",
       "      <td>Schindler's List</td>\n",
       "      <td>1993</td>\n",
       "      <td>A</td>\n",
       "      <td>195 min</td>\n",
       "      <td>Biography, Drama, History</td>\n",
       "      <td>8.9</td>\n",
       "      <td>In German-occupied Poland during World War II,...</td>\n",
       "      <td>94.0</td>\n",
       "      <td>Steven Spielberg</td>\n",
       "      <td>Liam Neeson</td>\n",
       "      <td>Ralph Fiennes</td>\n",
       "      <td>Ben Kingsley</td>\n",
       "      <td>Caroline Goodall</td>\n",
       "      <td>1213505</td>\n",
       "      <td>96,898,818</td>\n",
       "    </tr>\n",
       "    <tr>\n",
       "      <th>8</th>\n",
       "      <td>https://m.media-amazon.com/images/M/MV5BMjAxMz...</td>\n",
       "      <td>Inception</td>\n",
       "      <td>2010</td>\n",
       "      <td>UA</td>\n",
       "      <td>148 min</td>\n",
       "      <td>Action, Adventure, Sci-Fi</td>\n",
       "      <td>8.8</td>\n",
       "      <td>A thief who steals corporate secrets through t...</td>\n",
       "      <td>74.0</td>\n",
       "      <td>Christopher Nolan</td>\n",
       "      <td>Leonardo DiCaprio</td>\n",
       "      <td>Joseph Gordon-Levitt</td>\n",
       "      <td>Elliot Page</td>\n",
       "      <td>Ken Watanabe</td>\n",
       "      <td>2067042</td>\n",
       "      <td>292,576,195</td>\n",
       "    </tr>\n",
       "    <tr>\n",
       "      <th>9</th>\n",
       "      <td>https://m.media-amazon.com/images/M/MV5BMmEzNT...</td>\n",
       "      <td>Fight Club</td>\n",
       "      <td>1999</td>\n",
       "      <td>A</td>\n",
       "      <td>139 min</td>\n",
       "      <td>Drama</td>\n",
       "      <td>8.8</td>\n",
       "      <td>An insomniac office worker and a devil-may-car...</td>\n",
       "      <td>66.0</td>\n",
       "      <td>David Fincher</td>\n",
       "      <td>Brad Pitt</td>\n",
       "      <td>Edward Norton</td>\n",
       "      <td>Meat Loaf</td>\n",
       "      <td>Zach Grenier</td>\n",
       "      <td>1854740</td>\n",
       "      <td>37,030,102</td>\n",
       "    </tr>\n",
       "  </tbody>\n",
       "</table>\n",
       "</div>"
      ],
      "text/plain": [
       "                                         Poster_Link  \\\n",
       "0  https://m.media-amazon.com/images/M/MV5BMDFkYT...   \n",
       "1  https://m.media-amazon.com/images/M/MV5BM2MyNj...   \n",
       "2  https://m.media-amazon.com/images/M/MV5BMTMxNT...   \n",
       "3  https://m.media-amazon.com/images/M/MV5BMWMwMG...   \n",
       "4  https://m.media-amazon.com/images/M/MV5BMWU4N2...   \n",
       "5  https://m.media-amazon.com/images/M/MV5BNzA5ZD...   \n",
       "6  https://m.media-amazon.com/images/M/MV5BNGNhMD...   \n",
       "7  https://m.media-amazon.com/images/M/MV5BNDE4OT...   \n",
       "8  https://m.media-amazon.com/images/M/MV5BMjAxMz...   \n",
       "9  https://m.media-amazon.com/images/M/MV5BMmEzNT...   \n",
       "\n",
       "                                    Series_Title Released_Year Certificate  \\\n",
       "0                       The Shawshank Redemption          1994           A   \n",
       "1                                  The Godfather          1972           A   \n",
       "2                                The Dark Knight          2008          UA   \n",
       "3                         The Godfather: Part II          1974           A   \n",
       "4                                   12 Angry Men          1957           U   \n",
       "5  The Lord of the Rings: The Return of the King          2003           U   \n",
       "6                                   Pulp Fiction          1994           A   \n",
       "7                               Schindler's List          1993           A   \n",
       "8                                      Inception          2010          UA   \n",
       "9                                     Fight Club          1999           A   \n",
       "\n",
       "   Runtime                      Genre  IMDB_Rating  \\\n",
       "0  142 min                      Drama          9.3   \n",
       "1  175 min               Crime, Drama          9.2   \n",
       "2  152 min       Action, Crime, Drama          9.0   \n",
       "3  202 min               Crime, Drama          9.0   \n",
       "4   96 min               Crime, Drama          9.0   \n",
       "5  201 min   Action, Adventure, Drama          8.9   \n",
       "6  154 min               Crime, Drama          8.9   \n",
       "7  195 min  Biography, Drama, History          8.9   \n",
       "8  148 min  Action, Adventure, Sci-Fi          8.8   \n",
       "9  139 min                      Drama          8.8   \n",
       "\n",
       "                                            Overview  Meta_score  \\\n",
       "0  Two imprisoned men bond over a number of years...        80.0   \n",
       "1  An organized crime dynasty's aging patriarch t...       100.0   \n",
       "2  When the menace known as the Joker wreaks havo...        84.0   \n",
       "3  The early life and career of Vito Corleone in ...        90.0   \n",
       "4  A jury holdout attempts to prevent a miscarria...        96.0   \n",
       "5  Gandalf and Aragorn lead the World of Men agai...        94.0   \n",
       "6  The lives of two mob hitmen, a boxer, a gangst...        94.0   \n",
       "7  In German-occupied Poland during World War II,...        94.0   \n",
       "8  A thief who steals corporate secrets through t...        74.0   \n",
       "9  An insomniac office worker and a devil-may-car...        66.0   \n",
       "\n",
       "               Director              Star1                 Star2  \\\n",
       "0        Frank Darabont        Tim Robbins        Morgan Freeman   \n",
       "1  Francis Ford Coppola      Marlon Brando             Al Pacino   \n",
       "2     Christopher Nolan     Christian Bale          Heath Ledger   \n",
       "3  Francis Ford Coppola          Al Pacino        Robert De Niro   \n",
       "4          Sidney Lumet        Henry Fonda           Lee J. Cobb   \n",
       "5         Peter Jackson        Elijah Wood       Viggo Mortensen   \n",
       "6     Quentin Tarantino      John Travolta           Uma Thurman   \n",
       "7      Steven Spielberg        Liam Neeson         Ralph Fiennes   \n",
       "8     Christopher Nolan  Leonardo DiCaprio  Joseph Gordon-Levitt   \n",
       "9         David Fincher          Brad Pitt         Edward Norton   \n",
       "\n",
       "               Star3             Star4  No_of_Votes        Gross  \n",
       "0         Bob Gunton    William Sadler      2343110   28,341,469  \n",
       "1         James Caan      Diane Keaton      1620367  134,966,411  \n",
       "2      Aaron Eckhart     Michael Caine      2303232  534,858,444  \n",
       "3      Robert Duvall      Diane Keaton      1129952   57,300,000  \n",
       "4      Martin Balsam      John Fiedler       689845    4,360,000  \n",
       "5       Ian McKellen     Orlando Bloom      1642758  377,845,905  \n",
       "6  Samuel L. Jackson      Bruce Willis      1826188  107,928,762  \n",
       "7       Ben Kingsley  Caroline Goodall      1213505   96,898,818  \n",
       "8        Elliot Page      Ken Watanabe      2067042  292,576,195  \n",
       "9          Meat Loaf      Zach Grenier      1854740   37,030,102  "
      ]
     },
     "execution_count": 3,
     "metadata": {},
     "output_type": "execute_result"
    }
   ],
   "source": [
    "df.head(10)"
   ]
  },
  {
   "cell_type": "markdown",
   "id": "dfa61331",
   "metadata": {
    "papermill": {
     "duration": 0.019225,
     "end_time": "2024-02-03T19:31:16.270991",
     "exception": false,
     "start_time": "2024-02-03T19:31:16.251766",
     "status": "completed"
    },
    "tags": []
   },
   "source": [
    "2) Check last 10 rows in dataset"
   ]
  },
  {
   "cell_type": "code",
   "execution_count": 4,
   "id": "7ec5b383",
   "metadata": {
    "execution": {
     "iopub.execute_input": "2024-02-03T19:31:16.311614Z",
     "iopub.status.busy": "2024-02-03T19:31:16.311160Z",
     "iopub.status.idle": "2024-02-03T19:31:16.337685Z",
     "shell.execute_reply": "2024-02-03T19:31:16.336824Z"
    },
    "papermill": {
     "duration": 0.049877,
     "end_time": "2024-02-03T19:31:16.340067",
     "exception": false,
     "start_time": "2024-02-03T19:31:16.290190",
     "status": "completed"
    },
    "tags": []
   },
   "outputs": [
    {
     "data": {
      "text/html": [
       "<div>\n",
       "<style scoped>\n",
       "    .dataframe tbody tr th:only-of-type {\n",
       "        vertical-align: middle;\n",
       "    }\n",
       "\n",
       "    .dataframe tbody tr th {\n",
       "        vertical-align: top;\n",
       "    }\n",
       "\n",
       "    .dataframe thead th {\n",
       "        text-align: right;\n",
       "    }\n",
       "</style>\n",
       "<table border=\"1\" class=\"dataframe\">\n",
       "  <thead>\n",
       "    <tr style=\"text-align: right;\">\n",
       "      <th></th>\n",
       "      <th>Poster_Link</th>\n",
       "      <th>Series_Title</th>\n",
       "      <th>Released_Year</th>\n",
       "      <th>Certificate</th>\n",
       "      <th>Runtime</th>\n",
       "      <th>Genre</th>\n",
       "      <th>IMDB_Rating</th>\n",
       "      <th>Overview</th>\n",
       "      <th>Meta_score</th>\n",
       "      <th>Director</th>\n",
       "      <th>Star1</th>\n",
       "      <th>Star2</th>\n",
       "      <th>Star3</th>\n",
       "      <th>Star4</th>\n",
       "      <th>No_of_Votes</th>\n",
       "      <th>Gross</th>\n",
       "    </tr>\n",
       "  </thead>\n",
       "  <tbody>\n",
       "    <tr>\n",
       "      <th>990</th>\n",
       "      <td>https://m.media-amazon.com/images/M/MV5BYjRmY2...</td>\n",
       "      <td>Giù la testa</td>\n",
       "      <td>1971</td>\n",
       "      <td>PG</td>\n",
       "      <td>157 min</td>\n",
       "      <td>Drama, War, Western</td>\n",
       "      <td>7.6</td>\n",
       "      <td>A low-life bandit and an I.R.A. explosives exp...</td>\n",
       "      <td>77.0</td>\n",
       "      <td>Sergio Leone</td>\n",
       "      <td>Rod Steiger</td>\n",
       "      <td>James Coburn</td>\n",
       "      <td>Romolo Valli</td>\n",
       "      <td>Maria Monti</td>\n",
       "      <td>30144</td>\n",
       "      <td>696,690</td>\n",
       "    </tr>\n",
       "    <tr>\n",
       "      <th>991</th>\n",
       "      <td>https://m.media-amazon.com/images/M/MV5BMzAyND...</td>\n",
       "      <td>Kelly's Heroes</td>\n",
       "      <td>1970</td>\n",
       "      <td>GP</td>\n",
       "      <td>144 min</td>\n",
       "      <td>Adventure, Comedy, War</td>\n",
       "      <td>7.6</td>\n",
       "      <td>A group of U.S. soldiers sneaks across enemy l...</td>\n",
       "      <td>50.0</td>\n",
       "      <td>Brian G. Hutton</td>\n",
       "      <td>Clint Eastwood</td>\n",
       "      <td>Telly Savalas</td>\n",
       "      <td>Don Rickles</td>\n",
       "      <td>Carroll O'Connor</td>\n",
       "      <td>45338</td>\n",
       "      <td>1,378,435</td>\n",
       "    </tr>\n",
       "    <tr>\n",
       "      <th>992</th>\n",
       "      <td>https://m.media-amazon.com/images/M/MV5BMjAwMT...</td>\n",
       "      <td>The Jungle Book</td>\n",
       "      <td>1967</td>\n",
       "      <td>U</td>\n",
       "      <td>78 min</td>\n",
       "      <td>Animation, Adventure, Family</td>\n",
       "      <td>7.6</td>\n",
       "      <td>Bagheera the Panther and Baloo the Bear have a...</td>\n",
       "      <td>65.0</td>\n",
       "      <td>Wolfgang Reitherman</td>\n",
       "      <td>Phil Harris</td>\n",
       "      <td>Sebastian Cabot</td>\n",
       "      <td>Louis Prima</td>\n",
       "      <td>Bruce Reitherman</td>\n",
       "      <td>166409</td>\n",
       "      <td>141,843,612</td>\n",
       "    </tr>\n",
       "    <tr>\n",
       "      <th>993</th>\n",
       "      <td>https://m.media-amazon.com/images/M/MV5BYTE4YW...</td>\n",
       "      <td>Blowup</td>\n",
       "      <td>1966</td>\n",
       "      <td>A</td>\n",
       "      <td>111 min</td>\n",
       "      <td>Drama, Mystery, Thriller</td>\n",
       "      <td>7.6</td>\n",
       "      <td>A fashion photographer unknowingly captures a ...</td>\n",
       "      <td>82.0</td>\n",
       "      <td>Michelangelo Antonioni</td>\n",
       "      <td>David Hemmings</td>\n",
       "      <td>Vanessa Redgrave</td>\n",
       "      <td>Sarah Miles</td>\n",
       "      <td>John Castle</td>\n",
       "      <td>56513</td>\n",
       "      <td>NaN</td>\n",
       "    </tr>\n",
       "    <tr>\n",
       "      <th>994</th>\n",
       "      <td>https://m.media-amazon.com/images/M/MV5BZjQyMG...</td>\n",
       "      <td>A Hard Day's Night</td>\n",
       "      <td>1964</td>\n",
       "      <td>U</td>\n",
       "      <td>87 min</td>\n",
       "      <td>Comedy, Music, Musical</td>\n",
       "      <td>7.6</td>\n",
       "      <td>Over two \"typical\" days in the life of The Bea...</td>\n",
       "      <td>96.0</td>\n",
       "      <td>Richard Lester</td>\n",
       "      <td>John Lennon</td>\n",
       "      <td>Paul McCartney</td>\n",
       "      <td>George Harrison</td>\n",
       "      <td>Ringo Starr</td>\n",
       "      <td>40351</td>\n",
       "      <td>13,780,024</td>\n",
       "    </tr>\n",
       "    <tr>\n",
       "      <th>995</th>\n",
       "      <td>https://m.media-amazon.com/images/M/MV5BNGEwMT...</td>\n",
       "      <td>Breakfast at Tiffany's</td>\n",
       "      <td>1961</td>\n",
       "      <td>A</td>\n",
       "      <td>115 min</td>\n",
       "      <td>Comedy, Drama, Romance</td>\n",
       "      <td>7.6</td>\n",
       "      <td>A young New York socialite becomes interested ...</td>\n",
       "      <td>76.0</td>\n",
       "      <td>Blake Edwards</td>\n",
       "      <td>Audrey Hepburn</td>\n",
       "      <td>George Peppard</td>\n",
       "      <td>Patricia Neal</td>\n",
       "      <td>Buddy Ebsen</td>\n",
       "      <td>166544</td>\n",
       "      <td>NaN</td>\n",
       "    </tr>\n",
       "    <tr>\n",
       "      <th>996</th>\n",
       "      <td>https://m.media-amazon.com/images/M/MV5BODk3Yj...</td>\n",
       "      <td>Giant</td>\n",
       "      <td>1956</td>\n",
       "      <td>G</td>\n",
       "      <td>201 min</td>\n",
       "      <td>Drama, Western</td>\n",
       "      <td>7.6</td>\n",
       "      <td>Sprawling epic covering the life of a Texas ca...</td>\n",
       "      <td>84.0</td>\n",
       "      <td>George Stevens</td>\n",
       "      <td>Elizabeth Taylor</td>\n",
       "      <td>Rock Hudson</td>\n",
       "      <td>James Dean</td>\n",
       "      <td>Carroll Baker</td>\n",
       "      <td>34075</td>\n",
       "      <td>NaN</td>\n",
       "    </tr>\n",
       "    <tr>\n",
       "      <th>997</th>\n",
       "      <td>https://m.media-amazon.com/images/M/MV5BM2U3Yz...</td>\n",
       "      <td>From Here to Eternity</td>\n",
       "      <td>1953</td>\n",
       "      <td>Passed</td>\n",
       "      <td>118 min</td>\n",
       "      <td>Drama, Romance, War</td>\n",
       "      <td>7.6</td>\n",
       "      <td>In Hawaii in 1941, a private is cruelly punish...</td>\n",
       "      <td>85.0</td>\n",
       "      <td>Fred Zinnemann</td>\n",
       "      <td>Burt Lancaster</td>\n",
       "      <td>Montgomery Clift</td>\n",
       "      <td>Deborah Kerr</td>\n",
       "      <td>Donna Reed</td>\n",
       "      <td>43374</td>\n",
       "      <td>30,500,000</td>\n",
       "    </tr>\n",
       "    <tr>\n",
       "      <th>998</th>\n",
       "      <td>https://m.media-amazon.com/images/M/MV5BZTBmMj...</td>\n",
       "      <td>Lifeboat</td>\n",
       "      <td>1944</td>\n",
       "      <td>NaN</td>\n",
       "      <td>97 min</td>\n",
       "      <td>Drama, War</td>\n",
       "      <td>7.6</td>\n",
       "      <td>Several survivors of a torpedoed merchant ship...</td>\n",
       "      <td>78.0</td>\n",
       "      <td>Alfred Hitchcock</td>\n",
       "      <td>Tallulah Bankhead</td>\n",
       "      <td>John Hodiak</td>\n",
       "      <td>Walter Slezak</td>\n",
       "      <td>William Bendix</td>\n",
       "      <td>26471</td>\n",
       "      <td>NaN</td>\n",
       "    </tr>\n",
       "    <tr>\n",
       "      <th>999</th>\n",
       "      <td>https://m.media-amazon.com/images/M/MV5BMTY5OD...</td>\n",
       "      <td>The 39 Steps</td>\n",
       "      <td>1935</td>\n",
       "      <td>NaN</td>\n",
       "      <td>86 min</td>\n",
       "      <td>Crime, Mystery, Thriller</td>\n",
       "      <td>7.6</td>\n",
       "      <td>A man in London tries to help a counter-espion...</td>\n",
       "      <td>93.0</td>\n",
       "      <td>Alfred Hitchcock</td>\n",
       "      <td>Robert Donat</td>\n",
       "      <td>Madeleine Carroll</td>\n",
       "      <td>Lucie Mannheim</td>\n",
       "      <td>Godfrey Tearle</td>\n",
       "      <td>51853</td>\n",
       "      <td>NaN</td>\n",
       "    </tr>\n",
       "  </tbody>\n",
       "</table>\n",
       "</div>"
      ],
      "text/plain": [
       "                                           Poster_Link  \\\n",
       "990  https://m.media-amazon.com/images/M/MV5BYjRmY2...   \n",
       "991  https://m.media-amazon.com/images/M/MV5BMzAyND...   \n",
       "992  https://m.media-amazon.com/images/M/MV5BMjAwMT...   \n",
       "993  https://m.media-amazon.com/images/M/MV5BYTE4YW...   \n",
       "994  https://m.media-amazon.com/images/M/MV5BZjQyMG...   \n",
       "995  https://m.media-amazon.com/images/M/MV5BNGEwMT...   \n",
       "996  https://m.media-amazon.com/images/M/MV5BODk3Yj...   \n",
       "997  https://m.media-amazon.com/images/M/MV5BM2U3Yz...   \n",
       "998  https://m.media-amazon.com/images/M/MV5BZTBmMj...   \n",
       "999  https://m.media-amazon.com/images/M/MV5BMTY5OD...   \n",
       "\n",
       "               Series_Title Released_Year Certificate  Runtime  \\\n",
       "990            Giù la testa          1971          PG  157 min   \n",
       "991          Kelly's Heroes          1970          GP  144 min   \n",
       "992         The Jungle Book          1967           U   78 min   \n",
       "993                  Blowup          1966           A  111 min   \n",
       "994      A Hard Day's Night          1964           U   87 min   \n",
       "995  Breakfast at Tiffany's          1961           A  115 min   \n",
       "996                   Giant          1956           G  201 min   \n",
       "997   From Here to Eternity          1953      Passed  118 min   \n",
       "998                Lifeboat          1944         NaN   97 min   \n",
       "999            The 39 Steps          1935         NaN   86 min   \n",
       "\n",
       "                            Genre  IMDB_Rating  \\\n",
       "990           Drama, War, Western          7.6   \n",
       "991        Adventure, Comedy, War          7.6   \n",
       "992  Animation, Adventure, Family          7.6   \n",
       "993      Drama, Mystery, Thriller          7.6   \n",
       "994        Comedy, Music, Musical          7.6   \n",
       "995        Comedy, Drama, Romance          7.6   \n",
       "996                Drama, Western          7.6   \n",
       "997           Drama, Romance, War          7.6   \n",
       "998                    Drama, War          7.6   \n",
       "999      Crime, Mystery, Thriller          7.6   \n",
       "\n",
       "                                              Overview  Meta_score  \\\n",
       "990  A low-life bandit and an I.R.A. explosives exp...        77.0   \n",
       "991  A group of U.S. soldiers sneaks across enemy l...        50.0   \n",
       "992  Bagheera the Panther and Baloo the Bear have a...        65.0   \n",
       "993  A fashion photographer unknowingly captures a ...        82.0   \n",
       "994  Over two \"typical\" days in the life of The Bea...        96.0   \n",
       "995  A young New York socialite becomes interested ...        76.0   \n",
       "996  Sprawling epic covering the life of a Texas ca...        84.0   \n",
       "997  In Hawaii in 1941, a private is cruelly punish...        85.0   \n",
       "998  Several survivors of a torpedoed merchant ship...        78.0   \n",
       "999  A man in London tries to help a counter-espion...        93.0   \n",
       "\n",
       "                   Director              Star1              Star2  \\\n",
       "990            Sergio Leone        Rod Steiger       James Coburn   \n",
       "991         Brian G. Hutton     Clint Eastwood      Telly Savalas   \n",
       "992     Wolfgang Reitherman        Phil Harris    Sebastian Cabot   \n",
       "993  Michelangelo Antonioni     David Hemmings   Vanessa Redgrave   \n",
       "994          Richard Lester        John Lennon     Paul McCartney   \n",
       "995           Blake Edwards     Audrey Hepburn     George Peppard   \n",
       "996          George Stevens   Elizabeth Taylor        Rock Hudson   \n",
       "997          Fred Zinnemann     Burt Lancaster   Montgomery Clift   \n",
       "998        Alfred Hitchcock  Tallulah Bankhead        John Hodiak   \n",
       "999        Alfred Hitchcock       Robert Donat  Madeleine Carroll   \n",
       "\n",
       "               Star3             Star4  No_of_Votes        Gross  \n",
       "990     Romolo Valli       Maria Monti        30144      696,690  \n",
       "991      Don Rickles  Carroll O'Connor        45338    1,378,435  \n",
       "992      Louis Prima  Bruce Reitherman       166409  141,843,612  \n",
       "993      Sarah Miles       John Castle        56513          NaN  \n",
       "994  George Harrison       Ringo Starr        40351   13,780,024  \n",
       "995    Patricia Neal       Buddy Ebsen       166544          NaN  \n",
       "996       James Dean     Carroll Baker        34075          NaN  \n",
       "997     Deborah Kerr        Donna Reed        43374   30,500,000  \n",
       "998    Walter Slezak    William Bendix        26471          NaN  \n",
       "999   Lucie Mannheim    Godfrey Tearle        51853          NaN  "
      ]
     },
     "execution_count": 4,
     "metadata": {},
     "output_type": "execute_result"
    }
   ],
   "source": [
    "df.tail(10)"
   ]
  },
  {
   "cell_type": "markdown",
   "id": "f5c07fb8",
   "metadata": {
    "papermill": {
     "duration": 0.019451,
     "end_time": "2024-02-03T19:31:16.379944",
     "exception": false,
     "start_time": "2024-02-03T19:31:16.360493",
     "status": "completed"
    },
    "tags": []
   },
   "source": [
    "3) Find shape of our dataset (number of rows and number of columns)"
   ]
  },
  {
   "cell_type": "code",
   "execution_count": 5,
   "id": "17b76211",
   "metadata": {
    "execution": {
     "iopub.execute_input": "2024-02-03T19:31:16.426539Z",
     "iopub.status.busy": "2024-02-03T19:31:16.425369Z",
     "iopub.status.idle": "2024-02-03T19:31:16.433391Z",
     "shell.execute_reply": "2024-02-03T19:31:16.431734Z"
    },
    "papermill": {
     "duration": 0.034445,
     "end_time": "2024-02-03T19:31:16.436321",
     "exception": false,
     "start_time": "2024-02-03T19:31:16.401876",
     "status": "completed"
    },
    "tags": []
   },
   "outputs": [
    {
     "name": "stdout",
     "output_type": "stream",
     "text": [
      "Number of rows 1000\n",
      "Number of columns 16\n"
     ]
    }
   ],
   "source": [
    "print('Number of rows',df.shape[0])\n",
    "print('Number of columns',df.shape[1])"
   ]
  },
  {
   "cell_type": "markdown",
   "id": "17a45b81",
   "metadata": {
    "papermill": {
     "duration": 0.019746,
     "end_time": "2024-02-03T19:31:16.476447",
     "exception": false,
     "start_time": "2024-02-03T19:31:16.456701",
     "status": "completed"
    },
    "tags": []
   },
   "source": []
  },
  {
   "cell_type": "code",
   "execution_count": 6,
   "id": "e7802f6e",
   "metadata": {
    "execution": {
     "iopub.execute_input": "2024-02-03T19:31:16.521729Z",
     "iopub.status.busy": "2024-02-03T19:31:16.520943Z",
     "iopub.status.idle": "2024-02-03T19:31:16.646408Z",
     "shell.execute_reply": "2024-02-03T19:31:16.645137Z"
    },
    "papermill": {
     "duration": 0.152229,
     "end_time": "2024-02-03T19:31:16.649071",
     "exception": false,
     "start_time": "2024-02-03T19:31:16.496842",
     "status": "completed"
    },
    "tags": []
   },
   "outputs": [
    {
     "name": "stdout",
     "output_type": "stream",
     "text": [
      "<class 'pandas.core.frame.DataFrame'>\n",
      "RangeIndex: 1000 entries, 0 to 999\n",
      "Data columns (total 16 columns):\n",
      " #   Column         Non-Null Count  Dtype  \n",
      "---  ------         --------------  -----  \n",
      " 0   Poster_Link    1000 non-null   object \n",
      " 1   Series_Title   1000 non-null   object \n",
      " 2   Released_Year  1000 non-null   object \n",
      " 3   Certificate    899 non-null    object \n",
      " 4   Runtime        1000 non-null   object \n",
      " 5   Genre          1000 non-null   object \n",
      " 6   IMDB_Rating    1000 non-null   float64\n",
      " 7   Overview       1000 non-null   object \n",
      " 8   Meta_score     843 non-null    float64\n",
      " 9   Director       1000 non-null   object \n",
      " 10  Star1          1000 non-null   object \n",
      " 11  Star2          1000 non-null   object \n",
      " 12  Star3          1000 non-null   object \n",
      " 13  Star4          1000 non-null   object \n",
      " 14  No_of_Votes    1000 non-null   int64  \n",
      " 15  Gross          831 non-null    object \n",
      "dtypes: float64(2), int64(1), object(13)\n",
      "memory usage: 125.1+ KB\n"
     ]
    }
   ],
   "source": [
    "df.info()"
   ]
  },
  {
   "cell_type": "markdown",
   "id": "0e405845",
   "metadata": {
    "papermill": {
     "duration": 0.01942,
     "end_time": "2024-02-03T19:31:16.688199",
     "exception": false,
     "start_time": "2024-02-03T19:31:16.668779",
     "status": "completed"
    },
    "tags": []
   },
   "source": [
    "5) Check missing values in the Dataset"
   ]
  },
  {
   "cell_type": "code",
   "execution_count": 7,
   "id": "d71698a2",
   "metadata": {
    "execution": {
     "iopub.execute_input": "2024-02-03T19:31:16.792655Z",
     "iopub.status.busy": "2024-02-03T19:31:16.791557Z",
     "iopub.status.idle": "2024-02-03T19:31:16.800160Z",
     "shell.execute_reply": "2024-02-03T19:31:16.799011Z"
    },
    "papermill": {
     "duration": 0.032421,
     "end_time": "2024-02-03T19:31:16.802852",
     "exception": false,
     "start_time": "2024-02-03T19:31:16.770431",
     "status": "completed"
    },
    "tags": []
   },
   "outputs": [
    {
     "name": "stdout",
     "output_type": "stream",
     "text": [
      "Any missing values True\n"
     ]
    }
   ],
   "source": [
    "print(\"Any missing values\", df.isnull().values.any())"
   ]
  },
  {
   "cell_type": "code",
   "execution_count": 8,
   "id": "f4424dcc",
   "metadata": {
    "execution": {
     "iopub.execute_input": "2024-02-03T19:31:16.846301Z",
     "iopub.status.busy": "2024-02-03T19:31:16.845767Z",
     "iopub.status.idle": "2024-02-03T19:31:16.858581Z",
     "shell.execute_reply": "2024-02-03T19:31:16.857249Z"
    },
    "papermill": {
     "duration": 0.039135,
     "end_time": "2024-02-03T19:31:16.862048",
     "exception": false,
     "start_time": "2024-02-03T19:31:16.822913",
     "status": "completed"
    },
    "tags": []
   },
   "outputs": [
    {
     "data": {
      "text/plain": [
       "Poster_Link        0\n",
       "Series_Title       0\n",
       "Released_Year      0\n",
       "Certificate      101\n",
       "Runtime            0\n",
       "Genre              0\n",
       "IMDB_Rating        0\n",
       "Overview           0\n",
       "Meta_score       157\n",
       "Director           0\n",
       "Star1              0\n",
       "Star2              0\n",
       "Star3              0\n",
       "Star4              0\n",
       "No_of_Votes        0\n",
       "Gross            169\n",
       "dtype: int64"
      ]
     },
     "execution_count": 8,
     "metadata": {},
     "output_type": "execute_result"
    }
   ],
   "source": [
    "df.isnull().sum()"
   ]
  },
  {
   "cell_type": "markdown",
   "id": "d2949a16",
   "metadata": {
    "papermill": {
     "duration": 0.020344,
     "end_time": "2024-02-03T19:31:16.906049",
     "exception": false,
     "start_time": "2024-02-03T19:31:16.885705",
     "status": "completed"
    },
    "tags": []
   },
   "source": [
    "6) Drop all the missing values "
   ]
  },
  {
   "cell_type": "code",
   "execution_count": 9,
   "id": "875777cc",
   "metadata": {
    "execution": {
     "iopub.execute_input": "2024-02-03T19:31:16.951657Z",
     "iopub.status.busy": "2024-02-03T19:31:16.950923Z",
     "iopub.status.idle": "2024-02-03T19:31:16.987092Z",
     "shell.execute_reply": "2024-02-03T19:31:16.985568Z"
    },
    "papermill": {
     "duration": 0.061193,
     "end_time": "2024-02-03T19:31:16.989974",
     "exception": false,
     "start_time": "2024-02-03T19:31:16.928781",
     "status": "completed"
    },
    "tags": []
   },
   "outputs": [
    {
     "data": {
      "text/html": [
       "<div>\n",
       "<style scoped>\n",
       "    .dataframe tbody tr th:only-of-type {\n",
       "        vertical-align: middle;\n",
       "    }\n",
       "\n",
       "    .dataframe tbody tr th {\n",
       "        vertical-align: top;\n",
       "    }\n",
       "\n",
       "    .dataframe thead th {\n",
       "        text-align: right;\n",
       "    }\n",
       "</style>\n",
       "<table border=\"1\" class=\"dataframe\">\n",
       "  <thead>\n",
       "    <tr style=\"text-align: right;\">\n",
       "      <th></th>\n",
       "      <th>Poster_Link</th>\n",
       "      <th>Series_Title</th>\n",
       "      <th>Released_Year</th>\n",
       "      <th>Certificate</th>\n",
       "      <th>Runtime</th>\n",
       "      <th>Genre</th>\n",
       "      <th>IMDB_Rating</th>\n",
       "      <th>Overview</th>\n",
       "      <th>Meta_score</th>\n",
       "      <th>Director</th>\n",
       "      <th>Star1</th>\n",
       "      <th>Star2</th>\n",
       "      <th>Star3</th>\n",
       "      <th>Star4</th>\n",
       "      <th>No_of_Votes</th>\n",
       "      <th>Gross</th>\n",
       "    </tr>\n",
       "  </thead>\n",
       "  <tbody>\n",
       "    <tr>\n",
       "      <th>0</th>\n",
       "      <td>https://m.media-amazon.com/images/M/MV5BMDFkYT...</td>\n",
       "      <td>The Shawshank Redemption</td>\n",
       "      <td>1994</td>\n",
       "      <td>A</td>\n",
       "      <td>142 min</td>\n",
       "      <td>Drama</td>\n",
       "      <td>9.3</td>\n",
       "      <td>Two imprisoned men bond over a number of years...</td>\n",
       "      <td>80.0</td>\n",
       "      <td>Frank Darabont</td>\n",
       "      <td>Tim Robbins</td>\n",
       "      <td>Morgan Freeman</td>\n",
       "      <td>Bob Gunton</td>\n",
       "      <td>William Sadler</td>\n",
       "      <td>2343110</td>\n",
       "      <td>28,341,469</td>\n",
       "    </tr>\n",
       "    <tr>\n",
       "      <th>1</th>\n",
       "      <td>https://m.media-amazon.com/images/M/MV5BM2MyNj...</td>\n",
       "      <td>The Godfather</td>\n",
       "      <td>1972</td>\n",
       "      <td>A</td>\n",
       "      <td>175 min</td>\n",
       "      <td>Crime, Drama</td>\n",
       "      <td>9.2</td>\n",
       "      <td>An organized crime dynasty's aging patriarch t...</td>\n",
       "      <td>100.0</td>\n",
       "      <td>Francis Ford Coppola</td>\n",
       "      <td>Marlon Brando</td>\n",
       "      <td>Al Pacino</td>\n",
       "      <td>James Caan</td>\n",
       "      <td>Diane Keaton</td>\n",
       "      <td>1620367</td>\n",
       "      <td>134,966,411</td>\n",
       "    </tr>\n",
       "    <tr>\n",
       "      <th>2</th>\n",
       "      <td>https://m.media-amazon.com/images/M/MV5BMTMxNT...</td>\n",
       "      <td>The Dark Knight</td>\n",
       "      <td>2008</td>\n",
       "      <td>UA</td>\n",
       "      <td>152 min</td>\n",
       "      <td>Action, Crime, Drama</td>\n",
       "      <td>9.0</td>\n",
       "      <td>When the menace known as the Joker wreaks havo...</td>\n",
       "      <td>84.0</td>\n",
       "      <td>Christopher Nolan</td>\n",
       "      <td>Christian Bale</td>\n",
       "      <td>Heath Ledger</td>\n",
       "      <td>Aaron Eckhart</td>\n",
       "      <td>Michael Caine</td>\n",
       "      <td>2303232</td>\n",
       "      <td>534,858,444</td>\n",
       "    </tr>\n",
       "    <tr>\n",
       "      <th>3</th>\n",
       "      <td>https://m.media-amazon.com/images/M/MV5BMWMwMG...</td>\n",
       "      <td>The Godfather: Part II</td>\n",
       "      <td>1974</td>\n",
       "      <td>A</td>\n",
       "      <td>202 min</td>\n",
       "      <td>Crime, Drama</td>\n",
       "      <td>9.0</td>\n",
       "      <td>The early life and career of Vito Corleone in ...</td>\n",
       "      <td>90.0</td>\n",
       "      <td>Francis Ford Coppola</td>\n",
       "      <td>Al Pacino</td>\n",
       "      <td>Robert De Niro</td>\n",
       "      <td>Robert Duvall</td>\n",
       "      <td>Diane Keaton</td>\n",
       "      <td>1129952</td>\n",
       "      <td>57,300,000</td>\n",
       "    </tr>\n",
       "    <tr>\n",
       "      <th>4</th>\n",
       "      <td>https://m.media-amazon.com/images/M/MV5BMWU4N2...</td>\n",
       "      <td>12 Angry Men</td>\n",
       "      <td>1957</td>\n",
       "      <td>U</td>\n",
       "      <td>96 min</td>\n",
       "      <td>Crime, Drama</td>\n",
       "      <td>9.0</td>\n",
       "      <td>A jury holdout attempts to prevent a miscarria...</td>\n",
       "      <td>96.0</td>\n",
       "      <td>Sidney Lumet</td>\n",
       "      <td>Henry Fonda</td>\n",
       "      <td>Lee J. Cobb</td>\n",
       "      <td>Martin Balsam</td>\n",
       "      <td>John Fiedler</td>\n",
       "      <td>689845</td>\n",
       "      <td>4,360,000</td>\n",
       "    </tr>\n",
       "    <tr>\n",
       "      <th>...</th>\n",
       "      <td>...</td>\n",
       "      <td>...</td>\n",
       "      <td>...</td>\n",
       "      <td>...</td>\n",
       "      <td>...</td>\n",
       "      <td>...</td>\n",
       "      <td>...</td>\n",
       "      <td>...</td>\n",
       "      <td>...</td>\n",
       "      <td>...</td>\n",
       "      <td>...</td>\n",
       "      <td>...</td>\n",
       "      <td>...</td>\n",
       "      <td>...</td>\n",
       "      <td>...</td>\n",
       "      <td>...</td>\n",
       "    </tr>\n",
       "    <tr>\n",
       "      <th>990</th>\n",
       "      <td>https://m.media-amazon.com/images/M/MV5BYjRmY2...</td>\n",
       "      <td>Giù la testa</td>\n",
       "      <td>1971</td>\n",
       "      <td>PG</td>\n",
       "      <td>157 min</td>\n",
       "      <td>Drama, War, Western</td>\n",
       "      <td>7.6</td>\n",
       "      <td>A low-life bandit and an I.R.A. explosives exp...</td>\n",
       "      <td>77.0</td>\n",
       "      <td>Sergio Leone</td>\n",
       "      <td>Rod Steiger</td>\n",
       "      <td>James Coburn</td>\n",
       "      <td>Romolo Valli</td>\n",
       "      <td>Maria Monti</td>\n",
       "      <td>30144</td>\n",
       "      <td>696,690</td>\n",
       "    </tr>\n",
       "    <tr>\n",
       "      <th>991</th>\n",
       "      <td>https://m.media-amazon.com/images/M/MV5BMzAyND...</td>\n",
       "      <td>Kelly's Heroes</td>\n",
       "      <td>1970</td>\n",
       "      <td>GP</td>\n",
       "      <td>144 min</td>\n",
       "      <td>Adventure, Comedy, War</td>\n",
       "      <td>7.6</td>\n",
       "      <td>A group of U.S. soldiers sneaks across enemy l...</td>\n",
       "      <td>50.0</td>\n",
       "      <td>Brian G. Hutton</td>\n",
       "      <td>Clint Eastwood</td>\n",
       "      <td>Telly Savalas</td>\n",
       "      <td>Don Rickles</td>\n",
       "      <td>Carroll O'Connor</td>\n",
       "      <td>45338</td>\n",
       "      <td>1,378,435</td>\n",
       "    </tr>\n",
       "    <tr>\n",
       "      <th>992</th>\n",
       "      <td>https://m.media-amazon.com/images/M/MV5BMjAwMT...</td>\n",
       "      <td>The Jungle Book</td>\n",
       "      <td>1967</td>\n",
       "      <td>U</td>\n",
       "      <td>78 min</td>\n",
       "      <td>Animation, Adventure, Family</td>\n",
       "      <td>7.6</td>\n",
       "      <td>Bagheera the Panther and Baloo the Bear have a...</td>\n",
       "      <td>65.0</td>\n",
       "      <td>Wolfgang Reitherman</td>\n",
       "      <td>Phil Harris</td>\n",
       "      <td>Sebastian Cabot</td>\n",
       "      <td>Louis Prima</td>\n",
       "      <td>Bruce Reitherman</td>\n",
       "      <td>166409</td>\n",
       "      <td>141,843,612</td>\n",
       "    </tr>\n",
       "    <tr>\n",
       "      <th>994</th>\n",
       "      <td>https://m.media-amazon.com/images/M/MV5BZjQyMG...</td>\n",
       "      <td>A Hard Day's Night</td>\n",
       "      <td>1964</td>\n",
       "      <td>U</td>\n",
       "      <td>87 min</td>\n",
       "      <td>Comedy, Music, Musical</td>\n",
       "      <td>7.6</td>\n",
       "      <td>Over two \"typical\" days in the life of The Bea...</td>\n",
       "      <td>96.0</td>\n",
       "      <td>Richard Lester</td>\n",
       "      <td>John Lennon</td>\n",
       "      <td>Paul McCartney</td>\n",
       "      <td>George Harrison</td>\n",
       "      <td>Ringo Starr</td>\n",
       "      <td>40351</td>\n",
       "      <td>13,780,024</td>\n",
       "    </tr>\n",
       "    <tr>\n",
       "      <th>997</th>\n",
       "      <td>https://m.media-amazon.com/images/M/MV5BM2U3Yz...</td>\n",
       "      <td>From Here to Eternity</td>\n",
       "      <td>1953</td>\n",
       "      <td>Passed</td>\n",
       "      <td>118 min</td>\n",
       "      <td>Drama, Romance, War</td>\n",
       "      <td>7.6</td>\n",
       "      <td>In Hawaii in 1941, a private is cruelly punish...</td>\n",
       "      <td>85.0</td>\n",
       "      <td>Fred Zinnemann</td>\n",
       "      <td>Burt Lancaster</td>\n",
       "      <td>Montgomery Clift</td>\n",
       "      <td>Deborah Kerr</td>\n",
       "      <td>Donna Reed</td>\n",
       "      <td>43374</td>\n",
       "      <td>30,500,000</td>\n",
       "    </tr>\n",
       "  </tbody>\n",
       "</table>\n",
       "<p>714 rows × 16 columns</p>\n",
       "</div>"
      ],
      "text/plain": [
       "                                           Poster_Link  \\\n",
       "0    https://m.media-amazon.com/images/M/MV5BMDFkYT...   \n",
       "1    https://m.media-amazon.com/images/M/MV5BM2MyNj...   \n",
       "2    https://m.media-amazon.com/images/M/MV5BMTMxNT...   \n",
       "3    https://m.media-amazon.com/images/M/MV5BMWMwMG...   \n",
       "4    https://m.media-amazon.com/images/M/MV5BMWU4N2...   \n",
       "..                                                 ...   \n",
       "990  https://m.media-amazon.com/images/M/MV5BYjRmY2...   \n",
       "991  https://m.media-amazon.com/images/M/MV5BMzAyND...   \n",
       "992  https://m.media-amazon.com/images/M/MV5BMjAwMT...   \n",
       "994  https://m.media-amazon.com/images/M/MV5BZjQyMG...   \n",
       "997  https://m.media-amazon.com/images/M/MV5BM2U3Yz...   \n",
       "\n",
       "                 Series_Title Released_Year Certificate  Runtime  \\\n",
       "0    The Shawshank Redemption          1994           A  142 min   \n",
       "1               The Godfather          1972           A  175 min   \n",
       "2             The Dark Knight          2008          UA  152 min   \n",
       "3      The Godfather: Part II          1974           A  202 min   \n",
       "4                12 Angry Men          1957           U   96 min   \n",
       "..                        ...           ...         ...      ...   \n",
       "990              Giù la testa          1971          PG  157 min   \n",
       "991            Kelly's Heroes          1970          GP  144 min   \n",
       "992           The Jungle Book          1967           U   78 min   \n",
       "994        A Hard Day's Night          1964           U   87 min   \n",
       "997     From Here to Eternity          1953      Passed  118 min   \n",
       "\n",
       "                            Genre  IMDB_Rating  \\\n",
       "0                           Drama          9.3   \n",
       "1                    Crime, Drama          9.2   \n",
       "2            Action, Crime, Drama          9.0   \n",
       "3                    Crime, Drama          9.0   \n",
       "4                    Crime, Drama          9.0   \n",
       "..                            ...          ...   \n",
       "990           Drama, War, Western          7.6   \n",
       "991        Adventure, Comedy, War          7.6   \n",
       "992  Animation, Adventure, Family          7.6   \n",
       "994        Comedy, Music, Musical          7.6   \n",
       "997           Drama, Romance, War          7.6   \n",
       "\n",
       "                                              Overview  Meta_score  \\\n",
       "0    Two imprisoned men bond over a number of years...        80.0   \n",
       "1    An organized crime dynasty's aging patriarch t...       100.0   \n",
       "2    When the menace known as the Joker wreaks havo...        84.0   \n",
       "3    The early life and career of Vito Corleone in ...        90.0   \n",
       "4    A jury holdout attempts to prevent a miscarria...        96.0   \n",
       "..                                                 ...         ...   \n",
       "990  A low-life bandit and an I.R.A. explosives exp...        77.0   \n",
       "991  A group of U.S. soldiers sneaks across enemy l...        50.0   \n",
       "992  Bagheera the Panther and Baloo the Bear have a...        65.0   \n",
       "994  Over two \"typical\" days in the life of The Bea...        96.0   \n",
       "997  In Hawaii in 1941, a private is cruelly punish...        85.0   \n",
       "\n",
       "                 Director           Star1             Star2            Star3  \\\n",
       "0          Frank Darabont     Tim Robbins    Morgan Freeman       Bob Gunton   \n",
       "1    Francis Ford Coppola   Marlon Brando         Al Pacino       James Caan   \n",
       "2       Christopher Nolan  Christian Bale      Heath Ledger    Aaron Eckhart   \n",
       "3    Francis Ford Coppola       Al Pacino    Robert De Niro    Robert Duvall   \n",
       "4            Sidney Lumet     Henry Fonda       Lee J. Cobb    Martin Balsam   \n",
       "..                    ...             ...               ...              ...   \n",
       "990          Sergio Leone     Rod Steiger      James Coburn     Romolo Valli   \n",
       "991       Brian G. Hutton  Clint Eastwood     Telly Savalas      Don Rickles   \n",
       "992   Wolfgang Reitherman     Phil Harris   Sebastian Cabot      Louis Prima   \n",
       "994        Richard Lester     John Lennon    Paul McCartney  George Harrison   \n",
       "997        Fred Zinnemann  Burt Lancaster  Montgomery Clift     Deborah Kerr   \n",
       "\n",
       "                Star4  No_of_Votes        Gross  \n",
       "0      William Sadler      2343110   28,341,469  \n",
       "1        Diane Keaton      1620367  134,966,411  \n",
       "2       Michael Caine      2303232  534,858,444  \n",
       "3        Diane Keaton      1129952   57,300,000  \n",
       "4        John Fiedler       689845    4,360,000  \n",
       "..                ...          ...          ...  \n",
       "990       Maria Monti        30144      696,690  \n",
       "991  Carroll O'Connor        45338    1,378,435  \n",
       "992  Bruce Reitherman       166409  141,843,612  \n",
       "994       Ringo Starr        40351   13,780,024  \n",
       "997        Donna Reed        43374   30,500,000  \n",
       "\n",
       "[714 rows x 16 columns]"
      ]
     },
     "execution_count": 9,
     "metadata": {},
     "output_type": "execute_result"
    }
   ],
   "source": [
    "df.dropna(axis=0)"
   ]
  },
  {
   "cell_type": "markdown",
   "id": "a10d64cf",
   "metadata": {
    "papermill": {
     "duration": 0.021096,
     "end_time": "2024-02-03T19:31:17.032099",
     "exception": false,
     "start_time": "2024-02-03T19:31:17.011003",
     "status": "completed"
    },
    "tags": []
   },
   "source": [
    "7) Check for Duplicate Data "
   ]
  },
  {
   "cell_type": "code",
   "execution_count": 10,
   "id": "03d791b2",
   "metadata": {
    "execution": {
     "iopub.execute_input": "2024-02-03T19:31:17.077652Z",
     "iopub.status.busy": "2024-02-03T19:31:17.077206Z",
     "iopub.status.idle": "2024-02-03T19:31:17.092312Z",
     "shell.execute_reply": "2024-02-03T19:31:17.091080Z"
    },
    "papermill": {
     "duration": 0.041769,
     "end_time": "2024-02-03T19:31:17.094864",
     "exception": false,
     "start_time": "2024-02-03T19:31:17.053095",
     "status": "completed"
    },
    "tags": []
   },
   "outputs": [
    {
     "name": "stdout",
     "output_type": "stream",
     "text": [
      "Are there any duplicate values? False\n"
     ]
    }
   ],
   "source": [
    "dup_df=df.duplicated().any()\n",
    "print(\"Are there any duplicate values?\",dup_df)"
   ]
  },
  {
   "cell_type": "markdown",
   "id": "c88e2da1",
   "metadata": {
    "papermill": {
     "duration": 0.020859,
     "end_time": "2024-02-03T19:31:17.137476",
     "exception": false,
     "start_time": "2024-02-03T19:31:17.116617",
     "status": "completed"
    },
    "tags": []
   },
   "source": [
    "8)Get Overall statistics about the dataframe "
   ]
  },
  {
   "cell_type": "code",
   "execution_count": 11,
   "id": "46ab5f23",
   "metadata": {
    "execution": {
     "iopub.execute_input": "2024-02-03T19:31:17.184069Z",
     "iopub.status.busy": "2024-02-03T19:31:17.182821Z",
     "iopub.status.idle": "2024-02-03T19:31:17.207627Z",
     "shell.execute_reply": "2024-02-03T19:31:17.206596Z"
    },
    "papermill": {
     "duration": 0.050158,
     "end_time": "2024-02-03T19:31:17.209809",
     "exception": false,
     "start_time": "2024-02-03T19:31:17.159651",
     "status": "completed"
    },
    "tags": []
   },
   "outputs": [
    {
     "data": {
      "text/html": [
       "<div>\n",
       "<style scoped>\n",
       "    .dataframe tbody tr th:only-of-type {\n",
       "        vertical-align: middle;\n",
       "    }\n",
       "\n",
       "    .dataframe tbody tr th {\n",
       "        vertical-align: top;\n",
       "    }\n",
       "\n",
       "    .dataframe thead th {\n",
       "        text-align: right;\n",
       "    }\n",
       "</style>\n",
       "<table border=\"1\" class=\"dataframe\">\n",
       "  <thead>\n",
       "    <tr style=\"text-align: right;\">\n",
       "      <th></th>\n",
       "      <th>IMDB_Rating</th>\n",
       "      <th>Meta_score</th>\n",
       "      <th>No_of_Votes</th>\n",
       "    </tr>\n",
       "  </thead>\n",
       "  <tbody>\n",
       "    <tr>\n",
       "      <th>count</th>\n",
       "      <td>1000.000000</td>\n",
       "      <td>843.000000</td>\n",
       "      <td>1.000000e+03</td>\n",
       "    </tr>\n",
       "    <tr>\n",
       "      <th>mean</th>\n",
       "      <td>7.949300</td>\n",
       "      <td>77.971530</td>\n",
       "      <td>2.736929e+05</td>\n",
       "    </tr>\n",
       "    <tr>\n",
       "      <th>std</th>\n",
       "      <td>0.275491</td>\n",
       "      <td>12.376099</td>\n",
       "      <td>3.273727e+05</td>\n",
       "    </tr>\n",
       "    <tr>\n",
       "      <th>min</th>\n",
       "      <td>7.600000</td>\n",
       "      <td>28.000000</td>\n",
       "      <td>2.508800e+04</td>\n",
       "    </tr>\n",
       "    <tr>\n",
       "      <th>25%</th>\n",
       "      <td>7.700000</td>\n",
       "      <td>70.000000</td>\n",
       "      <td>5.552625e+04</td>\n",
       "    </tr>\n",
       "    <tr>\n",
       "      <th>50%</th>\n",
       "      <td>7.900000</td>\n",
       "      <td>79.000000</td>\n",
       "      <td>1.385485e+05</td>\n",
       "    </tr>\n",
       "    <tr>\n",
       "      <th>75%</th>\n",
       "      <td>8.100000</td>\n",
       "      <td>87.000000</td>\n",
       "      <td>3.741612e+05</td>\n",
       "    </tr>\n",
       "    <tr>\n",
       "      <th>max</th>\n",
       "      <td>9.300000</td>\n",
       "      <td>100.000000</td>\n",
       "      <td>2.343110e+06</td>\n",
       "    </tr>\n",
       "  </tbody>\n",
       "</table>\n",
       "</div>"
      ],
      "text/plain": [
       "       IMDB_Rating  Meta_score   No_of_Votes\n",
       "count  1000.000000  843.000000  1.000000e+03\n",
       "mean      7.949300   77.971530  2.736929e+05\n",
       "std       0.275491   12.376099  3.273727e+05\n",
       "min       7.600000   28.000000  2.508800e+04\n",
       "25%       7.700000   70.000000  5.552625e+04\n",
       "50%       7.900000   79.000000  1.385485e+05\n",
       "75%       8.100000   87.000000  3.741612e+05\n",
       "max       9.300000  100.000000  2.343110e+06"
      ]
     },
     "execution_count": 11,
     "metadata": {},
     "output_type": "execute_result"
    }
   ],
   "source": [
    "df.describe()"
   ]
  },
  {
   "cell_type": "markdown",
   "id": "99f2b81e",
   "metadata": {
    "papermill": {
     "duration": 0.020922,
     "end_time": "2024-02-03T19:31:17.251901",
     "exception": false,
     "start_time": "2024-02-03T19:31:17.230979",
     "status": "completed"
    },
    "tags": []
   },
   "source": [
    "9 )Display title of the movie havinf runtime >=180 minutes"
   ]
  },
  {
   "cell_type": "code",
   "execution_count": 12,
   "id": "41e534fa",
   "metadata": {
    "execution": {
     "iopub.execute_input": "2024-02-03T19:31:17.297458Z",
     "iopub.status.busy": "2024-02-03T19:31:17.296610Z",
     "iopub.status.idle": "2024-02-03T19:31:17.303762Z",
     "shell.execute_reply": "2024-02-03T19:31:17.302310Z"
    },
    "papermill": {
     "duration": 0.033275,
     "end_time": "2024-02-03T19:31:17.306450",
     "exception": false,
     "start_time": "2024-02-03T19:31:17.273175",
     "status": "completed"
    },
    "tags": []
   },
   "outputs": [
    {
     "name": "stdout",
     "output_type": "stream",
     "text": [
      "Index(['Poster_Link', 'Series_Title', 'Released_Year', 'Certificate',\n",
      "       'Runtime', 'Genre', 'IMDB_Rating', 'Overview', 'Meta_score', 'Director',\n",
      "       'Star1', 'Star2', 'Star3', 'Star4', 'No_of_Votes', 'Gross'],\n",
      "      dtype='object')\n"
     ]
    }
   ],
   "source": [
    "print(df.columns)\n"
   ]
  },
  {
   "cell_type": "markdown",
   "id": "311958bb",
   "metadata": {
    "papermill": {
     "duration": 0.021115,
     "end_time": "2024-02-03T19:31:17.349060",
     "exception": false,
     "start_time": "2024-02-03T19:31:17.327945",
     "status": "completed"
    },
    "tags": []
   },
   "source": [
    "10 )In which year there was the hightest average voting?."
   ]
  },
  {
   "cell_type": "code",
   "execution_count": 13,
   "id": "01277d78",
   "metadata": {
    "execution": {
     "iopub.execute_input": "2024-02-03T19:31:17.393906Z",
     "iopub.status.busy": "2024-02-03T19:31:17.393466Z",
     "iopub.status.idle": "2024-02-03T19:31:17.412896Z",
     "shell.execute_reply": "2024-02-03T19:31:17.411442Z"
    },
    "papermill": {
     "duration": 0.044971,
     "end_time": "2024-02-03T19:31:17.415561",
     "exception": false,
     "start_time": "2024-02-03T19:31:17.370590",
     "status": "completed"
    },
    "tags": []
   },
   "outputs": [
    {
     "data": {
      "text/html": [
       "<div>\n",
       "<style scoped>\n",
       "    .dataframe tbody tr th:only-of-type {\n",
       "        vertical-align: middle;\n",
       "    }\n",
       "\n",
       "    .dataframe tbody tr th {\n",
       "        vertical-align: top;\n",
       "    }\n",
       "\n",
       "    .dataframe thead th {\n",
       "        text-align: right;\n",
       "    }\n",
       "</style>\n",
       "<table border=\"1\" class=\"dataframe\">\n",
       "  <thead>\n",
       "    <tr style=\"text-align: right;\">\n",
       "      <th></th>\n",
       "      <th>Released_Year</th>\n",
       "      <th>No_of_Votes</th>\n",
       "    </tr>\n",
       "  </thead>\n",
       "  <tbody>\n",
       "    <tr>\n",
       "      <th>0</th>\n",
       "      <td>1994</td>\n",
       "      <td>666532.153846</td>\n",
       "    </tr>\n",
       "    <tr>\n",
       "      <th>1</th>\n",
       "      <td>1977</td>\n",
       "      <td>556087.333333</td>\n",
       "    </tr>\n",
       "    <tr>\n",
       "      <th>2</th>\n",
       "      <td>1999</td>\n",
       "      <td>536961.058824</td>\n",
       "    </tr>\n",
       "    <tr>\n",
       "      <th>3</th>\n",
       "      <td>2008</td>\n",
       "      <td>444044.904762</td>\n",
       "    </tr>\n",
       "    <tr>\n",
       "      <th>4</th>\n",
       "      <td>2010</td>\n",
       "      <td>431661.173913</td>\n",
       "    </tr>\n",
       "    <tr>\n",
       "      <th>5</th>\n",
       "      <td>2014</td>\n",
       "      <td>412249.312500</td>\n",
       "    </tr>\n",
       "    <tr>\n",
       "      <th>6</th>\n",
       "      <td>2012</td>\n",
       "      <td>400499.708333</td>\n",
       "    </tr>\n",
       "    <tr>\n",
       "      <th>7</th>\n",
       "      <td>1995</td>\n",
       "      <td>385083.631579</td>\n",
       "    </tr>\n",
       "    <tr>\n",
       "      <th>8</th>\n",
       "      <td>1980</td>\n",
       "      <td>384606.000000</td>\n",
       "    </tr>\n",
       "    <tr>\n",
       "      <th>9</th>\n",
       "      <td>1983</td>\n",
       "      <td>384088.800000</td>\n",
       "    </tr>\n",
       "  </tbody>\n",
       "</table>\n",
       "</div>"
      ],
      "text/plain": [
       "  Released_Year    No_of_Votes\n",
       "0          1994  666532.153846\n",
       "1          1977  556087.333333\n",
       "2          1999  536961.058824\n",
       "3          2008  444044.904762\n",
       "4          2010  431661.173913\n",
       "5          2014  412249.312500\n",
       "6          2012  400499.708333\n",
       "7          1995  385083.631579\n",
       "8          1980  384606.000000\n",
       "9          1983  384088.800000"
      ]
     },
     "execution_count": 13,
     "metadata": {},
     "output_type": "execute_result"
    }
   ],
   "source": [
    "group_data=df.groupby('Released_Year')['No_of_Votes'].mean().sort_values(ascending=False).reset_index().head(10)\n",
    "group_data"
   ]
  },
  {
   "cell_type": "code",
   "execution_count": 14,
   "id": "da85be50",
   "metadata": {
    "execution": {
     "iopub.execute_input": "2024-02-03T19:31:17.462154Z",
     "iopub.status.busy": "2024-02-03T19:31:17.461310Z",
     "iopub.status.idle": "2024-02-03T19:31:17.859963Z",
     "shell.execute_reply": "2024-02-03T19:31:17.858698Z"
    },
    "papermill": {
     "duration": 0.424343,
     "end_time": "2024-02-03T19:31:17.862346",
     "exception": false,
     "start_time": "2024-02-03T19:31:17.438003",
     "status": "completed"
    },
    "tags": []
   },
   "outputs": [
    {
     "data": {
      "image/png": "[encoded data removed]",
      "text/plain": [
       "<Figure size 1200x600 with 1 Axes>"
      ]
     },
     "metadata": {},
     "output_type": "display_data"
    }
   ],
   "source": [
    "#  grouped_data = df.groupby('Released_Year')['No_of_Votes'].mean().sort_values(ascending=False).reset_index()\n",
    "plt.figure(figsize=(12, 6))\n",
    "sns.barplot(x='Released_Year', y='No_of_Votes', data=group_data, palette='viridis')\n",
    "plt.title('Mean No_of_Votes per Released_Year')\n",
    "plt.xlabel('Released_Year')\n",
    "plt.ylabel('Mean No_of_Votes')\n",
    "plt.show()"
   ]
  },
  {
   "cell_type": "markdown",
   "id": "61b898f6",
   "metadata": {
    "papermill": {
     "duration": 0.02291,
     "end_time": "2024-02-03T19:31:17.907528",
     "exception": false,
     "start_time": "2024-02-03T19:31:17.884618",
     "status": "completed"
    },
    "tags": []
   },
   "source": [
    "To this analysis, movies released in 1994 received the highest average number of votes among the years considered in the dataset."
   ]
  },
  {
   "cell_type": "markdown",
   "id": "49ff9cb9",
   "metadata": {
    "papermill": {
     "duration": 0.022432,
     "end_time": "2024-02-03T19:31:17.952964",
     "exception": false,
     "start_time": "2024-02-03T19:31:17.930532",
     "status": "completed"
    },
    "tags": []
   },
   "source": [
    "11) In which year there was the highest Average meta score."
   ]
  },
  {
   "cell_type": "code",
   "execution_count": 15,
   "id": "1a5c39e8",
   "metadata": {
    "execution": {
     "iopub.execute_input": "2024-02-03T19:31:18.001711Z",
     "iopub.status.busy": "2024-02-03T19:31:18.001245Z",
     "iopub.status.idle": "2024-02-03T19:31:18.017295Z",
     "shell.execute_reply": "2024-02-03T19:31:18.016118Z"
    },
    "papermill": {
     "duration": 0.043921,
     "end_time": "2024-02-03T19:31:18.019716",
     "exception": false,
     "start_time": "2024-02-03T19:31:17.975795",
     "status": "completed"
    },
    "tags": []
   },
   "outputs": [
    {
     "data": {
      "text/html": [
       "<div>\n",
       "<style scoped>\n",
       "    .dataframe tbody tr th:only-of-type {\n",
       "        vertical-align: middle;\n",
       "    }\n",
       "\n",
       "    .dataframe tbody tr th {\n",
       "        vertical-align: top;\n",
       "    }\n",
       "\n",
       "    .dataframe thead th {\n",
       "        text-align: right;\n",
       "    }\n",
       "</style>\n",
       "<table border=\"1\" class=\"dataframe\">\n",
       "  <thead>\n",
       "    <tr style=\"text-align: right;\">\n",
       "      <th></th>\n",
       "      <th>Released_Year</th>\n",
       "      <th>Meta_score</th>\n",
       "    </tr>\n",
       "  </thead>\n",
       "  <tbody>\n",
       "    <tr>\n",
       "      <th>0</th>\n",
       "      <td>1941</td>\n",
       "      <td>98.000000</td>\n",
       "    </tr>\n",
       "    <tr>\n",
       "      <th>1</th>\n",
       "      <td>1927</td>\n",
       "      <td>98.000000</td>\n",
       "    </tr>\n",
       "    <tr>\n",
       "      <th>2</th>\n",
       "      <td>1950</td>\n",
       "      <td>98.000000</td>\n",
       "    </tr>\n",
       "    <tr>\n",
       "      <th>3</th>\n",
       "      <td>1949</td>\n",
       "      <td>97.000000</td>\n",
       "    </tr>\n",
       "    <tr>\n",
       "      <th>4</th>\n",
       "      <td>1925</td>\n",
       "      <td>97.000000</td>\n",
       "    </tr>\n",
       "    <tr>\n",
       "      <th>5</th>\n",
       "      <td>1936</td>\n",
       "      <td>96.000000</td>\n",
       "    </tr>\n",
       "    <tr>\n",
       "      <th>6</th>\n",
       "      <td>1938</td>\n",
       "      <td>95.333333</td>\n",
       "    </tr>\n",
       "    <tr>\n",
       "      <th>7</th>\n",
       "      <td>1931</td>\n",
       "      <td>95.000000</td>\n",
       "    </tr>\n",
       "    <tr>\n",
       "      <th>8</th>\n",
       "      <td>1959</td>\n",
       "      <td>94.800000</td>\n",
       "    </tr>\n",
       "    <tr>\n",
       "      <th>9</th>\n",
       "      <td>1958</td>\n",
       "      <td>94.333333</td>\n",
       "    </tr>\n",
       "  </tbody>\n",
       "</table>\n",
       "</div>"
      ],
      "text/plain": [
       "  Released_Year  Meta_score\n",
       "0          1941   98.000000\n",
       "1          1927   98.000000\n",
       "2          1950   98.000000\n",
       "3          1949   97.000000\n",
       "4          1925   97.000000\n",
       "5          1936   96.000000\n",
       "6          1938   95.333333\n",
       "7          1931   95.000000\n",
       "8          1959   94.800000\n",
       "9          1958   94.333333"
      ]
     },
     "execution_count": 15,
     "metadata": {},
     "output_type": "execute_result"
    }
   ],
   "source": [
    "group_data=df.groupby('Released_Year')['Meta_score'].mean().sort_values(ascending=False).reset_index().head(10)\n",
    "group_data.head(10)"
   ]
  },
  {
   "cell_type": "code",
   "execution_count": 16,
   "id": "87bb488c",
   "metadata": {
    "execution": {
     "iopub.execute_input": "2024-02-03T19:31:18.069229Z",
     "iopub.status.busy": "2024-02-03T19:31:18.068568Z",
     "iopub.status.idle": "2024-02-03T19:31:18.417673Z",
     "shell.execute_reply": "2024-02-03T19:31:18.416524Z"
    },
    "papermill": {
     "duration": 0.377781,
     "end_time": "2024-02-03T19:31:18.420317",
     "exception": false,
     "start_time": "2024-02-03T19:31:18.042536",
     "status": "completed"
    },
    "tags": []
   },
   "outputs": [
    {
     "data": {
      "image/png": "[encoded data removed]",
      "text/plain": [
       "<Figure size 1200x600 with 1 Axes>"
      ]
     },
     "metadata": {},
     "output_type": "display_data"
    }
   ],
   "source": [
    "plt.figure(figsize=(12, 6))\n",
    "sns.barplot(x='Released_Year', y='Meta_score', data=group_data, palette='coolwarm')\n",
    "plt.title('Top 10 Mean Meta_score per Released_Year')\n",
    "plt.xlabel('Released_Year')\n",
    "plt.ylabel('Mean Meta_score')\n",
    "plt.show()"
   ]
  },
  {
   "cell_type": "markdown",
   "id": "18ac23ed",
   "metadata": {
    "papermill": {
     "duration": 0.022507,
     "end_time": "2024-02-03T19:31:18.465475",
     "exception": false,
     "start_time": "2024-02-03T19:31:18.442968",
     "status": "completed"
    },
    "tags": []
   },
   "source": [
    "The bar plot visually represents this information, where each bar corresponds to a year, and the height of each bar represents the mean Meta Score for movies released in that year. The plot is sorted in descending order, so the highest bars are on the left.\n",
    "In summary, according to this analysis, movies released in 1941, 1927, and 1950 had the highest average Meta Scores among the years considered in the dataset."
   ]
  },
  {
   "cell_type": "markdown",
   "id": "3c35af90",
   "metadata": {
    "papermill": {
     "duration": 0.022864,
     "end_time": "2024-02-03T19:31:18.511098",
     "exception": false,
     "start_time": "2024-02-03T19:31:18.488234",
     "status": "completed"
    },
    "tags": []
   },
   "source": [
    "12)Find The average rating for each director."
   ]
  },
  {
   "cell_type": "code",
   "execution_count": 17,
   "id": "ad0dedfe",
   "metadata": {
    "execution": {
     "iopub.execute_input": "2024-02-03T19:31:18.559242Z",
     "iopub.status.busy": "2024-02-03T19:31:18.558542Z",
     "iopub.status.idle": "2024-02-03T19:31:18.566171Z",
     "shell.execute_reply": "2024-02-03T19:31:18.565396Z"
    },
    "papermill": {
     "duration": 0.034606,
     "end_time": "2024-02-03T19:31:18.568583",
     "exception": false,
     "start_time": "2024-02-03T19:31:18.533977",
     "status": "completed"
    },
    "tags": []
   },
   "outputs": [],
   "source": [
    "group_data = df.groupby('Director')['IMDB_Rating'].mean().sort_values(ascending=False)\n",
    "top_10_directors = group_data.head(10)"
   ]
  },
  {
   "cell_type": "code",
   "execution_count": 18,
   "id": "c2397095",
   "metadata": {
    "execution": {
     "iopub.execute_input": "2024-02-03T19:31:18.616632Z",
     "iopub.status.busy": "2024-02-03T19:31:18.616193Z",
     "iopub.status.idle": "2024-02-03T19:31:18.989795Z",
     "shell.execute_reply": "2024-02-03T19:31:18.988595Z"
    },
    "papermill": {
     "duration": 0.400822,
     "end_time": "2024-02-03T19:31:18.992348",
     "exception": false,
     "start_time": "2024-02-03T19:31:18.591526",
     "status": "completed"
    },
    "tags": []
   },
   "outputs": [
    {
     "data": {
      "image/png": "[encoded data removed]",
      "text/plain": [
       "<Figure size 1200x600 with 1 Axes>"
      ]
     },
     "metadata": {},
     "output_type": "display_data"
    }
   ],
   "source": [
    "plt.figure(figsize=(12, 6))\n",
    "sns.barplot(x=top_10_directors.index, y=top_10_directors.values, palette='Blues')\n",
    "plt.title('Top 10 Directors by Mean No_of_Votes')\n",
    "plt.xlabel('Director')\n",
    "plt.ylabel('IMDB_Rating')\n",
    "plt.xticks(rotation=45, ha='right')  \n",
    "plt.show()"
   ]
  },
  {
   "cell_type": "markdown",
   "id": "b2c02486",
   "metadata": {
    "papermill": {
     "duration": 0.023594,
     "end_time": "2024-02-03T19:31:19.040287",
     "exception": false,
     "start_time": "2024-02-03T19:31:19.016693",
     "status": "completed"
    },
    "tags": []
   },
   "source": [
    "13) Display top 10 lengthy movies title and runtime."
   ]
  },
  {
   "cell_type": "code",
   "execution_count": 19,
   "id": "f7e60861",
   "metadata": {
    "execution": {
     "iopub.execute_input": "2024-02-03T19:31:19.091646Z",
     "iopub.status.busy": "2024-02-03T19:31:19.091192Z",
     "iopub.status.idle": "2024-02-03T19:31:19.113651Z",
     "shell.execute_reply": "2024-02-03T19:31:19.112418Z"
    },
    "papermill": {
     "duration": 0.051443,
     "end_time": "2024-02-03T19:31:19.115990",
     "exception": false,
     "start_time": "2024-02-03T19:31:19.064547",
     "status": "completed"
    },
    "tags": []
   },
   "outputs": [
    {
     "data": {
      "text/html": [
       "<div>\n",
       "<style scoped>\n",
       "    .dataframe tbody tr th:only-of-type {\n",
       "        vertical-align: middle;\n",
       "    }\n",
       "\n",
       "    .dataframe tbody tr th {\n",
       "        vertical-align: top;\n",
       "    }\n",
       "\n",
       "    .dataframe thead th {\n",
       "        text-align: right;\n",
       "    }\n",
       "</style>\n",
       "<table border=\"1\" class=\"dataframe\">\n",
       "  <thead>\n",
       "    <tr style=\"text-align: right;\">\n",
       "      <th></th>\n",
       "      <th>Series_Title</th>\n",
       "      <th>Runtime</th>\n",
       "    </tr>\n",
       "  </thead>\n",
       "  <tbody>\n",
       "    <tr>\n",
       "      <th>0</th>\n",
       "      <td>The Shawshank Redemption</td>\n",
       "      <td>NaN</td>\n",
       "    </tr>\n",
       "    <tr>\n",
       "      <th>1</th>\n",
       "      <td>The Godfather</td>\n",
       "      <td>NaN</td>\n",
       "    </tr>\n",
       "    <tr>\n",
       "      <th>2</th>\n",
       "      <td>The Dark Knight</td>\n",
       "      <td>NaN</td>\n",
       "    </tr>\n",
       "    <tr>\n",
       "      <th>3</th>\n",
       "      <td>The Godfather: Part II</td>\n",
       "      <td>NaN</td>\n",
       "    </tr>\n",
       "    <tr>\n",
       "      <th>4</th>\n",
       "      <td>12 Angry Men</td>\n",
       "      <td>NaN</td>\n",
       "    </tr>\n",
       "    <tr>\n",
       "      <th>5</th>\n",
       "      <td>The Lord of the Rings: The Return of the King</td>\n",
       "      <td>NaN</td>\n",
       "    </tr>\n",
       "    <tr>\n",
       "      <th>6</th>\n",
       "      <td>Pulp Fiction</td>\n",
       "      <td>NaN</td>\n",
       "    </tr>\n",
       "    <tr>\n",
       "      <th>7</th>\n",
       "      <td>Schindler's List</td>\n",
       "      <td>NaN</td>\n",
       "    </tr>\n",
       "    <tr>\n",
       "      <th>8</th>\n",
       "      <td>Inception</td>\n",
       "      <td>NaN</td>\n",
       "    </tr>\n",
       "    <tr>\n",
       "      <th>9</th>\n",
       "      <td>Fight Club</td>\n",
       "      <td>NaN</td>\n",
       "    </tr>\n",
       "  </tbody>\n",
       "</table>\n",
       "</div>"
      ],
      "text/plain": [
       "                                    Series_Title  Runtime\n",
       "0                       The Shawshank Redemption      NaN\n",
       "1                                  The Godfather      NaN\n",
       "2                                The Dark Knight      NaN\n",
       "3                         The Godfather: Part II      NaN\n",
       "4                                   12 Angry Men      NaN\n",
       "5  The Lord of the Rings: The Return of the King      NaN\n",
       "6                                   Pulp Fiction      NaN\n",
       "7                               Schindler's List      NaN\n",
       "8                                      Inception      NaN\n",
       "9                                     Fight Club      NaN"
      ]
     },
     "execution_count": 19,
     "metadata": {},
     "output_type": "execute_result"
    }
   ],
   "source": [
    "df['Runtime'] = pd.to_numeric(df['Runtime'], errors='coerce')\n",
    "top_10_runtime = df.nlargest(10, 'Runtime')[['Series_Title', 'Runtime']]\n",
    "top_10_runtime"
   ]
  },
  {
   "cell_type": "code",
   "execution_count": 20,
   "id": "b46c2a7d",
   "metadata": {
    "execution": {
     "iopub.execute_input": "2024-02-03T19:31:19.166929Z",
     "iopub.status.busy": "2024-02-03T19:31:19.166103Z",
     "iopub.status.idle": "2024-02-03T19:31:19.521701Z",
     "shell.execute_reply": "2024-02-03T19:31:19.520174Z"
    },
    "papermill": {
     "duration": 0.384143,
     "end_time": "2024-02-03T19:31:19.524424",
     "exception": false,
     "start_time": "2024-02-03T19:31:19.140281",
     "status": "completed"
    },
    "tags": []
   },
   "outputs": [
    {
     "data": {
      "text/plain": [
       "<Axes: xlabel='Runtime', ylabel='Series_Title'>"
      ]
     },
     "execution_count": 20,
     "metadata": {},
     "output_type": "execute_result"
    },
    {
     "data": {
      "image/png": "[encoded data removed]",
      "text/plain": [
       "<Figure size 640x480 with 1 Axes>"
      ]
     },
     "metadata": {},
     "output_type": "display_data"
    }
   ],
   "source": [
    "sns.barplot(x='Runtime', y='Series_Title', data=top_10_runtime, palette='viridis')"
   ]
  },
  {
   "cell_type": "markdown",
   "id": "1289e920",
   "metadata": {
    "papermill": {
     "duration": 0.026686,
     "end_time": "2024-02-03T19:31:19.576958",
     "exception": false,
     "start_time": "2024-02-03T19:31:19.550272",
     "status": "completed"
    },
    "tags": []
   },
   "source": [
    "14) Display Number of movies per year"
   ]
  },
  {
   "cell_type": "code",
   "execution_count": 21,
   "id": "bd068f44",
   "metadata": {
    "execution": {
     "iopub.execute_input": "2024-02-03T19:31:19.629549Z",
     "iopub.status.busy": "2024-02-03T19:31:19.628821Z",
     "iopub.status.idle": "2024-02-03T19:31:19.637790Z",
     "shell.execute_reply": "2024-02-03T19:31:19.636586Z"
    },
    "papermill": {
     "duration": 0.038012,
     "end_time": "2024-02-03T19:31:19.640027",
     "exception": false,
     "start_time": "2024-02-03T19:31:19.602015",
     "status": "completed"
    },
    "tags": []
   },
   "outputs": [
    {
     "data": {
      "text/plain": [
       "<bound method IndexOpsMixin.value_counts of 0      1994\n",
       "1      1972\n",
       "2      2008\n",
       "3      1974\n",
       "4      1957\n",
       "       ... \n",
       "995    1961\n",
       "996    1956\n",
       "997    1953\n",
       "998    1944\n",
       "999    1935\n",
       "Name: Released_Year, Length: 1000, dtype: object>"
      ]
     },
     "execution_count": 21,
     "metadata": {},
     "output_type": "execute_result"
    }
   ],
   "source": [
    "df['Released_Year'].value_counts"
   ]
  },
  {
   "cell_type": "code",
   "execution_count": 22,
   "id": "4963ccd7",
   "metadata": {
    "execution": {
     "iopub.execute_input": "2024-02-03T19:31:19.692446Z",
     "iopub.status.busy": "2024-02-03T19:31:19.691755Z",
     "iopub.status.idle": "2024-02-03T19:31:20.050603Z",
     "shell.execute_reply": "2024-02-03T19:31:20.049162Z"
    },
    "papermill": {
     "duration": 0.388291,
     "end_time": "2024-02-03T19:31:20.053345",
     "exception": false,
     "start_time": "2024-02-03T19:31:19.665054",
     "status": "completed"
    },
    "tags": []
   },
   "outputs": [
    {
     "data": {
      "image/png": "[encoded data removed]",
      "text/plain": [
       "<Figure size 640x480 with 1 Axes>"
      ]
     },
     "metadata": {},
     "output_type": "display_data"
    }
   ],
   "source": [
    "sns.countplot(x='Released_Year',data=df.head(10))\n",
    "sns.countplot(x='Released_Year', data=df.head(10))\n",
    "plt.title('Count of Movies  Released Each Year')\n",
    "plt.xlabel('Released Year')\n",
    "plt.ylabel('Count')\n",
    "plt.show()"
   ]
  },
  {
   "cell_type": "markdown",
   "id": "7f8fc399",
   "metadata": {
    "papermill": {
     "duration": 0.025626,
     "end_time": "2024-02-03T19:31:20.105606",
     "exception": false,
     "start_time": "2024-02-03T19:31:20.079980",
     "status": "completed"
    },
    "tags": []
   },
   "source": [
    "15) Find most Popular Movies Title (Higest Meta Score)"
   ]
  },
  {
   "cell_type": "code",
   "execution_count": 23,
   "id": "1ad270e3",
   "metadata": {
    "execution": {
     "iopub.execute_input": "2024-02-03T19:31:20.160733Z",
     "iopub.status.busy": "2024-02-03T19:31:20.160274Z",
     "iopub.status.idle": "2024-02-03T19:31:20.169457Z",
     "shell.execute_reply": "2024-02-03T19:31:20.168224Z"
    },
    "papermill": {
     "duration": 0.040175,
     "end_time": "2024-02-03T19:31:20.172701",
     "exception": false,
     "start_time": "2024-02-03T19:31:20.132526",
     "status": "completed"
    },
    "tags": []
   },
   "outputs": [
    {
     "name": "stdout",
     "output_type": "stream",
     "text": [
      "Most Popular Movies based on Meta Score:\n",
      "1               The Godfather\n",
      "50                 Casablanca\n",
      "81                Rear Window\n",
      "116        Lawrence of Arabia\n",
      "119                   Vertigo\n",
      "124              Citizen Kane\n",
      "260     Trois couleurs: Rouge\n",
      "274       Fanny och Alexander\n",
      "423            Il conformista\n",
      "440    Sweet Smell of Success\n",
      "491                   Boyhood\n",
      "559                 Notorious\n",
      "Name: Series_Title, dtype: object\n"
     ]
    }
   ],
   "source": [
    "most_popular_movies = df[df['Meta_score'] == df['Meta_score'].max()]['Series_Title']\n",
    "print(\"Most Popular Movies based on Meta Score:\")\n",
    "print(most_popular_movies)"
   ]
  },
  {
   "cell_type": "markdown",
   "id": "637e026a",
   "metadata": {
    "papermill": {
     "duration": 0.025581,
     "end_time": "2024-02-03T19:31:20.224719",
     "exception": false,
     "start_time": "2024-02-03T19:31:20.199138",
     "status": "completed"
    },
    "tags": []
   },
   "source": [
    "16) Display top 10 highest rated movies titles and its directors."
   ]
  },
  {
   "cell_type": "code",
   "execution_count": 24,
   "id": "cc4d1972",
   "metadata": {
    "execution": {
     "iopub.execute_input": "2024-02-03T19:31:20.281102Z",
     "iopub.status.busy": "2024-02-03T19:31:20.280008Z",
     "iopub.status.idle": "2024-02-03T19:31:20.299950Z",
     "shell.execute_reply": "2024-02-03T19:31:20.298646Z"
    },
    "papermill": {
     "duration": 0.051734,
     "end_time": "2024-02-03T19:31:20.302662",
     "exception": false,
     "start_time": "2024-02-03T19:31:20.250928",
     "status": "completed"
    },
    "tags": []
   },
   "outputs": [
    {
     "data": {
      "text/html": [
       "<div>\n",
       "<style scoped>\n",
       "    .dataframe tbody tr th:only-of-type {\n",
       "        vertical-align: middle;\n",
       "    }\n",
       "\n",
       "    .dataframe tbody tr th {\n",
       "        vertical-align: top;\n",
       "    }\n",
       "\n",
       "    .dataframe thead th {\n",
       "        text-align: right;\n",
       "    }\n",
       "</style>\n",
       "<table border=\"1\" class=\"dataframe\">\n",
       "  <thead>\n",
       "    <tr style=\"text-align: right;\">\n",
       "      <th></th>\n",
       "      <th>Series_Title</th>\n",
       "      <th>IMDB_Rating</th>\n",
       "      <th>Director</th>\n",
       "    </tr>\n",
       "  </thead>\n",
       "  <tbody>\n",
       "    <tr>\n",
       "      <th>0</th>\n",
       "      <td>The Shawshank Redemption</td>\n",
       "      <td>9.3</td>\n",
       "      <td>Frank Darabont</td>\n",
       "    </tr>\n",
       "    <tr>\n",
       "      <th>1</th>\n",
       "      <td>The Godfather</td>\n",
       "      <td>9.2</td>\n",
       "      <td>Francis Ford Coppola</td>\n",
       "    </tr>\n",
       "    <tr>\n",
       "      <th>2</th>\n",
       "      <td>The Dark Knight</td>\n",
       "      <td>9.0</td>\n",
       "      <td>Christopher Nolan</td>\n",
       "    </tr>\n",
       "    <tr>\n",
       "      <th>3</th>\n",
       "      <td>The Godfather: Part II</td>\n",
       "      <td>9.0</td>\n",
       "      <td>Francis Ford Coppola</td>\n",
       "    </tr>\n",
       "    <tr>\n",
       "      <th>4</th>\n",
       "      <td>12 Angry Men</td>\n",
       "      <td>9.0</td>\n",
       "      <td>Sidney Lumet</td>\n",
       "    </tr>\n",
       "    <tr>\n",
       "      <th>5</th>\n",
       "      <td>The Lord of the Rings: The Return of the King</td>\n",
       "      <td>8.9</td>\n",
       "      <td>Peter Jackson</td>\n",
       "    </tr>\n",
       "    <tr>\n",
       "      <th>6</th>\n",
       "      <td>Pulp Fiction</td>\n",
       "      <td>8.9</td>\n",
       "      <td>Quentin Tarantino</td>\n",
       "    </tr>\n",
       "    <tr>\n",
       "      <th>7</th>\n",
       "      <td>Schindler's List</td>\n",
       "      <td>8.9</td>\n",
       "      <td>Steven Spielberg</td>\n",
       "    </tr>\n",
       "    <tr>\n",
       "      <th>8</th>\n",
       "      <td>Inception</td>\n",
       "      <td>8.8</td>\n",
       "      <td>Christopher Nolan</td>\n",
       "    </tr>\n",
       "    <tr>\n",
       "      <th>9</th>\n",
       "      <td>Fight Club</td>\n",
       "      <td>8.8</td>\n",
       "      <td>David Fincher</td>\n",
       "    </tr>\n",
       "  </tbody>\n",
       "</table>\n",
       "</div>"
      ],
      "text/plain": [
       "                                    Series_Title  IMDB_Rating  \\\n",
       "0                       The Shawshank Redemption          9.3   \n",
       "1                                  The Godfather          9.2   \n",
       "2                                The Dark Knight          9.0   \n",
       "3                         The Godfather: Part II          9.0   \n",
       "4                                   12 Angry Men          9.0   \n",
       "5  The Lord of the Rings: The Return of the King          8.9   \n",
       "6                                   Pulp Fiction          8.9   \n",
       "7                               Schindler's List          8.9   \n",
       "8                                      Inception          8.8   \n",
       "9                                     Fight Club          8.8   \n",
       "\n",
       "               Director  \n",
       "0        Frank Darabont  \n",
       "1  Francis Ford Coppola  \n",
       "2     Christopher Nolan  \n",
       "3  Francis Ford Coppola  \n",
       "4          Sidney Lumet  \n",
       "5         Peter Jackson  \n",
       "6     Quentin Tarantino  \n",
       "7      Steven Spielberg  \n",
       "8     Christopher Nolan  \n",
       "9         David Fincher  "
      ]
     },
     "execution_count": 24,
     "metadata": {},
     "output_type": "execute_result"
    }
   ],
   "source": [
    "top_10_rating = df.nlargest(10, 'IMDB_Rating')[['Series_Title', 'IMDB_Rating','Director']]\n",
    "top_10_rating"
   ]
  },
  {
   "cell_type": "code",
   "execution_count": 25,
   "id": "7f8f5b4a",
   "metadata": {
    "execution": {
     "iopub.execute_input": "2024-02-03T19:31:20.358533Z",
     "iopub.status.busy": "2024-02-03T19:31:20.357151Z",
     "iopub.status.idle": "2024-02-03T19:31:21.579812Z",
     "shell.execute_reply": "2024-02-03T19:31:21.578552Z"
    },
    "papermill": {
     "duration": 1.254403,
     "end_time": "2024-02-03T19:31:21.583193",
     "exception": false,
     "start_time": "2024-02-03T19:31:20.328790",
     "status": "completed"
    },
    "tags": []
   },
   "outputs": [
    {
     "data": {
      "text/plain": [
       "<Axes: xlabel='IMDB_Rating', ylabel='Series_Title'>"
      ]
     },
     "execution_count": 25,
     "metadata": {},
     "output_type": "execute_result"
    },
    {
     "data": {
      "image/png": "[encoded data removed]",
      "text/plain": [
       "<Figure size 640x480 with 1 Axes>"
      ]
     },
     "metadata": {},
     "output_type": "display_data"
    }
   ],
   "source": [
    "sns.barplot(x='IMDB_Rating', y='Series_Title', data=top_10_rating,hue='Director',dodge=False) "
   ]
  },
  {
   "cell_type": "markdown",
   "id": "56fcef9b",
   "metadata": {
    "papermill": {
     "duration": 0.027679,
     "end_time": "2024-02-03T19:31:21.640122",
     "exception": false,
     "start_time": "2024-02-03T19:31:21.612443",
     "status": "completed"
    },
    "tags": []
   },
   "source": [
    "17) Find Average Rating of Movies Year Wise"
   ]
  },
  {
   "cell_type": "code",
   "execution_count": 26,
   "id": "54cee305",
   "metadata": {
    "execution": {
     "iopub.execute_input": "2024-02-03T19:31:21.698832Z",
     "iopub.status.busy": "2024-02-03T19:31:21.698359Z",
     "iopub.status.idle": "2024-02-03T19:31:21.710672Z",
     "shell.execute_reply": "2024-02-03T19:31:21.709613Z"
    },
    "papermill": {
     "duration": 0.044362,
     "end_time": "2024-02-03T19:31:21.713136",
     "exception": false,
     "start_time": "2024-02-03T19:31:21.668774",
     "status": "completed"
    },
    "tags": []
   },
   "outputs": [
    {
     "data": {
      "text/plain": [
       "Released_Year\n",
       "1920    8.100000\n",
       "1921    8.300000\n",
       "1922    7.900000\n",
       "1924    8.200000\n",
       "1925    8.100000\n",
       "          ...   \n",
       "2017    7.890909\n",
       "2018    7.994737\n",
       "2019    7.995652\n",
       "2020    8.133333\n",
       "PG      7.600000\n",
       "Name: IMDB_Rating, Length: 100, dtype: float64"
      ]
     },
     "execution_count": 26,
     "metadata": {},
     "output_type": "execute_result"
    }
   ],
   "source": [
    "Averagerating=df.groupby('Released_Year')['IMDB_Rating'].mean()\n",
    "Averagerating"
   ]
  },
  {
   "cell_type": "markdown",
   "id": "08c87e32",
   "metadata": {
    "papermill": {
     "duration": 0.028636,
     "end_time": "2024-02-03T19:31:21.771387",
     "exception": false,
     "start_time": "2024-02-03T19:31:21.742751",
     "status": "completed"
    },
    "tags": []
   },
   "source": [
    "18)Does Rating Affect the Meta_score."
   ]
  },
  {
   "cell_type": "code",
   "execution_count": 27,
   "id": "b13cd349",
   "metadata": {
    "execution": {
     "iopub.execute_input": "2024-02-03T19:31:21.831698Z",
     "iopub.status.busy": "2024-02-03T19:31:21.830762Z",
     "iopub.status.idle": "2024-02-03T19:31:22.193220Z",
     "shell.execute_reply": "2024-02-03T19:31:22.191932Z"
    },
    "papermill": {
     "duration": 0.396705,
     "end_time": "2024-02-03T19:31:22.196430",
     "exception": false,
     "start_time": "2024-02-03T19:31:21.799725",
     "status": "completed"
    },
    "tags": []
   },
   "outputs": [
    {
     "data": {
      "text/plain": [
       "<Axes: xlabel='IMDB_Rating', ylabel='Meta_score'>"
      ]
     },
     "execution_count": 27,
     "metadata": {},
     "output_type": "execute_result"
    },
    {
     "data": {
      "image/png": "[encoded data removed]",
      "text/plain": [
       "<Figure size 640x480 with 1 Axes>"
      ]
     },
     "metadata": {},
     "output_type": "display_data"
    }
   ],
   "source": [
    "sns.scatterplot(x='IMDB_Rating',y='Meta_score',data=df)"
   ]
  },
  {
   "cell_type": "markdown",
   "id": "e08f7a8a",
   "metadata": {
    "papermill": {
     "duration": 0.027765,
     "end_time": "2024-02-03T19:31:22.252977",
     "exception": false,
     "start_time": "2024-02-03T19:31:22.225212",
     "status": "completed"
    },
    "tags": []
   },
   "source": [
    "19) CLassify Movies based on Rating (Excellent,Good,and Average)."
   ]
  },
  {
   "cell_type": "code",
   "execution_count": 28,
   "id": "b48250ea",
   "metadata": {
    "execution": {
     "iopub.execute_input": "2024-02-03T19:31:22.313606Z",
     "iopub.status.busy": "2024-02-03T19:31:22.312756Z",
     "iopub.status.idle": "2024-02-03T19:31:22.319136Z",
     "shell.execute_reply": "2024-02-03T19:31:22.318199Z"
    },
    "papermill": {
     "duration": 0.040048,
     "end_time": "2024-02-03T19:31:22.321607",
     "exception": false,
     "start_time": "2024-02-03T19:31:22.281559",
     "status": "completed"
    },
    "tags": []
   },
   "outputs": [],
   "source": [
    "def Rating(Rating):\n",
    "    if Rating >=7.0:\n",
    "        return 'Excellent'\n",
    "    elif  Rating>=6.0:\n",
    "        return 'Good'\n",
    "    else:\n",
    "        return 'Average'\n",
    "    \n",
    "        "
   ]
  },
  {
   "cell_type": "code",
   "execution_count": 29,
   "id": "d0593b15",
   "metadata": {
    "execution": {
     "iopub.execute_input": "2024-02-03T19:31:22.380127Z",
     "iopub.status.busy": "2024-02-03T19:31:22.379646Z",
     "iopub.status.idle": "2024-02-03T19:31:22.405784Z",
     "shell.execute_reply": "2024-02-03T19:31:22.404442Z"
    },
    "papermill": {
     "duration": 0.05882,
     "end_time": "2024-02-03T19:31:22.408700",
     "exception": false,
     "start_time": "2024-02-03T19:31:22.349880",
     "status": "completed"
    },
    "tags": []
   },
   "outputs": [
    {
     "data": {
      "text/html": [
       "<div>\n",
       "<style scoped>\n",
       "    .dataframe tbody tr th:only-of-type {\n",
       "        vertical-align: middle;\n",
       "    }\n",
       "\n",
       "    .dataframe tbody tr th {\n",
       "        vertical-align: top;\n",
       "    }\n",
       "\n",
       "    .dataframe thead th {\n",
       "        text-align: right;\n",
       "    }\n",
       "</style>\n",
       "<table border=\"1\" class=\"dataframe\">\n",
       "  <thead>\n",
       "    <tr style=\"text-align: right;\">\n",
       "      <th></th>\n",
       "      <th>Poster_Link</th>\n",
       "      <th>Series_Title</th>\n",
       "      <th>Released_Year</th>\n",
       "      <th>Certificate</th>\n",
       "      <th>Runtime</th>\n",
       "      <th>Genre</th>\n",
       "      <th>IMDB_Rating</th>\n",
       "      <th>Overview</th>\n",
       "      <th>Meta_score</th>\n",
       "      <th>Director</th>\n",
       "      <th>Star1</th>\n",
       "      <th>Star2</th>\n",
       "      <th>Star3</th>\n",
       "      <th>Star4</th>\n",
       "      <th>No_of_Votes</th>\n",
       "      <th>Gross</th>\n",
       "      <th>Rating_Cat</th>\n",
       "    </tr>\n",
       "  </thead>\n",
       "  <tbody>\n",
       "    <tr>\n",
       "      <th>0</th>\n",
       "      <td>https://m.media-amazon.com/images/M/MV5BMDFkYT...</td>\n",
       "      <td>The Shawshank Redemption</td>\n",
       "      <td>1994</td>\n",
       "      <td>A</td>\n",
       "      <td>NaN</td>\n",
       "      <td>Drama</td>\n",
       "      <td>9.3</td>\n",
       "      <td>Two imprisoned men bond over a number of years...</td>\n",
       "      <td>80.0</td>\n",
       "      <td>Frank Darabont</td>\n",
       "      <td>Tim Robbins</td>\n",
       "      <td>Morgan Freeman</td>\n",
       "      <td>Bob Gunton</td>\n",
       "      <td>William Sadler</td>\n",
       "      <td>2343110</td>\n",
       "      <td>28,341,469</td>\n",
       "      <td>Excellent</td>\n",
       "    </tr>\n",
       "    <tr>\n",
       "      <th>1</th>\n",
       "      <td>https://m.media-amazon.com/images/M/MV5BM2MyNj...</td>\n",
       "      <td>The Godfather</td>\n",
       "      <td>1972</td>\n",
       "      <td>A</td>\n",
       "      <td>NaN</td>\n",
       "      <td>Crime, Drama</td>\n",
       "      <td>9.2</td>\n",
       "      <td>An organized crime dynasty's aging patriarch t...</td>\n",
       "      <td>100.0</td>\n",
       "      <td>Francis Ford Coppola</td>\n",
       "      <td>Marlon Brando</td>\n",
       "      <td>Al Pacino</td>\n",
       "      <td>James Caan</td>\n",
       "      <td>Diane Keaton</td>\n",
       "      <td>1620367</td>\n",
       "      <td>134,966,411</td>\n",
       "      <td>Excellent</td>\n",
       "    </tr>\n",
       "    <tr>\n",
       "      <th>2</th>\n",
       "      <td>https://m.media-amazon.com/images/M/MV5BMTMxNT...</td>\n",
       "      <td>The Dark Knight</td>\n",
       "      <td>2008</td>\n",
       "      <td>UA</td>\n",
       "      <td>NaN</td>\n",
       "      <td>Action, Crime, Drama</td>\n",
       "      <td>9.0</td>\n",
       "      <td>When the menace known as the Joker wreaks havo...</td>\n",
       "      <td>84.0</td>\n",
       "      <td>Christopher Nolan</td>\n",
       "      <td>Christian Bale</td>\n",
       "      <td>Heath Ledger</td>\n",
       "      <td>Aaron Eckhart</td>\n",
       "      <td>Michael Caine</td>\n",
       "      <td>2303232</td>\n",
       "      <td>534,858,444</td>\n",
       "      <td>Excellent</td>\n",
       "    </tr>\n",
       "    <tr>\n",
       "      <th>3</th>\n",
       "      <td>https://m.media-amazon.com/images/M/MV5BMWMwMG...</td>\n",
       "      <td>The Godfather: Part II</td>\n",
       "      <td>1974</td>\n",
       "      <td>A</td>\n",
       "      <td>NaN</td>\n",
       "      <td>Crime, Drama</td>\n",
       "      <td>9.0</td>\n",
       "      <td>The early life and career of Vito Corleone in ...</td>\n",
       "      <td>90.0</td>\n",
       "      <td>Francis Ford Coppola</td>\n",
       "      <td>Al Pacino</td>\n",
       "      <td>Robert De Niro</td>\n",
       "      <td>Robert Duvall</td>\n",
       "      <td>Diane Keaton</td>\n",
       "      <td>1129952</td>\n",
       "      <td>57,300,000</td>\n",
       "      <td>Excellent</td>\n",
       "    </tr>\n",
       "    <tr>\n",
       "      <th>4</th>\n",
       "      <td>https://m.media-amazon.com/images/M/MV5BMWU4N2...</td>\n",
       "      <td>12 Angry Men</td>\n",
       "      <td>1957</td>\n",
       "      <td>U</td>\n",
       "      <td>NaN</td>\n",
       "      <td>Crime, Drama</td>\n",
       "      <td>9.0</td>\n",
       "      <td>A jury holdout attempts to prevent a miscarria...</td>\n",
       "      <td>96.0</td>\n",
       "      <td>Sidney Lumet</td>\n",
       "      <td>Henry Fonda</td>\n",
       "      <td>Lee J. Cobb</td>\n",
       "      <td>Martin Balsam</td>\n",
       "      <td>John Fiedler</td>\n",
       "      <td>689845</td>\n",
       "      <td>4,360,000</td>\n",
       "      <td>Excellent</td>\n",
       "    </tr>\n",
       "  </tbody>\n",
       "</table>\n",
       "</div>"
      ],
      "text/plain": [
       "                                         Poster_Link  \\\n",
       "0  https://m.media-amazon.com/images/M/MV5BMDFkYT...   \n",
       "1  https://m.media-amazon.com/images/M/MV5BM2MyNj...   \n",
       "2  https://m.media-amazon.com/images/M/MV5BMTMxNT...   \n",
       "3  https://m.media-amazon.com/images/M/MV5BMWMwMG...   \n",
       "4  https://m.media-amazon.com/images/M/MV5BMWU4N2...   \n",
       "\n",
       "               Series_Title Released_Year Certificate  Runtime  \\\n",
       "0  The Shawshank Redemption          1994           A      NaN   \n",
       "1             The Godfather          1972           A      NaN   \n",
       "2           The Dark Knight          2008          UA      NaN   \n",
       "3    The Godfather: Part II          1974           A      NaN   \n",
       "4              12 Angry Men          1957           U      NaN   \n",
       "\n",
       "                  Genre  IMDB_Rating  \\\n",
       "0                 Drama          9.3   \n",
       "1          Crime, Drama          9.2   \n",
       "2  Action, Crime, Drama          9.0   \n",
       "3          Crime, Drama          9.0   \n",
       "4          Crime, Drama          9.0   \n",
       "\n",
       "                                            Overview  Meta_score  \\\n",
       "0  Two imprisoned men bond over a number of years...        80.0   \n",
       "1  An organized crime dynasty's aging patriarch t...       100.0   \n",
       "2  When the menace known as the Joker wreaks havo...        84.0   \n",
       "3  The early life and career of Vito Corleone in ...        90.0   \n",
       "4  A jury holdout attempts to prevent a miscarria...        96.0   \n",
       "\n",
       "               Director           Star1           Star2          Star3  \\\n",
       "0        Frank Darabont     Tim Robbins  Morgan Freeman     Bob Gunton   \n",
       "1  Francis Ford Coppola   Marlon Brando       Al Pacino     James Caan   \n",
       "2     Christopher Nolan  Christian Bale    Heath Ledger  Aaron Eckhart   \n",
       "3  Francis Ford Coppola       Al Pacino  Robert De Niro  Robert Duvall   \n",
       "4          Sidney Lumet     Henry Fonda     Lee J. Cobb  Martin Balsam   \n",
       "\n",
       "            Star4  No_of_Votes        Gross Rating_Cat  \n",
       "0  William Sadler      2343110   28,341,469  Excellent  \n",
       "1    Diane Keaton      1620367  134,966,411  Excellent  \n",
       "2   Michael Caine      2303232  534,858,444  Excellent  \n",
       "3    Diane Keaton      1129952   57,300,000  Excellent  \n",
       "4    John Fiedler       689845    4,360,000  Excellent  "
      ]
     },
     "execution_count": 29,
     "metadata": {},
     "output_type": "execute_result"
    }
   ],
   "source": [
    "df['Rating_Cat']=df['IMDB_Rating'].apply(Rating)\n",
    "df.head()\n"
   ]
  },
  {
   "cell_type": "markdown",
   "id": "ef181e88",
   "metadata": {
    "papermill": {
     "duration": 0.028182,
     "end_time": "2024-02-03T19:31:22.465952",
     "exception": false,
     "start_time": "2024-02-03T19:31:22.437770",
     "status": "completed"
    },
    "tags": []
   },
   "source": [
    "20) Count Number Of Action Movies ."
   ]
  },
  {
   "cell_type": "code",
   "execution_count": 30,
   "id": "5d50e6fb",
   "metadata": {
    "execution": {
     "iopub.execute_input": "2024-02-03T19:31:22.525147Z",
     "iopub.status.busy": "2024-02-03T19:31:22.524679Z",
     "iopub.status.idle": "2024-02-03T19:31:22.535220Z",
     "shell.execute_reply": "2024-02-03T19:31:22.533650Z"
    },
    "papermill": {
     "duration": 0.043625,
     "end_time": "2024-02-03T19:31:22.538168",
     "exception": false,
     "start_time": "2024-02-03T19:31:22.494543",
     "status": "completed"
    },
    "tags": []
   },
   "outputs": [
    {
     "data": {
      "text/plain": [
       "189"
      ]
     },
     "execution_count": 30,
     "metadata": {},
     "output_type": "execute_result"
    }
   ],
   "source": [
    "len(df[df['Genre'].str.contains('Action',case=False)])"
   ]
  },
  {
   "cell_type": "markdown",
   "id": "15310bd3",
   "metadata": {
    "papermill": {
     "duration": 0.028729,
     "end_time": "2024-02-03T19:31:22.595956",
     "exception": false,
     "start_time": "2024-02-03T19:31:22.567227",
     "status": "completed"
    },
    "tags": []
   },
   "source": [
    "21) Find Unique Values From Genre."
   ]
  },
  {
   "cell_type": "code",
   "execution_count": 31,
   "id": "d4136ce3",
   "metadata": {
    "execution": {
     "iopub.execute_input": "2024-02-03T19:31:22.655459Z",
     "iopub.status.busy": "2024-02-03T19:31:22.654990Z",
     "iopub.status.idle": "2024-02-03T19:31:22.661759Z",
     "shell.execute_reply": "2024-02-03T19:31:22.660786Z"
    },
    "papermill": {
     "duration": 0.039153,
     "end_time": "2024-02-03T19:31:22.663855",
     "exception": false,
     "start_time": "2024-02-03T19:31:22.624702",
     "status": "completed"
    },
    "tags": []
   },
   "outputs": [],
   "source": [
    "\n",
    "Genre_list=[]\n",
    "for  i in df['Genre']:\n",
    "    Genre_list.append(i.split(','))\n"
   ]
  },
  {
   "cell_type": "code",
   "execution_count": 32,
   "id": "4bdda2d6",
   "metadata": {
    "execution": {
     "iopub.execute_input": "2024-02-03T19:31:22.723405Z",
     "iopub.status.busy": "2024-02-03T19:31:22.722741Z",
     "iopub.status.idle": "2024-02-03T19:31:22.728050Z",
     "shell.execute_reply": "2024-02-03T19:31:22.727136Z"
    },
    "papermill": {
     "duration": 0.038284,
     "end_time": "2024-02-03T19:31:22.730540",
     "exception": false,
     "start_time": "2024-02-03T19:31:22.692256",
     "status": "completed"
    },
    "tags": []
   },
   "outputs": [],
   "source": [
    "one_list=[]\n",
    "for j in  Genre_list:\n",
    "    for k in j :\n",
    "        one_list.append(k)"
   ]
  },
  {
   "cell_type": "code",
   "execution_count": 33,
   "id": "f67e6991",
   "metadata": {
    "execution": {
     "iopub.execute_input": "2024-02-03T19:31:22.791557Z",
     "iopub.status.busy": "2024-02-03T19:31:22.791132Z",
     "iopub.status.idle": "2024-02-03T19:31:22.796755Z",
     "shell.execute_reply": "2024-02-03T19:31:22.795615Z"
    },
    "papermill": {
     "duration": 0.038881,
     "end_time": "2024-02-03T19:31:22.799181",
     "exception": false,
     "start_time": "2024-02-03T19:31:22.760300",
     "status": "completed"
    },
    "tags": []
   },
   "outputs": [],
   "source": [
    "uni_Genre=[]\n",
    "for j in one_list:\n",
    "    if j not in uni_Genre:\n",
    "        uni_Genre.append(j)"
   ]
  },
  {
   "cell_type": "code",
   "execution_count": 34,
   "id": "73540ac8",
   "metadata": {
    "execution": {
     "iopub.execute_input": "2024-02-03T19:31:22.859042Z",
     "iopub.status.busy": "2024-02-03T19:31:22.858323Z",
     "iopub.status.idle": "2024-02-03T19:31:22.865613Z",
     "shell.execute_reply": "2024-02-03T19:31:22.864371Z"
    },
    "papermill": {
     "duration": 0.040722,
     "end_time": "2024-02-03T19:31:22.868623",
     "exception": false,
     "start_time": "2024-02-03T19:31:22.827901",
     "status": "completed"
    },
    "tags": []
   },
   "outputs": [
    {
     "data": {
      "text/plain": [
       "['Drama',\n",
       " 'Crime',\n",
       " ' Drama',\n",
       " 'Action',\n",
       " ' Crime',\n",
       " ' Adventure',\n",
       " 'Biography',\n",
       " ' History',\n",
       " ' Sci-Fi',\n",
       " ' Romance',\n",
       " 'Western',\n",
       " ' Fantasy',\n",
       " 'Comedy',\n",
       " ' Thriller',\n",
       " 'Adventure',\n",
       " 'Animation',\n",
       " ' Family',\n",
       " ' War',\n",
       " ' Mystery',\n",
       " ' Music',\n",
       " ' Comedy',\n",
       " 'Horror',\n",
       " ' Biography',\n",
       " ' Action',\n",
       " ' Western',\n",
       " 'Mystery',\n",
       " ' Horror',\n",
       " ' Musical',\n",
       " ' Film-Noir',\n",
       " ' Sport',\n",
       " 'Film-Noir',\n",
       " 'Fantasy',\n",
       " 'Family',\n",
       " 'Thriller']"
      ]
     },
     "execution_count": 34,
     "metadata": {},
     "output_type": "execute_result"
    }
   ],
   "source": [
    "uni_Genre"
   ]
  },
  {
   "cell_type": "markdown",
   "id": "7a716771",
   "metadata": {
    "papermill": {
     "duration": 0.029573,
     "end_time": "2024-02-03T19:31:22.927374",
     "exception": false,
     "start_time": "2024-02-03T19:31:22.897801",
     "status": "completed"
    },
    "tags": []
   },
   "source": [
    "22) How Many Series Of Genre were Made."
   ]
  },
  {
   "cell_type": "code",
   "execution_count": 35,
   "id": "a88c6375",
   "metadata": {
    "execution": {
     "iopub.execute_input": "2024-02-03T19:31:22.988680Z",
     "iopub.status.busy": "2024-02-03T19:31:22.988042Z",
     "iopub.status.idle": "2024-02-03T19:31:22.994405Z",
     "shell.execute_reply": "2024-02-03T19:31:22.993405Z"
    },
    "papermill": {
     "duration": 0.039965,
     "end_time": "2024-02-03T19:31:22.996707",
     "exception": false,
     "start_time": "2024-02-03T19:31:22.956742",
     "status": "completed"
    },
    "tags": []
   },
   "outputs": [],
   "source": [
    "one_list=[]\n",
    "for j in  Genre_list:\n",
    "    for k in j :\n",
    "        one_list.append(k)"
   ]
  },
  {
   "cell_type": "code",
   "execution_count": 36,
   "id": "a40e80d5",
   "metadata": {
    "execution": {
     "iopub.execute_input": "2024-02-03T19:31:23.058114Z",
     "iopub.status.busy": "2024-02-03T19:31:23.057289Z",
     "iopub.status.idle": "2024-02-03T19:31:23.066324Z",
     "shell.execute_reply": "2024-02-03T19:31:23.065410Z"
    },
    "papermill": {
     "duration": 0.042307,
     "end_time": "2024-02-03T19:31:23.068511",
     "exception": false,
     "start_time": "2024-02-03T19:31:23.026204",
     "status": "completed"
    },
    "tags": []
   },
   "outputs": [
    {
     "data": {
      "text/plain": [
       "Counter({' Drama': 435,\n",
       "         'Drama': 289,\n",
       "         'Action': 172,\n",
       "         'Comedy': 155,\n",
       "         ' Thriller': 136,\n",
       "         ' Romance': 125,\n",
       "         ' Adventure': 124,\n",
       "         'Crime': 107,\n",
       "         ' Crime': 102,\n",
       "         'Biography': 88,\n",
       "         ' Mystery': 87,\n",
       "         'Animation': 82,\n",
       "         ' Comedy': 78,\n",
       "         'Adventure': 72,\n",
       "         ' Sci-Fi': 67,\n",
       "         ' Fantasy': 64,\n",
       "         ' History': 56,\n",
       "         ' Family': 54,\n",
       "         ' War': 51,\n",
       "         ' Music': 35,\n",
       "         ' Biography': 21,\n",
       "         ' Horror': 21,\n",
       "         ' Sport': 19,\n",
       "         ' Action': 17,\n",
       "         ' Musical': 17,\n",
       "         ' Western': 16,\n",
       "         ' Film-Noir': 16,\n",
       "         'Mystery': 12,\n",
       "         'Horror': 11,\n",
       "         'Western': 4,\n",
       "         'Film-Noir': 3,\n",
       "         'Fantasy': 2,\n",
       "         'Family': 2,\n",
       "         'Thriller': 1})"
      ]
     },
     "execution_count": 36,
     "metadata": {},
     "output_type": "execute_result"
    }
   ],
   "source": [
    "from collections import Counter\n",
    "Counter(one_list)"
   ]
  },
  {
   "cell_type": "markdown",
   "id": "548e1531",
   "metadata": {
    "papermill": {
     "duration": 0.029616,
     "end_time": "2024-02-03T19:31:23.128448",
     "exception": false,
     "start_time": "2024-02-03T19:31:23.098832",
     "status": "completed"
    },
    "tags": []
   },
   "source": [
    " 23)What is the average IMDb rating for movies with different certificates (e.g., 'A', 'UA')?\n"
   ]
  },
  {
   "cell_type": "code",
   "execution_count": 37,
   "id": "3f13999e",
   "metadata": {
    "execution": {
     "iopub.execute_input": "2024-02-03T19:31:23.190807Z",
     "iopub.status.busy": "2024-02-03T19:31:23.189866Z",
     "iopub.status.idle": "2024-02-03T19:31:23.203523Z",
     "shell.execute_reply": "2024-02-03T19:31:23.202313Z"
    },
    "papermill": {
     "duration": 0.04787,
     "end_time": "2024-02-03T19:31:23.206194",
     "exception": false,
     "start_time": "2024-02-03T19:31:23.158324",
     "status": "completed"
    },
    "tags": []
   },
   "outputs": [
    {
     "data": {
      "text/plain": [
       "Certificate\n",
       "16          8.100000\n",
       "A           7.998985\n",
       "Approved    7.945455\n",
       "G           8.000000\n",
       "GP          7.850000\n",
       "PG          7.927027\n",
       "PG-13       7.797674\n",
       "Passed      8.020588\n",
       "R           7.869863\n",
       "TV-14       8.300000\n",
       "TV-MA       8.100000\n",
       "TV-PG       7.900000\n",
       "U           7.976923\n",
       "U/A         7.600000\n",
       "UA          7.957143\n",
       "Unrated     8.100000\n",
       "Name: IMDB_Rating, dtype: float64"
      ]
     },
     "execution_count": 37,
     "metadata": {},
     "output_type": "execute_result"
    }
   ],
   "source": [
    "average_ratings_by_certificate = df.groupby('Certificate')['IMDB_Rating'].mean()\n",
    "average_ratings_by_certificate"
   ]
  },
  {
   "cell_type": "markdown",
   "id": "4930c2ee",
   "metadata": {
    "papermill": {
     "duration": 0.029248,
     "end_time": "2024-02-03T19:31:23.265387",
     "exception": false,
     "start_time": "2024-02-03T19:31:23.236139",
     "status": "completed"
    },
    "tags": []
   },
   "source": [
    "24)How is the distribution of IMDb ratings across various certificates?"
   ]
  },
  {
   "cell_type": "code",
   "execution_count": 38,
   "id": "1642e6d4",
   "metadata": {
    "execution": {
     "iopub.execute_input": "2024-02-03T19:31:23.328039Z",
     "iopub.status.busy": "2024-02-03T19:31:23.326828Z",
     "iopub.status.idle": "2024-02-03T19:31:23.876315Z",
     "shell.execute_reply": "2024-02-03T19:31:23.875135Z"
    },
    "papermill": {
     "duration": 0.584311,
     "end_time": "2024-02-03T19:31:23.879033",
     "exception": false,
     "start_time": "2024-02-03T19:31:23.294722",
     "status": "completed"
    },
    "tags": []
   },
   "outputs": [
    {
     "data": {
      "image/png": "[encoded data removed]",
      "text/plain": [
       "<Figure size 1000x600 with 1 Axes>"
      ]
     },
     "metadata": {},
     "output_type": "display_data"
    }
   ],
   "source": [
    "plt.figure(figsize=(10, 6))\n",
    "sns.boxplot(x='Certificate', y='IMDB_Rating', data=df, palette='viridis')\n",
    "plt.title('Distribution of IMDb Ratings Across Certificates')\n",
    "plt.xlabel('Certificate')\n",
    "plt.ylabel('IMDb Rating')\n",
    "plt.show()"
   ]
  },
  {
   "cell_type": "markdown",
   "id": "990d2ea6",
   "metadata": {
    "papermill": {
     "duration": 0.03175,
     "end_time": "2024-02-03T19:31:23.941668",
     "exception": false,
     "start_time": "2024-02-03T19:31:23.909918",
     "status": "completed"
    },
    "tags": []
   },
   "source": [
    "25)Are there any outliers or patterns in highly-rated or poorly-rated movies within specific certificates?\n",
    "\n"
   ]
  },
  {
   "cell_type": "code",
   "execution_count": 39,
   "id": "41344ecb",
   "metadata": {
    "execution": {
     "iopub.execute_input": "2024-02-03T19:31:24.005776Z",
     "iopub.status.busy": "2024-02-03T19:31:24.004500Z",
     "iopub.status.idle": "2024-02-03T19:31:27.732666Z",
     "shell.execute_reply": "2024-02-03T19:31:27.731311Z"
    },
    "papermill": {
     "duration": 3.763161,
     "end_time": "2024-02-03T19:31:27.735576",
     "exception": false,
     "start_time": "2024-02-03T19:31:23.972415",
     "status": "completed"
    },
    "tags": []
   },
   "outputs": [
    {
     "name": "stderr",
     "output_type": "stream",
     "text": [
      "/opt/conda/lib/python3.10/site-packages/seaborn/categorical.py:3544: UserWarning: 67.0% of the points cannot be placed; you may want to decrease the size of the markers or use stripplot.\n",
      "  warnings.warn(msg, UserWarning)\n",
      "/opt/conda/lib/python3.10/site-packages/seaborn/categorical.py:3544: UserWarning: 69.1% of the points cannot be placed; you may want to decrease the size of the markers or use stripplot.\n",
      "  warnings.warn(msg, UserWarning)\n",
      "/opt/conda/lib/python3.10/site-packages/seaborn/categorical.py:3544: UserWarning: 75.6% of the points cannot be placed; you may want to decrease the size of the markers or use stripplot.\n",
      "  warnings.warn(msg, UserWarning)\n",
      "/opt/conda/lib/python3.10/site-packages/seaborn/categorical.py:3544: UserWarning: 34.9% of the points cannot be placed; you may want to decrease the size of the markers or use stripplot.\n",
      "  warnings.warn(msg, UserWarning)\n",
      "/opt/conda/lib/python3.10/site-packages/seaborn/categorical.py:3544: UserWarning: 70.5% of the points cannot be placed; you may want to decrease the size of the markers or use stripplot.\n",
      "  warnings.warn(msg, UserWarning)\n",
      "/opt/conda/lib/python3.10/site-packages/seaborn/categorical.py:3544: UserWarning: 18.9% of the points cannot be placed; you may want to decrease the size of the markers or use stripplot.\n",
      "  warnings.warn(msg, UserWarning)\n",
      "/opt/conda/lib/python3.10/site-packages/seaborn/categorical.py:3544: UserWarning: 8.8% of the points cannot be placed; you may want to decrease the size of the markers or use stripplot.\n",
      "  warnings.warn(msg, UserWarning)\n"
     ]
    },
    {
     "data": {
      "image/png": "[encoded data removed]",
      "text/plain": [
       "<Figure size 1200x800 with 1 Axes>"
      ]
     },
     "metadata": {},
     "output_type": "display_data"
    }
   ],
   "source": [
    "plt.figure(figsize=(12, 8))\n",
    "sns.violinplot(x='Certificate', y='IMDB_Rating', data=df, inner=None, color='lightgray')\n",
    "sns.swarmplot(x='Certificate', y='IMDB_Rating', data=df, color='blue', size=6)\n",
    "\n",
    "plt.title('Distribution of IMDb Ratings Across Certificates with Swarm Plot')\n",
    "plt.xlabel('Certificate')\n",
    "plt.ylabel('IMDb Rating')\n",
    "plt.show()"
   ]
  }
 ],
 "metadata": {
  "kaggle": {
   "accelerator": "none",
   "dataSources": [
    {
     "datasetId": 1131493,
     "sourceId": 1898721,
     "sourceType": "datasetVersion"
    }
   ],
   "dockerImageVersionId": 30626,
   "isGpuEnabled": false,
   "isInternetEnabled": false,
   "language": "python",
   "sourceType": "notebook"
  },
  "kernelspec": {
   "display_name": "Python 3",
   "language": "python",
   "name": "python3"
  },
  "language_info": {
   "codemirror_mode": {
    "name": "ipython",
    "version": 3
   },
   "file_extension": ".py",
   "mimetype": "text/x-python",
   "name": "python",
   "nbconvert_exporter": "python",
   "pygments_lexer": "ipython3",
   "version": "3.10.12"
  },
  "papermill": {
   "default_parameters": {},
   "duration": 19.766443,
   "end_time": "2024-02-03T19:31:28.593056",
   "environment_variables": {},
   "exception": null,
   "input_path": "__notebook__.ipynb",
   "output_path": "__notebook__.ipynb",
   "parameters": {},
   "start_time": "2024-02-03T19:31:08.826613",
   "version": "2.4.0"
  }
 },
 "nbformat": 4,
 "nbformat_minor": 5
}
